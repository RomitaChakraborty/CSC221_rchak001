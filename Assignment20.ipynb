{
  "nbformat": 4,
  "nbformat_minor": 0,
  "metadata": {
    "colab": {
      "provenance": [],
      "include_colab_link": true
    },
    "kernelspec": {
      "name": "python3",
      "display_name": "Python 3"
    },
    "language_info": {
      "name": "python"
    }
  },
  "cells": [
    {
      "cell_type": "markdown",
      "metadata": {
        "id": "view-in-github",
        "colab_type": "text"
      },
      "source": [
        "<a href=\"https://colab.research.google.com/github/RomitaChakraborty/CSC221_rchak001/blob/main/Assignment20.ipynb\" target=\"_parent\"><img src=\"https://colab.research.google.com/assets/colab-badge.svg\" alt=\"Open In Colab\"/></a>"
      ]
    },
    {
      "cell_type": "markdown",
      "source": [
        "# Assignment 20\n",
        "## CSC 221\n",
        "- Romita Chakraborty\n",
        "\n",
        "### Instructions:\n",
        "Fill in each code cell below the question. We are following along in Chapter 4 of Python Distilled."
      ],
      "metadata": {
        "id": "IAOUzGWE1eDx"
      }
    },
    {
      "cell_type": "code",
      "execution_count": 1,
      "metadata": {
        "id": "Gnj3su7i5-lx",
        "colab": {
          "base_uri": "https://localhost:8080/"
        },
        "outputId": "ca2f8635-1af0-4b1a-db12-a3e7189ca7d0"
      },
      "outputs": [
        {
          "output_type": "stream",
          "name": "stdout",
          "text": [
            "19\n",
            "44.5\n",
            "asdfg13\n"
          ]
        }
      ],
      "source": [
        "# 4.1 Essential Concepts\n",
        "\n",
        "# When we write \"a + b\" in Python, the interpreter tries to execute a.__add__(b)\n",
        "\n",
        "# Show that this is true by trying the following:\n",
        "a = 6\n",
        "b = 31.5\n",
        "c = 'asdfg'\n",
        "a1 = a.__add__(13)\n",
        "b1 = b.__add__(13)\n",
        "c1 = c.__add__('13')\n",
        "print(a1)\n",
        "print(b1)\n",
        "print(c1)\n",
        "\n",
        "# What are the types of a, b, and c?\n",
        "#a is an integer (int type).\n",
        "#b is a float (float type).\n",
        "#c is a string (str type).\n",
        "\n",
        "# Explain the results\n",
        "#a1 = a.__add__(13): This calls the __add__ method of the integer a with the argument 13. The result is 19 (integer).\n",
        "#b1 = b.__add__(13): This calls the __add__ method of the float b with the argument 13. The result is 44.5 (float).\n",
        "#c1 = c.__add__('13'): This calls the __add__ method of the string c with the argument '13'. The result is the concatenation of the string 'asdfg' and '13', which is 'asdfg13' (string)."
      ]
    },
    {
      "cell_type": "code",
      "source": [
        "# 4.2 through 4.4 will be covered in the next assignment\n"
      ],
      "metadata": {
        "id": "w2uYd3DO2do6"
      },
      "execution_count": 2,
      "outputs": []
    },
    {
      "cell_type": "code",
      "source": [
        "# 4.5 str and repr\n",
        "# How many categpries of printing are shown below for a datetime object?\n",
        "# What in the Pythion code makes each one get callled?\n",
        "\n",
        "from datetime import date\n",
        "d = date(2023, 11, 7)\n",
        "\n",
        "#print(d)\n",
        "#print(f'{d}')\n",
        "#print(f'{d!s}')\n",
        "#print(f'{d!r}')\n",
        "#print(str(d))\n",
        "#print(repr(d))\n",
        "#print(d.__str__())\n",
        "#print(d.__repr__())\n",
        "\n",
        "# there are four categories of printing for a datetime.date object.\n",
        "# Regular Print / Formatted String Literal\n",
        "# Formatted String Literal with !s Conversion\n",
        "# Formatted String Literal with !r Conversion\n",
        "# repr() Function"
      ],
      "metadata": {
        "id": "Aa3ylzmV2wNF"
      },
      "execution_count": 3,
      "outputs": []
    },
    {
      "cell_type": "code",
      "source": [
        "# 4.6 First-Class Objects\n",
        "# What is the significance of all objects being \"first-class\" in Python?\n",
        "# everything in the language is treated as an object, and these objects have equal status. So objects can be used in variablies, in list and in conjunction with other objects\n",
        "\n",
        "# Explain by typing in the code to create and use the 'items' dictionary shown in section 4.6.\n",
        "items = {\n",
        "  'number' : 42,\n",
        "  'text' : \"Hello World\"\n",
        "}\n",
        "\n",
        "\n",
        "items['func'] = abs # Add the abs() function\n",
        "import math\n",
        "items['mod'] = math # Add a module\n",
        "items['error'] = ValueError # Add an exception type\n",
        "nums = [1,2,3,4]\n",
        "items['append'] = nums.append # Add a method of another objec\n",
        "# Explain each of the lines starting with '>>>' in the section.\n",
        "\n",
        "items['func'] = abs\n",
        "#This line creates a key-value pair in the items dictionary. The key is the string 'func', and the value is the built-in abs function, which calculates the absolute value of a number.\n",
        "import math\n",
        "items['mod'] = math\n",
        "#This line imports the math module and assigns it to the value associated with the key 'mod' in the items dictionary. Now, you can access functions and constants from the math module using items['mod'].\n",
        "items['error'] = ValueError\n",
        "#This line adds the built-in exception type ValueError as the value associated with the key 'error' in the items dictionary. You can use items['error'] to refer to the ValueError type.\n",
        "nums = [1,2,3,4]\n",
        "items['append'] = nums.append\n",
        "#This line creates a list nums and then adds its append method to the items dictionary. Now, items['append'] is a reference to the append method of the nums list. It allows you to call nums.append() using items['append']().\n"
      ],
      "metadata": {
        "id": "9LRpP06Vsw6n"
      },
      "execution_count": 4,
      "outputs": []
    },
    {
      "cell_type": "code",
      "source": [
        "# 4.7 Using None\n",
        "# Write a function that takes two parameters and returns their sum if they are\n",
        "#  integers or returns None if either one is not.\n",
        "\n",
        "# Put in some test code to show that your function works\n",
        "\n",
        "# INSERT YOUR CODE HERE\n",
        "def add_integers(a, b):\n",
        "    if isinstance(a, int) and isinstance(b, int):\n",
        "        return a + b\n",
        "    else:\n",
        "        return None\n",
        "\n",
        "# Test cases\n",
        "result1 = add_integers(3, 5)\n",
        "print(\"Result 1:\", result1)  # Output: 8\n",
        "\n",
        "result2 = add_integers(\"Hello\", 7)\n",
        "print(\"Result 2:\", result2)  # Output: None\n",
        "\n",
        "result3 = add_integers(10, 20)\n",
        "print(\"Result 3:\", result3)  # Output: 30"
      ],
      "metadata": {
        "id": "dUhRWGnCtewU",
        "colab": {
          "base_uri": "https://localhost:8080/"
        },
        "outputId": "a0e16262-07bb-48a7-c5d1-79db3cae0f6e"
      },
      "execution_count": 5,
      "outputs": [
        {
          "output_type": "stream",
          "name": "stdout",
          "text": [
            "Result 1: 8\n",
            "Result 2: None\n",
            "Result 3: 30\n"
          ]
        }
      ]
    },
    {
      "cell_type": "code",
      "source": [
        "# 4.9 Object Protocol\n",
        "# Create a simple object that has methods for:\n",
        "#  __new__\n",
        "#  __init__\n",
        "#  __del__\n",
        "#  __repr__\n",
        "#  __str__\n",
        "\n",
        "# Put in some test code to show how and when each of these 'magic' functions gets called.\n",
        "\n",
        "# INSERT YOUR CODE HERE\n",
        "class Farm:\n",
        "    def __new__(cls, name):\n",
        "        instance = super(Farm, cls).__new__(cls)\n",
        "        print(f\"Creating a new farm named {name}\")\n",
        "        return instance\n",
        "\n",
        "    def __init__(self, name):\n",
        "        self.name = name\n",
        "        self.animals = []\n",
        "        print(f\"Initializing a farm named {self.name}\")\n",
        "\n",
        "    def add_animal(self, animal):\n",
        "        self.animals.append(animal)\n",
        "        print(f\"Adding {animal} to the farm\")\n",
        "\n",
        "    def __del__(self):\n",
        "        print(f\"Deleting the farm named {self.name}\")\n",
        "\n",
        "    def __repr__(self):\n",
        "        return f\"Farm('{self.name}')\"\n",
        "\n",
        "    def __str__(self):\n",
        "        return f\"A farm named {self.name} with animals: {', '.join(self.animals)}\"\n",
        "\n",
        "# Test code\n",
        "farm1 = Farm(\"Sunnydale Farm\")\n",
        "farm1.add_animal(\"Cow\")\n",
        "farm1.add_animal(\"Chicken\")\n",
        "\n",
        "print(\"Representation:\", repr(farm1))\n",
        "print(\"String representation:\", str(farm1))\n",
        "\n",
        "farm2 = Farm(\"Green Pasture\")\n",
        "farm2.add_animal(\"Horse\")\n",
        "farm2.add_animal(\"Sheep\")\n",
        "\n",
        "del farm1\n",
        "del farm2"
      ],
      "metadata": {
        "id": "4M-CQevEt2xQ",
        "colab": {
          "base_uri": "https://localhost:8080/"
        },
        "outputId": "ed55f553-eed1-40b4-9b9a-bbc3fb896421"
      },
      "execution_count": 7,
      "outputs": [
        {
          "output_type": "stream",
          "name": "stdout",
          "text": [
            "Creating a new farm named Sunnydale Farm\n",
            "Initializing a farm named Sunnydale Farm\n",
            "Adding Cow to the farm\n",
            "Adding Chicken to the farm\n",
            "Representation: Farm('Sunnydale Farm')\n",
            "String representation: A farm named Sunnydale Farm with animals: Cow, Chicken\n",
            "Creating a new farm named Green Pasture\n",
            "Initializing a farm named Green Pasture\n",
            "Adding Horse to the farm\n",
            "Adding Sheep to the farm\n",
            "Deleting the farm named Sunnydale Farm\n",
            "Deleting the farm named Green Pasture\n"
          ]
        }
      ]
    }
  ]
}