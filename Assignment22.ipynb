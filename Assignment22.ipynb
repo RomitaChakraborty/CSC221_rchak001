{
  "nbformat": 4,
  "nbformat_minor": 0,
  "metadata": {
    "colab": {
      "provenance": [],
      "include_colab_link": true
    },
    "kernelspec": {
      "name": "python3",
      "display_name": "Python 3"
    },
    "language_info": {
      "name": "python"
    }
  },
  "cells": [
    {
      "cell_type": "markdown",
      "metadata": {
        "id": "view-in-github",
        "colab_type": "text"
      },
      "source": [
        "<a href=\"https://colab.research.google.com/github/RomitaChakraborty/CSC221_rchak001/blob/main/Assignment22.ipynb\" target=\"_parent\"><img src=\"https://colab.research.google.com/assets/colab-badge.svg\" alt=\"Open In Colab\"/></a>"
      ]
    },
    {
      "cell_type": "code",
      "execution_count": 7,
      "metadata": {
        "id": "3vLPkKl5jdLq"
      },
      "outputs": [],
      "source": [
        "import math\n",
        "\n",
        "class Vector2D:\n",
        "    def __init__(self, x, y):\n",
        "        self.x = x\n",
        "        self.y = y\n",
        "\n",
        "    def __str__(self):\n",
        "        return f\"({self.x}, {self.y})\"\n",
        "\n",
        "    def __repr__(self):\n",
        "        return f\"Vector2D({self.x}, {self.y})\"\n",
        "\n",
        "    def length(self):\n",
        "        return math.sqrt(self.x ** 2 + self.y ** 2)\n",
        "\n",
        "def sort_vectors_by_length(vectors):\n",
        "    return sorted(vectors, key=lambda vector: vector.length())\n"
      ]
    },
    {
      "cell_type": "code",
      "source": [
        "if __name__ == \"__main__\":\n",
        "    vectors = [Vector2D(3, 4), Vector2D(1, 2), Vector2D(-2, 5), Vector2D(0, 0)]\n",
        "\n",
        "    print(\"Original vectors:\")\n",
        "    for vector in vectors:\n",
        "        print(vector)\n",
        "\n",
        "    sorted_vectors = sort_vectors_by_length(vectors)\n",
        "\n",
        "    print(\"\\nVectors sorted by length:\")\n",
        "    for vector in sorted_vectors:\n",
        "        print(vector)"
      ],
      "metadata": {
        "colab": {
          "base_uri": "https://localhost:8080/"
        },
        "id": "9T41bJ23kOBk",
        "outputId": "c69d1ab9-2948-435a-ba9e-aff471995694"
      },
      "execution_count": 2,
      "outputs": [
        {
          "output_type": "stream",
          "name": "stdout",
          "text": [
            "Original vectors:\n",
            "(3, 4)\n",
            "(1, 2)\n",
            "(-2, 5)\n",
            "(0, 0)\n",
            "\n",
            "Vectors sorted by length:\n",
            "(0, 0)\n",
            "(1, 2)\n",
            "(3, 4)\n",
            "(-2, 5)\n"
          ]
        }
      ]
    },
    {
      "cell_type": "code",
      "source": [
        "import math\n",
        "\n",
        "class Vector2D:\n",
        "    def __init__(self, x, y):\n",
        "        self.x = x\n",
        "        self.y = y\n",
        "\n",
        "    def __str__(self):\n",
        "        return f\"({self.x}, {self.y})\"\n",
        "\n",
        "    def __repr__(self):\n",
        "        return f\"Vector2D({self.x}, {self.y})\"\n",
        "\n",
        "    def __lt__(self, other):\n",
        "        return self.length() < other.length()\n",
        "\n",
        "    def length(self):\n",
        "        return math.sqrt(self.x ** 2 + self.y ** 2)\n",
        "\n",
        "# Example usage:\n",
        "if __name__ == \"__main__\":\n",
        "    vectors = [Vector2D(3, 4), Vector2D(1, 2), Vector2D(-2, 5), Vector2D(0, 0)]\n",
        "\n",
        "    print(\"Original vectors:\")\n",
        "    for vector in vectors:\n",
        "        print(vector)\n",
        "\n",
        "    sorted_vectors = sorted(vectors)\n",
        "\n",
        "    print(\"\\nVectors sorted by length:\")\n",
        "    for vector in sorted_vectors:\n",
        "        print(vector)"
      ],
      "metadata": {
        "colab": {
          "base_uri": "https://localhost:8080/"
        },
        "id": "agxbbJfrkRw5",
        "outputId": "06db0695-cd37-49e8-b1b1-aecd85cbbf60"
      },
      "execution_count": 3,
      "outputs": [
        {
          "output_type": "stream",
          "name": "stdout",
          "text": [
            "Original vectors:\n",
            "(3, 4)\n",
            "(1, 2)\n",
            "(-2, 5)\n",
            "(0, 0)\n",
            "\n",
            "Vectors sorted by length:\n",
            "(0, 0)\n",
            "(1, 2)\n",
            "(3, 4)\n",
            "(-2, 5)\n"
          ]
        }
      ]
    },
    {
      "cell_type": "code",
      "source": [
        "class Special:\n",
        "    def __init__(self, data=None):\n",
        "        self.data = {}\n",
        "        if data is not None:\n",
        "            for key in data:\n",
        "                self[key] = len(key)\n",
        "\n",
        "    def __getitem__(self, key):\n",
        "        return self.data.get(key, 0)\n",
        "\n",
        "    def __setitem__(self, key, value):\n",
        "        self.data[key] = value\n",
        "\n",
        "    def __delitem__(self, key):\n",
        "        del self.data[key]\n",
        "\n",
        "    def __len__(self):\n",
        "        return len(self.data)\n",
        "\n",
        "    def __contains__(self, key):\n",
        "        return key in self.data\n",
        "\n",
        "# Example usage:\n",
        "if __name__ == \"__main__\":\n",
        "    special_instance1 = Special([\"ned\" * 5])\n",
        "    print(\"Length of ['ned' * 5]:\", special_instance1[\"ned\" * 5])  # Output: 40\n",
        "\n",
        "    special_instance2 = Special([\"ned\"])\n",
        "    print(\"Length of ['ned']:\", special_instance2[\"ned\"])  # Output: 3"
      ],
      "metadata": {
        "colab": {
          "base_uri": "https://localhost:8080/"
        },
        "id": "yLg637-dmG-N",
        "outputId": "fe13d2e4-b882-4997-de66-631aabfb362a"
      },
      "execution_count": 5,
      "outputs": [
        {
          "output_type": "stream",
          "name": "stdout",
          "text": [
            "Length of ['ned' * 5]: 15\n",
            "Length of ['ned']: 3\n"
          ]
        }
      ]
    }
  ]
}