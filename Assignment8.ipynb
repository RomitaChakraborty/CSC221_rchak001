{
  "nbformat": 4,
  "nbformat_minor": 0,
  "metadata": {
    "colab": {
      "provenance": [],
      "include_colab_link": true
    },
    "kernelspec": {
      "name": "python3",
      "display_name": "Python 3"
    },
    "language_info": {
      "name": "python"
    }
  },
  "cells": [
    {
      "cell_type": "markdown",
      "metadata": {
        "id": "view-in-github",
        "colab_type": "text"
      },
      "source": [
        "<a href=\"https://colab.research.google.com/github/RomitaChakraborty/CSC221_rchak001/blob/main/Assignment8.ipynb\" target=\"_parent\"><img src=\"https://colab.research.google.com/assets/colab-badge.svg\" alt=\"Open In Colab\"/></a>"
      ]
    },
    {
      "cell_type": "markdown",
      "source": [
        "Romita Chakraborty\n",
        "\n",
        "Assignment 8"
      ],
      "metadata": {
        "id": "2lZiFOhSSykc"
      }
    },
    {
      "cell_type": "code",
      "execution_count": 1,
      "metadata": {
        "id": "TTsuOL2Yek3f",
        "colab": {
          "base_uri": "https://localhost:8080/"
        },
        "outputId": "8df8dbe4-cce0-4a14-9da5-776d48ce7335"
      },
      "outputs": [
        {
          "output_type": "stream",
          "name": "stdout",
          "text": [
            "Tell me something, and I will repeat it back to you: v ghvhhh\n",
            "v ghvhhh\n"
          ]
        }
      ],
      "source": [
        "message = input(\"Tell me something, and I will repeat it back to you: \")\n",
        "print(message)"
      ]
    },
    {
      "cell_type": "code",
      "source": [
        "#prompts should be clear\n",
        "name = input(\"Please enter your name: \")\n",
        "print(f\"\\nHello, {name}!\")"
      ],
      "metadata": {
        "id": "h_KQzUG6ez9t",
        "colab": {
          "base_uri": "https://localhost:8080/"
        },
        "outputId": "2db50b6f-9787-47b3-a357-2b41bce9d29c"
      },
      "execution_count": 2,
      "outputs": [
        {
          "output_type": "stream",
          "name": "stdout",
          "text": [
            "Please enter your name: \n",
            "\n",
            "Hello, !\n"
          ]
        }
      ]
    },
    {
      "cell_type": "code",
      "source": [
        "prompt = \"If you share your name, we can personalize the messages you see.\"\n",
        "prompt += \"\\nWhat is your first name? \"\n",
        "name = input(prompt)\n",
        "print(f\"\\nHello, {name}!\")\n"
      ],
      "metadata": {
        "id": "P6--8OH1e_6f",
        "colab": {
          "base_uri": "https://localhost:8080/"
        },
        "outputId": "2fa77465-3bf7-42da-87e8-bfcc5a05bf03"
      },
      "execution_count": 3,
      "outputs": [
        {
          "output_type": "stream",
          "name": "stdout",
          "text": [
            "If you share your name, we can personalize the messages you see.\n",
            "What is your first name? \n",
            "\n",
            "Hello, !\n"
          ]
        }
      ]
    },
    {
      "cell_type": "code",
      "source": [
        "age = input(\"How old are you? \")\n",
        "#age is a string since input is accepted as string\n",
        "print(age)"
      ],
      "metadata": {
        "id": "pnPJjrq3fNv1",
        "colab": {
          "base_uri": "https://localhost:8080/"
        },
        "outputId": "5284e19d-a473-43b2-ce5f-3697b1254c36"
      },
      "execution_count": 4,
      "outputs": [
        {
          "output_type": "stream",
          "name": "stdout",
          "text": [
            "How old are you? \n",
            "\n"
          ]
        }
      ]
    },
    {
      "cell_type": "code",
      "source": [
        "age = input(\"How old are you? \")\n",
        "\n",
        "#turn age from string to int\n",
        "age = int(age)\n",
        "\n",
        "age >=18"
      ],
      "metadata": {
        "id": "FPiNiDucfbNX",
        "colab": {
          "base_uri": "https://localhost:8080/"
        },
        "outputId": "5fb5ea1b-133b-4d28-eef8-056ed116a5ab"
      },
      "execution_count": 6,
      "outputs": [
        {
          "name": "stdout",
          "output_type": "stream",
          "text": [
            "How old are you? 20\n"
          ]
        },
        {
          "output_type": "execute_result",
          "data": {
            "text/plain": [
              "True"
            ]
          },
          "metadata": {},
          "execution_count": 6
        }
      ]
    },
    {
      "cell_type": "markdown",
      "source": [],
      "metadata": {
        "id": "50xllbgvXEKy"
      }
    },
    {
      "cell_type": "code",
      "source": [
        "height = input(\"How tall are you, in inches? \")\n",
        "height = int(height)\n",
        "if height >= 48:\n",
        " print(\"\\nYou're tall enough to ride!\")\n",
        "else:\n",
        " print(\"\\nYou'll be able to ride when you're a little older.\")\n"
      ],
      "metadata": {
        "id": "CsMY4CFLfsFx"
      },
      "execution_count": null,
      "outputs": []
    },
    {
      "cell_type": "code",
      "source": [
        "#gets remainder of divison\n",
        "print(4 % 3)\n",
        "print(5 % 3)\n",
        "print(6 % 3)\n",
        "print(7 % 3)"
      ],
      "metadata": {
        "id": "SIzHNd43f8Fr"
      },
      "execution_count": null,
      "outputs": []
    },
    {
      "cell_type": "code",
      "source": [
        "#if the number has a remainder with number % 2 then it is odd. If not, then it is even\n",
        "number = input(\"Enter a number, and I'll tell you if it's even or odd: \")\n",
        "number = int(number)\n",
        "if number % 2 == 0:\n",
        " print(f\"\\nThe number {number} is even.\")\n",
        "else:\n",
        " print(f\"\\nThe number {number} is odd.\")\n"
      ],
      "metadata": {
        "id": "iALtWs6-gOeS"
      },
      "execution_count": null,
      "outputs": []
    },
    {
      "cell_type": "markdown",
      "source": [
        "7-1. Rental Car: Write a program that asks the user what kind of rental car\n",
        "they would like. Print a message about that car, such as “Let me see if I can\n",
        "find you a Subaru.”\n",
        "\n",
        "7-3. Multiples of Ten: Ask the user for a number, and then report whether\n",
        "the number is a multiple of 10 or not."
      ],
      "metadata": {
        "id": "U1Q6MyOigmwC"
      }
    },
    {
      "cell_type": "code",
      "source": [
        "car = input(\"What kind of rerntal car would you like \")\n",
        "print(f\"Let me see if we have a {car}\")\n"
      ],
      "metadata": {
        "id": "S5pACTioJdSV"
      },
      "execution_count": null,
      "outputs": []
    },
    {
      "cell_type": "code",
      "source": [
        "num = input(\"give me a number \")\n",
        "\n",
        "if int(num)%10 == 0:\n",
        "  print(\"is a multiple of 10\")\n",
        "else:\n",
        "  print(\"is not a multiple of 10\")"
      ],
      "metadata": {
        "id": "88FKB7mQJw0S"
      },
      "execution_count": null,
      "outputs": []
    },
    {
      "cell_type": "code",
      "source": [
        "current_number = 1\n",
        "while current_number <= 5:\n",
        " print(current_number)\n",
        " current_number += 1"
      ],
      "metadata": {
        "id": "qVrgSFoEgmMk"
      },
      "execution_count": null,
      "outputs": []
    },
    {
      "cell_type": "code",
      "source": [
        "#program that runs until you type quit.\n",
        "#uses a while loop\n",
        "prompt = \"\\nTell me something, and I will repeat it back to you:\"\n",
        "prompt += \"\\nEnter 'quit' to end the program. \"\n",
        "message = \"\"\n",
        "while message != 'quit':\n",
        " message = input(prompt)\n",
        " print(message)"
      ],
      "metadata": {
        "id": "onqthRa8gv9a"
      },
      "execution_count": null,
      "outputs": []
    },
    {
      "cell_type": "code",
      "source": [
        "prompt = \"\\nTell me something, and I will repeat it back to you:\"\n",
        "prompt += \"\\nEnter 'quit' to end the program. \"\n",
        "message = \"\"\n",
        "while message != 'quit':\n",
        " message = input(prompt)\n",
        " if message != 'quit':#if the message is quit then the message won't be printed to console\n",
        "  print(message)"
      ],
      "metadata": {
        "id": "NwbJThXJgw2f"
      },
      "execution_count": null,
      "outputs": []
    },
    {
      "cell_type": "code",
      "source": [
        "prompt = \"\\nTell me something, and I will repeat it back to you:\"\n",
        "prompt += \"\\nEnter 'quit' to end the program. \"\n",
        "active = True # Flag to use for the while loop\n",
        "while active: # While flag is True\n",
        " message = input(prompt)\n",
        " if message == 'quit':\n",
        "  active = False # Sets flag to false so next loop experssion will be False\n",
        " else:\n",
        "  print(message)"
      ],
      "metadata": {
        "id": "zfKVU3Z6gw-m"
      },
      "execution_count": null,
      "outputs": []
    },
    {
      "cell_type": "code",
      "source": [
        "prompt = \"\\nPlease enter the name of a city you have visited:\"\n",
        "prompt += \"\\n(Enter 'quit' when you are finished.) \"\n",
        "while True:\n",
        " city = input(prompt)\n",
        " if city == 'quit':\n",
        "  break# this exits the loop\n",
        " else:\n",
        "  print(f\"I'd love to go to {city.title()}!\")"
      ],
      "metadata": {
        "id": "uO7gMOXTgxBZ"
      },
      "execution_count": null,
      "outputs": []
    },
    {
      "cell_type": "code",
      "source": [
        "current_number = 0 #flag\n",
        "while current_number < 10: #Loop runs as long as count number is less than 10.\n",
        "  current_number += 1\n",
        "  if current_number % 2 == 0:\n",
        "      continue\n",
        "  print(current_number)"
      ],
      "metadata": {
        "id": "gWnf5UExgxEN"
      },
      "execution_count": null,
      "outputs": []
    },
    {
      "cell_type": "code",
      "source": [
        "x = 1\n",
        "while x <= 5:\n",
        " print(x)\n",
        " x += 1 #this makes the loop excute at some point in time. Without this we would have an infnite loop\n"
      ],
      "metadata": {
        "id": "kRbZC-IDgxG_"
      },
      "execution_count": null,
      "outputs": []
    },
    {
      "cell_type": "markdown",
      "source": [
        "\n",
        "7-5. Movie Tickets: A movie theater charges different ticket prices\n",
        "depending on a person’s age. If a person is under the age of 3, the ticket is\n",
        "free; if they are between 3 and 12, the ticket is $10; and if they are over age\n",
        "12, the ticket is $15. Write a loop in which you ask users their age, and then\n",
        "tell them the cost of their movie ticket.\n",
        "\n",
        "7-6. Three Exits: Write different versions of either Exercise 7-4 or 7-5 that\n",
        "do each of the following at least once:\n",
        "Use a conditional test in the while statement to stop the loop.\n",
        "Use an active variable to control how long the loop runs.\n",
        "Use a break statement to exit the loop when the user enters a 'quit' value.\n",
        "\n",
        "7-7. Infinity: Write a loop that never ends, and run it. (To end the loop,\n",
        "press CTRL-C or close the window displaying the output.)"
      ],
      "metadata": {
        "id": "rsz7CSKXjlPG"
      }
    },
    {
      "cell_type": "code",
      "source": [
        "\n",
        "asking = True\n",
        "\n",
        "while asking:\n",
        "  age = input(\"what is your age? \")\n",
        "  age = int(age)\n",
        "  if age < 3:\n",
        "    print(\"ticket is free\")\n",
        "    asking = False\n",
        "  elif age >= 3 and age <= 12:\n",
        "    print(\"ticker is 10$ \")\n",
        "    asking = False\n",
        "  else:\n",
        "    print(\"ticket is 15\")\n",
        "    asking = False"
      ],
      "metadata": {
        "id": "P2OF35HQKN3v",
        "colab": {
          "base_uri": "https://localhost:8080/"
        },
        "outputId": "e79e40e5-0cd6-47f5-b5db-f37026c7674c"
      },
      "execution_count": 7,
      "outputs": [
        {
          "output_type": "stream",
          "name": "stdout",
          "text": [
            "what is your age? 20\n",
            "ticket is 15\n"
          ]
        }
      ]
    },
    {
      "cell_type": "code",
      "source": [
        "\n",
        "while True:\n",
        "  age = input(\"what is your age? \")\n",
        "  age = int(age)\n",
        "  if age < 3:\n",
        "    print(\"ticket is free\")\n",
        "    break\n",
        "  elif age >= 3 and age <= 12:\n",
        "    print(\"ticker is 10$ \")\n",
        "    asking = False\n",
        "  else:\n",
        "    print(\"ticket is 15\")\n",
        "    asking = False"
      ],
      "metadata": {
        "id": "0jdF6ZHxLOR7"
      },
      "execution_count": null,
      "outputs": []
    },
    {
      "cell_type": "code",
      "source": [
        "while True:\n",
        "  print(\"hey\")"
      ],
      "metadata": {
        "id": "m0UJUzG_Lrr3"
      },
      "execution_count": null,
      "outputs": []
    },
    {
      "cell_type": "code",
      "source": [
        "\n",
        "unconfirmed_users = ['alice', 'brian', 'candace'] # Holds 3 users as strings in a list\n",
        "confirmed_users = []# empty list of confirmed users\n",
        "\n",
        "\n",
        "while unconfirmed_users:#loops until unconfirmed_users is empty\n",
        " current_user = unconfirmed_users.pop()\n",
        " print(f\"Verifying user: {current_user.title()}\")\n",
        " confirmed_users.append(current_user)\n",
        "\n",
        "print(\"\\nThe following users have been confirmed:\")#print all confirmed_users\n",
        "for confirmed_user in confirmed_users:\n",
        " print(confirmed_user.title())\n"
      ],
      "metadata": {
        "id": "8XtccDGdgxJ_"
      },
      "execution_count": null,
      "outputs": []
    },
    {
      "cell_type": "code",
      "source": [
        "pets = ['dog', 'cat', 'dog', 'goldfish', 'cat', 'rabbit', 'cat']#list of pets\n",
        "print(pets)#print list\n",
        "while 'cat' in pets:#loop until all cats removed?\n",
        " pets.remove('cat')\n",
        "print(pets)"
      ],
      "metadata": {
        "id": "47hypxQKgxM_"
      },
      "execution_count": null,
      "outputs": []
    },
    {
      "cell_type": "code",
      "source": [
        "responses = {} # Key value pair of name:response\n",
        "# Set a flag to indicate that polling is active.\n",
        "polling_active = True\n",
        "while polling_active:\n",
        " #ask for person's name and response.\n",
        " name = input(\"\\nWhat is your name? \")\n",
        " response = input(\"Which mountain would you like to climb someday? \")\n",
        " # enter response in the dictionary.\n",
        " responses[name] = response\n",
        " # ask other people.\n",
        " repeat = input(\"Would you like to let another person respond? (yes/ no) \")\n",
        " if repeat == 'no':\n",
        "  polling_active = False\n",
        "# results.\n",
        "print(\"\\n--- Poll Results ---\")\n",
        "for name, response in responses.items():\n",
        " print(f\"{name} would like to climb {response}.\")\n"
      ],
      "metadata": {
        "id": "VeyVPfwRgxP_"
      },
      "execution_count": null,
      "outputs": []
    },
    {
      "cell_type": "markdown",
      "source": [
        "7-8. Deli: Make a list called sandwich_orders and fill it with the names of\n",
        "various sandwiches. Then make an empty list called finished_sandwiches. Loop\n",
        "through the list of sandwich orders and print a message for each order, such\n",
        "as I made your tuna sandwich. As each sandwich is made, move it to the list of\n",
        "finished sandwiches. After all the sandwiches have been made, print a\n",
        "message listing each sandwich that was made.\n",
        "\n"
      ],
      "metadata": {
        "id": "KnY_Wli6l-4t"
      }
    },
    {
      "cell_type": "code",
      "source": [
        "from prompt_toolkit.application import current\n",
        "sandwich_orders = [\"chicken\", \"avacode\", \"Blt\"]\n",
        "finished_sandwiches = []\n",
        "\n",
        "while sandwich_orders:\n",
        "  current = sandwich_orders.pop()\n",
        "  print(f\"I made your {current}\")\n",
        "  finished_sandwiches.append(current)\n",
        "\n",
        "for sandwich in finished_sandwiches:\n",
        "    print(sandwich)"
      ],
      "metadata": {
        "id": "pPpzLq1YL30U"
      },
      "execution_count": null,
      "outputs": []
    },
    {
      "cell_type": "markdown",
      "source": [
        "# Assingments"
      ],
      "metadata": {
        "id": "P09JkqXcnYV-"
      }
    },
    {
      "cell_type": "code",
      "source": [
        "total = 0\n",
        "running = True\n",
        "while running:\n",
        " num = input(\"Choose a Number\")\n",
        " op = input(\"Choose an Operator\")\n",
        " num = int(num)\n",
        " if op == \"+\":\n",
        "  total=num+total\n",
        "  print(total)\n",
        " elif op == \"-\":\n",
        "  total=total-num\n",
        "  print(total)\n",
        " elif op == \"*\":\n",
        "  total = total * num\n",
        "  print(total)\n",
        " elif op == \"/\":\n",
        "  total = total/num\n",
        "  print(total)\n",
        " elif op == \"q\":\n",
        "  print(total)\n",
        "  break\n",
        "\n"
      ],
      "metadata": {
        "id": "Y-GKyGgDncP_"
      },
      "execution_count": null,
      "outputs": []
    }
  ]
}