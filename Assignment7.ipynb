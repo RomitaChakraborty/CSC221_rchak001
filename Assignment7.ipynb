{
  "nbformat": 4,
  "nbformat_minor": 0,
  "metadata": {
    "colab": {
      "provenance": [],
      "include_colab_link": true
    },
    "kernelspec": {
      "name": "python3",
      "display_name": "Python 3"
    },
    "language_info": {
      "name": "python"
    }
  },
  "cells": [
    {
      "cell_type": "markdown",
      "metadata": {
        "id": "view-in-github",
        "colab_type": "text"
      },
      "source": [
        "<a href=\"https://colab.research.google.com/github/RomitaChakraborty/CSC221_rchak001/blob/main/Assignment7.ipynb\" target=\"_parent\"><img src=\"https://colab.research.google.com/assets/colab-badge.svg\" alt=\"Open In Colab\"/></a>"
      ]
    },
    {
      "cell_type": "markdown",
      "source": [
        "Romita Chakraborty\n",
        "\n",
        "Assignment 7"
      ],
      "metadata": {
        "id": "XvlBvpc3Rqib"
      }
    },
    {
      "cell_type": "code",
      "execution_count": 1,
      "metadata": {
        "colab": {
          "base_uri": "https://localhost:8080/"
        },
        "id": "lavgIO0ETQgt",
        "outputId": "f0a69614-6aa9-483b-b113-cc027fa71ca8"
      },
      "outputs": [
        {
          "output_type": "stream",
          "name": "stdout",
          "text": [
            "green\n",
            "5\n"
          ]
        }
      ],
      "source": [
        "#create a dic\n",
        "#keys are color and green\n",
        "alien_0 = {'color': 'green', 'points': 5}\n",
        "print(alien_0['color'])\n",
        "print(alien_0['points'])\n"
      ]
    },
    {
      "cell_type": "code",
      "source": [
        "#simple dic\n",
        "#one key and value\n",
        "alien_0 = {'color': 'green'}\n"
      ],
      "metadata": {
        "id": "uTmhN4T0Uoyu"
      },
      "execution_count": 2,
      "outputs": []
    },
    {
      "cell_type": "code",
      "source": [
        "alien_0 = {'color': 'green'}\n",
        "print(alien_0['color'])"
      ],
      "metadata": {
        "colab": {
          "base_uri": "https://localhost:8080/"
        },
        "id": "fnF0iFwjVBwj",
        "outputId": "4cdf2cd3-4627-4701-ea79-61299f32994f"
      },
      "execution_count": 3,
      "outputs": [
        {
          "output_type": "stream",
          "name": "stdout",
          "text": [
            "green\n"
          ]
        }
      ]
    },
    {
      "cell_type": "code",
      "source": [
        "#new_points = alien_0['points']\n",
        "#print(f\"You just earned {new_points} points!\")"
      ],
      "metadata": {
        "id": "te7m-s2wVB5r"
      },
      "execution_count": 4,
      "outputs": []
    },
    {
      "cell_type": "code",
      "source": [
        "print(alien_0)\n",
        "alien_0['x_position'] = 0\n",
        "alien_0['y_position'] = 25\n",
        "print(alien_0)"
      ],
      "metadata": {
        "colab": {
          "base_uri": "https://localhost:8080/"
        },
        "id": "B1BU88mcVCCC",
        "outputId": "2932e282-05da-44ee-926c-1130bd9d284f"
      },
      "execution_count": 5,
      "outputs": [
        {
          "output_type": "stream",
          "name": "stdout",
          "text": [
            "{'color': 'green'}\n",
            "{'color': 'green', 'x_position': 0, 'y_position': 25}\n"
          ]
        }
      ]
    },
    {
      "cell_type": "code",
      "source": [
        "{'color': 'green', 'points': 5}\n",
        "{'color': 'green', 'points': 5, 'x_position': 0, 'y_position': 25}\n"
      ],
      "metadata": {
        "colab": {
          "base_uri": "https://localhost:8080/"
        },
        "id": "JHIzZQ_UVCFB",
        "outputId": "83217f5b-0e48-4175-f345-74b54d0258f4"
      },
      "execution_count": 6,
      "outputs": [
        {
          "output_type": "execute_result",
          "data": {
            "text/plain": [
              "{'color': 'green', 'points': 5, 'x_position': 0, 'y_position': 25}"
            ]
          },
          "metadata": {},
          "execution_count": 6
        }
      ]
    },
    {
      "cell_type": "code",
      "source": [
        "alien_0 = {}\n",
        "alien_0['color'] = 'green'\n",
        "alien_0['points'] = 5\n",
        "print(alien_0)\n"
      ],
      "metadata": {
        "colab": {
          "base_uri": "https://localhost:8080/"
        },
        "id": "nJAs-zaiVCHv",
        "outputId": "c949190a-faf3-4e6b-b0f5-2a4320a146c7"
      },
      "execution_count": 7,
      "outputs": [
        {
          "output_type": "stream",
          "name": "stdout",
          "text": [
            "{'color': 'green', 'points': 5}\n"
          ]
        }
      ]
    },
    {
      "cell_type": "code",
      "source": [
        "alien_0 = {'color': 'green'}\n",
        "print(f\"The alien is {alien_0['color']}.\")\n",
        "alien_0['color'] = 'yellow'\n",
        "print(f\"The alien is now {alien_0['color']}.\")"
      ],
      "metadata": {
        "colab": {
          "base_uri": "https://localhost:8080/"
        },
        "id": "35W3M8fJVCKs",
        "outputId": "c5925824-7c32-4ce4-eab2-5c2b947aca1d"
      },
      "execution_count": 8,
      "outputs": [
        {
          "output_type": "stream",
          "name": "stdout",
          "text": [
            "The alien is green.\n",
            "The alien is now yellow.\n"
          ]
        }
      ]
    },
    {
      "cell_type": "code",
      "source": [
        "alien_0 = {'x_position': 0, 'y_position': 25, 'speed': 'medium'}\n",
        "print(f\"Original position: {alien_0['x_position']}\")"
      ],
      "metadata": {
        "colab": {
          "base_uri": "https://localhost:8080/"
        },
        "id": "w0CQKBF7VCN4",
        "outputId": "d189103c-a52e-4d1a-f21c-a90d10b8e1a4"
      },
      "execution_count": 9,
      "outputs": [
        {
          "output_type": "stream",
          "name": "stdout",
          "text": [
            "Original position: 0\n"
          ]
        }
      ]
    },
    {
      "cell_type": "code",
      "source": [
        "# Move the alien to the right.\n",
        "# Determine how far to move the alien based on its current speed.\n",
        "if alien_0['speed'] == 'slow':\n",
        " x_increment = 1\n",
        "elif alien_0['speed'] == 'medium':\n",
        " x_increment = 2\n",
        "else:\n",
        " # This must be a fast alien.\n",
        " x_increment = 3\n",
        "# The new position is the old position plus the increment.\n",
        "alien_0['x_position'] = alien_0['x_position'] + x_increment\n",
        "print(f\"New position: {alien_0['x_position']}\")"
      ],
      "metadata": {
        "colab": {
          "base_uri": "https://localhost:8080/"
        },
        "id": "mtBKgv2PVCSA",
        "outputId": "14e1647f-7ead-4ff8-d4ba-8aa3854d5657"
      },
      "execution_count": 10,
      "outputs": [
        {
          "output_type": "stream",
          "name": "stdout",
          "text": [
            "New position: 2\n"
          ]
        }
      ]
    },
    {
      "cell_type": "code",
      "source": [
        "alien_0['speed'] = 'fast'"
      ],
      "metadata": {
        "id": "ZcW3MhcjVCTq"
      },
      "execution_count": 11,
      "outputs": []
    },
    {
      "cell_type": "code",
      "source": [
        "alien_0 = {'color': 'green', 'points': 5}\n",
        "print(alien_0)\n",
        "del alien_0['points']\n",
        "print(alien_0)"
      ],
      "metadata": {
        "colab": {
          "base_uri": "https://localhost:8080/"
        },
        "id": "-jWyiIbsWzu8",
        "outputId": "83f1bc68-a67c-4bc4-c7c2-386da5c5b8f6"
      },
      "execution_count": 12,
      "outputs": [
        {
          "output_type": "stream",
          "name": "stdout",
          "text": [
            "{'color': 'green', 'points': 5}\n",
            "{'color': 'green'}\n"
          ]
        }
      ]
    },
    {
      "cell_type": "code",
      "source": [
        "favorite_languages = {\n",
        " 'jen': 'python',\n",
        " 'sarah': 'c',\n",
        " 'edward': 'rust',\n",
        " 'phil': 'python',\n",
        " }\n",
        "\n",
        "print(favorite_languages['sarah'])"
      ],
      "metadata": {
        "colab": {
          "base_uri": "https://localhost:8080/"
        },
        "id": "2V0jYnbjWzy7",
        "outputId": "1c13235e-337c-4a9a-f96d-0804c0af5278"
      },
      "execution_count": 13,
      "outputs": [
        {
          "output_type": "stream",
          "name": "stdout",
          "text": [
            "c\n"
          ]
        }
      ]
    },
    {
      "cell_type": "code",
      "source": [
        "alien_0 = {'color': 'green', 'speed': 'slow'}\n",
        "#expect error\n",
        "#print(alien_0['points'])"
      ],
      "metadata": {
        "id": "1X5jVQZuWz2q"
      },
      "execution_count": 14,
      "outputs": []
    },
    {
      "cell_type": "code",
      "source": [
        "point_value = alien_0.get('points', 'No point value assigned.')\n",
        "print(point_value)"
      ],
      "metadata": {
        "colab": {
          "base_uri": "https://localhost:8080/"
        },
        "id": "XQsm8akkWz6A",
        "outputId": "98341ef7-bd5e-46aa-968a-f22f1ba0622d"
      },
      "execution_count": 15,
      "outputs": [
        {
          "output_type": "stream",
          "name": "stdout",
          "text": [
            "No point value assigned.\n"
          ]
        }
      ]
    },
    {
      "cell_type": "markdown",
      "source": [
        "6-1. Person: Use a dictionary to store information about a person you\n",
        "know. Store their first name, last name, age, and the city in which they live.\n",
        "You should have keys such as first_name, last_name, age, and city. Print each\n",
        "piece of information stored in your dictionary.\\\n",
        "\n",
        "6-2. Favorite Numbers: Use a dictionary to store people’s favorite\n",
        "numbers. Think of five names, and use them as keys in your dictionary.\n",
        "Think of a favorite number for each person, and store each as a value in\n",
        "your dictionary. Print each person’s name and their favorite number. For\n",
        "even more fun, poll a few friends and get some actual data for your\n",
        "program.\\\n",
        "\n",
        "6-3. Glossary: A Python dictionary can be used to model an actual\n",
        "dictionary. However, to avoid confusion, let’s call it a glossary.\n",
        "Think of five programming words you’ve learned about in the previous\n",
        "chapters. Use these words as the keys in your glossary, and store their\n",
        "meanings as values.\n",
        "Print each word and its meaning as neatly formatted output. You might print\n",
        "the word followed by a colon and then its meaning, or print the word on one\n",
        "line and then print its meaning indented on a second line. Use the newline\n",
        "character (\\n) to insert a blank line between each word-meaning pair in your\n",
        "output\n",
        "\n",
        "6-4. Glossary 2: Now that you know how to loop through a dictionary,\n",
        "clean up the code from Exercise 6-3 (page 99) by replacing your series of\n",
        "print() calls with a loop that runs through the dictionary’s keys and values.\n",
        "When you’re sure that your loop works, add five more Python terms to your\n",
        "glossary. When you run your program again, these new words and meanings\n",
        "should automatically be included in the output."
      ],
      "metadata": {
        "id": "9z1CJA6OZNp4"
      }
    },
    {
      "cell_type": "code",
      "source": [
        "friend = {\n",
        "    \"first\": \"jake\",\n",
        "    \"last\": \"jas\",\n",
        "    \"city\": \"new york\"\n",
        "}\n",
        "\n",
        "for key, value in friend.items():\n",
        " print(f\"\\nKey: {key}\")\n",
        " print(f\"Value: {value}\")"
      ],
      "metadata": {
        "colab": {
          "base_uri": "https://localhost:8080/"
        },
        "id": "hHAx5n9qOAef",
        "outputId": "1f5fa527-70bc-4531-9446-386bccacd4ee"
      },
      "execution_count": 16,
      "outputs": [
        {
          "output_type": "stream",
          "name": "stdout",
          "text": [
            "\n",
            "Key: first\n",
            "Value: jake\n",
            "\n",
            "Key: last\n",
            "Value: jas\n",
            "\n",
            "Key: city\n",
            "Value: new york\n"
          ]
        }
      ]
    },
    {
      "cell_type": "code",
      "source": [
        "favorite_numbers = {\n",
        "    \"jake\": 6,\n",
        "    \"april\": 2,\n",
        "    \"beth\": 5,\n",
        "    \"clark\": 100,\n",
        "    \"des\": 20\n",
        "}\n",
        "\n",
        "for key, value in favorite_numbers.items():\n",
        " print(f\"\\nKey: {key}\")\n",
        " print(f\"Value: {value}\")"
      ],
      "metadata": {
        "colab": {
          "base_uri": "https://localhost:8080/"
        },
        "id": "w_N-LceJO_b8",
        "outputId": "c22e030c-9f98-438d-909b-a5cdc39579b4"
      },
      "execution_count": 17,
      "outputs": [
        {
          "output_type": "stream",
          "name": "stdout",
          "text": [
            "\n",
            "Key: jake\n",
            "Value: 6\n",
            "\n",
            "Key: april\n",
            "Value: 2\n",
            "\n",
            "Key: beth\n",
            "Value: 5\n",
            "\n",
            "Key: clark\n",
            "Value: 100\n",
            "\n",
            "Key: des\n",
            "Value: 20\n"
          ]
        }
      ]
    },
    {
      "cell_type": "code",
      "source": [
        "glossary = {\n",
        "    \"list\": \"a collection of of similar or different items\",\n",
        "    \"dictionary\": \"a key value data type\",\n",
        "    \"string\": \"textual data surrounded by quotation marks\",\n",
        "    \"if-statements\": \"a conditional statement that evaulates to true of false\",\n",
        "    \"float\": \"a floating point decimal\"\n",
        "}\n",
        "\n",
        "\n",
        "glossary[\"for loop\"] = \"A loop that loops through a specified range\"\n",
        "glossary[\"while loop\"] = \"a loop that loops though a condition\"\n",
        "glossary[\"constant\"] = \"A constant is a variable whose value stays the same throughout the life of a program\"\n",
        "glossary[\"element\"] = \"An Item in a list\"\n",
        "for key, value in glossary.items():\n",
        " print(f\"{key.title()}: {value.title()}\")"
      ],
      "metadata": {
        "colab": {
          "base_uri": "https://localhost:8080/"
        },
        "id": "0BqyNY6oPnr_",
        "outputId": "d1c443b0-cdbf-4725-b3db-66fbed42cf63"
      },
      "execution_count": 18,
      "outputs": [
        {
          "output_type": "stream",
          "name": "stdout",
          "text": [
            "List: A Collection Of Of Similar Or Different Items\n",
            "Dictionary: A Key Value Data Type\n",
            "String: Textual Data Surrounded By Quotation Marks\n",
            "If-Statements: A Conditional Statement That Evaulates To True Of False\n",
            "Float: A Floating Point Decimal\n",
            "For Loop: A Loop That Loops Through A Specified Range\n",
            "While Loop: A Loop That Loops Though A Condition\n",
            "Constant: A Constant Is A Variable Whose Value Stays The Same Throughout The Life Of A Program\n",
            "Element: An Item In A List\n"
          ]
        }
      ]
    },
    {
      "cell_type": "code",
      "source": [
        "user_0 = {\n",
        " 'username': 'efermi',\n",
        " 'first': 'enrico',\n",
        " 'last': 'fermi',\n",
        " }\n",
        "\n",
        "for key, value in user_0.items():\n",
        " print(f\"\\nKey: {key}\")\n",
        " print(f\"Value: {value}\")"
      ],
      "metadata": {
        "colab": {
          "base_uri": "https://localhost:8080/"
        },
        "id": "ed4VgYf6Wz9S",
        "outputId": "fc13e78a-22ed-4cb6-d517-81ba08a08ee7"
      },
      "execution_count": 19,
      "outputs": [
        {
          "output_type": "stream",
          "name": "stdout",
          "text": [
            "\n",
            "Key: username\n",
            "Value: efermi\n",
            "\n",
            "Key: first\n",
            "Value: enrico\n",
            "\n",
            "Key: last\n",
            "Value: fermi\n"
          ]
        }
      ]
    },
    {
      "cell_type": "code",
      "source": [
        "for name, language in favorite_languages.items():\n",
        " print(f\"{name.title()}'s favorite language is {language.title()}.\")"
      ],
      "metadata": {
        "colab": {
          "base_uri": "https://localhost:8080/"
        },
        "id": "qoZ0Qc6CW0BC",
        "outputId": "8c3e891e-4575-4b1a-96f0-e869e70d9760"
      },
      "execution_count": 20,
      "outputs": [
        {
          "output_type": "stream",
          "name": "stdout",
          "text": [
            "Jen's favorite language is Python.\n",
            "Sarah's favorite language is C.\n",
            "Edward's favorite language is Rust.\n",
            "Phil's favorite language is Python.\n"
          ]
        }
      ]
    },
    {
      "cell_type": "code",
      "source": [
        "for name in favorite_languages.keys():\n",
        " print(name.title())\n"
      ],
      "metadata": {
        "id": "BPbKEOkKW0EJ",
        "colab": {
          "base_uri": "https://localhost:8080/"
        },
        "outputId": "b4e5a5d6-489f-4654-b211-74153dfacb2b"
      },
      "execution_count": 21,
      "outputs": [
        {
          "output_type": "stream",
          "name": "stdout",
          "text": [
            "Jen\n",
            "Sarah\n",
            "Edward\n",
            "Phil\n"
          ]
        }
      ]
    },
    {
      "cell_type": "code",
      "source": [
        "friends = ['phil', 'sarah']\n",
        "for name in favorite_languages.keys():\n",
        " print(f\"Hi {name.title()}.\")\n",
        " if name in friends:\n",
        "  language = favorite_languages[name].title()\n",
        "  print(f\"\\t{name.title()}, I see you love {language}!\")"
      ],
      "metadata": {
        "colab": {
          "base_uri": "https://localhost:8080/"
        },
        "id": "bfEimTRyW0wb",
        "outputId": "0ce7911b-691b-40f1-9940-2d06fc4609ca"
      },
      "execution_count": 22,
      "outputs": [
        {
          "output_type": "stream",
          "name": "stdout",
          "text": [
            "Hi Jen.\n",
            "Hi Sarah.\n",
            "\tSarah, I see you love C!\n",
            "Hi Edward.\n",
            "Hi Phil.\n",
            "\tPhil, I see you love Python!\n"
          ]
        }
      ]
    },
    {
      "cell_type": "code",
      "source": [
        "if 'erin' not in favorite_languages.keys():\n",
        " print(\"Erin, please take our poll!\")\n"
      ],
      "metadata": {
        "colab": {
          "base_uri": "https://localhost:8080/"
        },
        "id": "C5SQQ4q9W0zh",
        "outputId": "eac57606-e476-43ba-e6bc-ca8318e7417a"
      },
      "execution_count": 23,
      "outputs": [
        {
          "output_type": "stream",
          "name": "stdout",
          "text": [
            "Erin, please take our poll!\n"
          ]
        }
      ]
    },
    {
      "cell_type": "code",
      "source": [
        "for name in sorted(favorite_languages.keys()):\n",
        " print(f\"{name.title()}, thank you for taking the poll.\")\n"
      ],
      "metadata": {
        "colab": {
          "base_uri": "https://localhost:8080/"
        },
        "id": "V0YTXodfW027",
        "outputId": "1ac961e6-e4d9-46f2-f3c9-664c2172e50e"
      },
      "execution_count": 24,
      "outputs": [
        {
          "output_type": "stream",
          "name": "stdout",
          "text": [
            "Edward, thank you for taking the poll.\n",
            "Jen, thank you for taking the poll.\n",
            "Phil, thank you for taking the poll.\n",
            "Sarah, thank you for taking the poll.\n"
          ]
        }
      ]
    },
    {
      "cell_type": "code",
      "source": [
        "print(\"The following languages have been mentioned:\")\n",
        "for language in favorite_languages.values():\n",
        " print(language.title())"
      ],
      "metadata": {
        "colab": {
          "base_uri": "https://localhost:8080/"
        },
        "id": "wmowK_bDW05-",
        "outputId": "f0436ac9-ef1a-436d-fff8-f79b7c909f88"
      },
      "execution_count": 25,
      "outputs": [
        {
          "output_type": "stream",
          "name": "stdout",
          "text": [
            "The following languages have been mentioned:\n",
            "Python\n",
            "C\n",
            "Rust\n",
            "Python\n"
          ]
        }
      ]
    },
    {
      "cell_type": "code",
      "source": [
        "alien_0 = {'color': 'green', 'points': 5}\n",
        "alien_1 = {'color': 'yellow', 'points': 10}\n",
        "alien_2 = {'color': 'red', 'points': 15}\n",
        "aliens = [alien_0, alien_1, alien_2]\n",
        "for alien in aliens:\n",
        " print(alien)"
      ],
      "metadata": {
        "colab": {
          "base_uri": "https://localhost:8080/"
        },
        "id": "nSZj-hKeVCdm",
        "outputId": "8b1cc196-fe86-40c4-97c8-6f7f2f2e4282"
      },
      "execution_count": 26,
      "outputs": [
        {
          "output_type": "stream",
          "name": "stdout",
          "text": [
            "{'color': 'green', 'points': 5}\n",
            "{'color': 'yellow', 'points': 10}\n",
            "{'color': 'red', 'points': 15}\n"
          ]
        }
      ]
    },
    {
      "cell_type": "code",
      "source": [
        "# Make an empty list for storing aliens.\n",
        "aliens = []\n",
        "# Make 30 green aliens.\n",
        "for alien_number in range(30):\n",
        "  new_alien = {'color': 'green', 'points': 5, 'speed': 'slow'}\n",
        "  aliens.append(new_alien)\n",
        "# Show the first 5 aliens.\n",
        "for alien in aliens[:5]:\n",
        " print(alien)\n",
        "print(\"...\")\n",
        "# Show how many aliens have been created.\n",
        "print(f\"Total number of aliens: {len(aliens)}\")"
      ],
      "metadata": {
        "colab": {
          "base_uri": "https://localhost:8080/"
        },
        "id": "KsKrX-97VCgc",
        "outputId": "d72fc1a2-3e1a-44d6-80d8-013383e368ea"
      },
      "execution_count": 27,
      "outputs": [
        {
          "output_type": "stream",
          "name": "stdout",
          "text": [
            "{'color': 'green', 'points': 5, 'speed': 'slow'}\n",
            "{'color': 'green', 'points': 5, 'speed': 'slow'}\n",
            "{'color': 'green', 'points': 5, 'speed': 'slow'}\n",
            "{'color': 'green', 'points': 5, 'speed': 'slow'}\n",
            "{'color': 'green', 'points': 5, 'speed': 'slow'}\n",
            "...\n",
            "Total number of aliens: 30\n"
          ]
        }
      ]
    },
    {
      "cell_type": "code",
      "source": [
        "# Make an empty list for storing aliens.\n",
        "aliens = []\n",
        "# Make 30 green aliens.\n",
        "for alien_number in range (30):\n",
        " new_alien = {'color': 'green', 'points': 5, 'speed': 'slow'}\n",
        " aliens.append(new_alien)\n",
        "for alien in aliens[:3]:#change the first three aliens to yellow medium speed aliens worth 10 points each\n",
        " if alien['color'] == 'green':\n",
        "  alien['color'] = 'yellow'\n",
        "  alien['speed'] = 'medium'\n",
        "  alien['points'] = 10\n",
        "# Show the first 5 aliens.\n",
        "for alien in aliens[:5]:\n",
        " print(alien)\n",
        "print(\"...\")"
      ],
      "metadata": {
        "colab": {
          "base_uri": "https://localhost:8080/"
        },
        "id": "-LwTvUiuVCsB",
        "outputId": "eb1161ca-57f7-4645-8731-3ab244a07c6d"
      },
      "execution_count": 28,
      "outputs": [
        {
          "output_type": "stream",
          "name": "stdout",
          "text": [
            "{'color': 'yellow', 'points': 10, 'speed': 'medium'}\n",
            "{'color': 'yellow', 'points': 10, 'speed': 'medium'}\n",
            "{'color': 'yellow', 'points': 10, 'speed': 'medium'}\n",
            "{'color': 'green', 'points': 5, 'speed': 'slow'}\n",
            "{'color': 'green', 'points': 5, 'speed': 'slow'}\n",
            "...\n"
          ]
        }
      ]
    },
    {
      "cell_type": "code",
      "source": [
        "# Make an empty list for storing aliens.\n",
        "aliens = []\n",
        "# Make 30 green aliens.\n",
        "for alien_number in range (30):\n",
        " new_alien = {'color': 'green', 'points': 5, 'speed': 'slow'}\n",
        " aliens.append(new_alien)\n",
        "for alien in aliens[:3]:#change the first three aliens to yellow medium speed aliens worth 10 points each\n",
        " if alien['color'] == 'green':\n",
        "  alien['color'] = 'yellow'\n",
        "  alien['speed'] = 'medium'\n",
        "  alien['points'] = 10\n",
        " elif alien['color'] == 'yellow':#an elif block that turns yellow aliens into red, fast-moving ones worth 15 points each\n",
        "  alien['color'] = 'red'\n",
        "  alien['speed'] = 'fast'\n",
        "  alien['points'] = 15\n",
        "\n",
        "# Show the first 5 aliens.\n",
        "for alien in aliens[:5]:\n",
        " print(alien)\n",
        "print(\"...\")"
      ],
      "metadata": {
        "colab": {
          "base_uri": "https://localhost:8080/"
        },
        "id": "cspmFQ_uVCvB",
        "outputId": "d1183d24-3eb1-445c-b16f-3cf62184dee7"
      },
      "execution_count": 29,
      "outputs": [
        {
          "output_type": "stream",
          "name": "stdout",
          "text": [
            "{'color': 'yellow', 'points': 10, 'speed': 'medium'}\n",
            "{'color': 'yellow', 'points': 10, 'speed': 'medium'}\n",
            "{'color': 'yellow', 'points': 10, 'speed': 'medium'}\n",
            "{'color': 'green', 'points': 5, 'speed': 'slow'}\n",
            "{'color': 'green', 'points': 5, 'speed': 'slow'}\n",
            "...\n"
          ]
        }
      ]
    },
    {
      "cell_type": "code",
      "source": [
        "# Store information about a pizza being ordered.\n",
        "pizza = {\n",
        " 'crust': 'thick',\n",
        " 'toppings': ['mushrooms', 'extra cheese'],\n",
        " }\n",
        "# Summarize the order.\n",
        "print(f\"You ordered a {pizza['crust']}-crust pizza \"\n",
        " \"with the following toppings:\")\n",
        "for topping in pizza['toppings']:\n",
        " print(f\"\\t{topping}\")"
      ],
      "metadata": {
        "colab": {
          "base_uri": "https://localhost:8080/"
        },
        "id": "mLdBJ8pQVCyC",
        "outputId": "28bd9400-b012-4a41-a645-4ed2ed6293a2"
      },
      "execution_count": 30,
      "outputs": [
        {
          "output_type": "stream",
          "name": "stdout",
          "text": [
            "You ordered a thick-crust pizza with the following toppings:\n",
            "\tmushrooms\n",
            "\textra cheese\n"
          ]
        }
      ]
    },
    {
      "cell_type": "code",
      "source": [
        "favorite_languages = {\n",
        " 'jen': ['python', 'rust'],\n",
        " 'sarah': ['c'],\n",
        " 'edward': ['rust', 'go'],\n",
        " 'phil': ['python', 'haskell'],\n",
        " }\n",
        "for name, languages in favorite_languages.items():\n",
        " print(f\"\\n{name.title()}'s favorite languages are:\")\n",
        "for language in languages:\n",
        " print(f\"\\t{language.title()}\")"
      ],
      "metadata": {
        "colab": {
          "base_uri": "https://localhost:8080/"
        },
        "id": "5RFk_SZjVC0X",
        "outputId": "6a16d8b9-f624-4ccb-d044-1f5cf9823c85"
      },
      "execution_count": 31,
      "outputs": [
        {
          "output_type": "stream",
          "name": "stdout",
          "text": [
            "\n",
            "Jen's favorite languages are:\n",
            "\n",
            "Sarah's favorite languages are:\n",
            "\n",
            "Edward's favorite languages are:\n",
            "\n",
            "Phil's favorite languages are:\n",
            "\tPython\n",
            "\tHaskell\n"
          ]
        }
      ]
    },
    {
      "cell_type": "code",
      "source": [
        "users = {\n",
        " 'aeinstein': {\n",
        " 'first': 'albert',\n",
        " 'last': 'einstein',\n",
        " 'location': 'princeton',\n",
        " },\n",
        " 'mcurie': {\n",
        " 'first': 'marie',\n",
        " 'last': 'curie',\n",
        " 'location': 'paris',\n",
        " },\n",
        " }\n",
        "for username, user_info in users.items():\n",
        "  print(f\"\\nUsername: {username}\")\n",
        "  full_name = f\"{user_info['first']} {user_info['last']}\"\n",
        "  location = user_info['location']\n",
        "  print(f\"\\tFull name: {full_name.title()}\")\n",
        "  print(f\"\\tLocation: {location.title()}\")\n"
      ],
      "metadata": {
        "colab": {
          "base_uri": "https://localhost:8080/"
        },
        "id": "4TZWQNVidhfT",
        "outputId": "a54c66ff-35ed-4f58-a551-35f9aa724894"
      },
      "execution_count": 32,
      "outputs": [
        {
          "output_type": "stream",
          "name": "stdout",
          "text": [
            "\n",
            "Username: aeinstein\n",
            "\tFull name: Albert Einstein\n",
            "\tLocation: Princeton\n",
            "\n",
            "Username: mcurie\n",
            "\tFull name: Marie Curie\n",
            "\tLocation: Paris\n"
          ]
        }
      ]
    },
    {
      "cell_type": "markdown",
      "source": [
        "\n",
        "\n",
        "6-11. Cities: Make a dictionary called cities. Use the names of three cities\n",
        "as keys in your dictionary. Create a dictionary of information about each city\n",
        "and include the country that the city is in, its approximate population, and\n",
        "one fact about that city. The keys for each city’s dictionary should be\n",
        "something like country, population, and fact. Print the name of each city and\n",
        "all of the information you have stored about it.\n",
        "\n",
        "# And 6-12\n"
      ],
      "metadata": {
        "id": "t8SrGpGmeJO_"
      }
    },
    {
      "cell_type": "code",
      "source": [
        "cities = {\n",
        "    \"new york\": {\n",
        "        \"country\": \"United States of America\",\n",
        "        \"population\": \"8 million\",\n",
        "        \"fact\": \"called the Big Apple\",\n",
        "        \"coolness\": 6, # extension\n",
        "        \"walkable\": True # extension\n",
        "    },\n",
        "    \"dallas\": {\n",
        "        \"country\": \"United States of America\",\n",
        "        \"population\": \" 4 million\",\n",
        "        \"fact\": \"has country music\",\n",
        "        \"coolness\": 3,\n",
        "        \"walkable\": False\n",
        "    },\n",
        "    \"tokyo\": {\n",
        "        \"country\": \"japana\",\n",
        "        \"population\": \" 7 million\",\n",
        "        \"fact\": \"has sakura trees\",\n",
        "        \"coolness\": 4,\n",
        "        \"walkable\": True\n",
        "    }\n",
        "\n",
        "}\n",
        "\n",
        "for citi, citiInfo in cities.items():\n",
        "  print(f\"\\nCiti: {citi}\")\n",
        "  print(f\"{citiInfo}\")\n"
      ],
      "metadata": {
        "colab": {
          "base_uri": "https://localhost:8080/"
        },
        "id": "LVL3TZDEdhbm",
        "outputId": "ac8ae010-8cea-4a01-deae-4be40206ea44"
      },
      "execution_count": 33,
      "outputs": [
        {
          "output_type": "stream",
          "name": "stdout",
          "text": [
            "\n",
            "Citi: new york\n",
            "{'country': 'United States of America', 'population': '8 million', 'fact': 'called the Big Apple', 'coolness': 6, 'walkable': True}\n",
            "\n",
            "Citi: dallas\n",
            "{'country': 'United States of America', 'population': ' 4 million', 'fact': 'has country music', 'coolness': 3, 'walkable': False}\n",
            "\n",
            "Citi: tokyo\n",
            "{'country': 'japana', 'population': ' 7 million', 'fact': 'has sakura trees', 'coolness': 4, 'walkable': True}\n"
          ]
        }
      ]
    }
  ]
}