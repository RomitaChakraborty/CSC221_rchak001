{
  "nbformat": 4,
  "nbformat_minor": 0,
  "metadata": {
    "colab": {
      "provenance": [],
      "include_colab_link": true
    },
    "kernelspec": {
      "name": "python3",
      "display_name": "Python 3"
    },
    "language_info": {
      "name": "python"
    }
  },
  "cells": [
    {
      "cell_type": "markdown",
      "metadata": {
        "id": "view-in-github",
        "colab_type": "text"
      },
      "source": [
        "<a href=\"https://colab.research.google.com/github/RomitaChakraborty/CSC221_rchak001/blob/main/FinalAssignment(CSC221)26_28.ipynb\" target=\"_parent\"><img src=\"https://colab.research.google.com/assets/colab-badge.svg\" alt=\"Open In Colab\"/></a>"
      ]
    },
    {
      "cell_type": "markdown",
      "source": [
        "Final Assignment 26-28\n",
        "\n",
        "CSC221 A\n",
        "\n",
        "Romita Chakraborty"
      ],
      "metadata": {
        "id": "pcETSjn84uFk"
      }
    },
    {
      "cell_type": "code",
      "source": [
        "#Cell 1: Demonstrate int, float, and string\n",
        "\n",
        "person_name = \"Romita Chakraborty\"\n",
        "person_age = 20\n",
        "person_height = 147.3 #cm\n",
        "\n",
        "print(type(person_name))\n",
        "print(type(person_age))\n",
        "print(type(person_height))\n"
      ],
      "metadata": {
        "colab": {
          "base_uri": "https://localhost:8080/"
        },
        "id": "3WKhOt5O4769",
        "outputId": "c68e9c2a-48cb-489d-faae-55a46e015c1e"
      },
      "execution_count": 1,
      "outputs": [
        {
          "output_type": "stream",
          "name": "stdout",
          "text": [
            "<class 'str'>\n",
            "<class 'int'>\n",
            "<class 'float'>\n"
          ]
        }
      ]
    },
    {
      "cell_type": "code",
      "source": [
        "#Cell 2: Show how an f-string works (f'Something like this with {something} in it.')\n",
        "\n",
        "person_name = \"Romita Chakraborty\"\n",
        "person_age = 20\n",
        "\n",
        "my_intro = f\"My name is {person_name} and I am {person_age} years old.\"\n",
        "\n",
        "print(my_intro)"
      ],
      "metadata": {
        "colab": {
          "base_uri": "https://localhost:8080/"
        },
        "id": "srZsUFPM8Vj-",
        "outputId": "90b665c8-0504-4ee7-ce9e-42851a5c37ef"
      },
      "execution_count": 2,
      "outputs": [
        {
          "output_type": "stream",
          "name": "stdout",
          "text": [
            "My name is Romita Chakraborty and I am 20 years old.\n"
          ]
        }
      ]
    },
    {
      "cell_type": "code",
      "source": [
        "#Cell 3: Demonstrate some methods of the string class\n",
        "\n",
        "martinlk_quote = \"  darkness cannot drive out darkness; only light can do that. hate cannot drive out hate; only love can do that.  \"\n",
        "\n",
        "#1. title()\n",
        "print(martinlk_quote.title())\n",
        "\n",
        "#2. upper()\n",
        "print(martinlk_quote.upper())\n",
        "\n",
        "#3. lower()\n",
        "print(martinlk_quote.lower())\n",
        "\n",
        "#4. count() - counts and returns the number of times a specified value occurs in a string\n",
        "print(martinlk_quote.count(\"hate\"))\n",
        "\n",
        "#5. index() - returns the position of the first occurence of the specified value\n",
        "print(martinlk_quote.index(\"cannot\"))\n",
        "\n",
        "#6. strip() - strips whitespace from both sides of string\n",
        "print(martinlk_quote.strip().capitalize())\n",
        "\n"
      ],
      "metadata": {
        "colab": {
          "base_uri": "https://localhost:8080/"
        },
        "id": "wp1JZnD49n97",
        "outputId": "873958de-6463-4046-a784-e2636dac2f2e"
      },
      "execution_count": null,
      "outputs": [
        {
          "output_type": "stream",
          "name": "stdout",
          "text": [
            "  Darkness Cannot Drive Out Darkness; Only Light Can Do That. Hate Cannot Drive Out Hate; Only Love Can Do That.  \n",
            "  DARKNESS CANNOT DRIVE OUT DARKNESS; ONLY LIGHT CAN DO THAT. HATE CANNOT DRIVE OUT HATE; ONLY LOVE CAN DO THAT.  \n",
            "  darkness cannot drive out darkness; only light can do that. hate cannot drive out hate; only love can do that.  \n",
            "2\n",
            "11\n",
            "Darkness cannot drive out darkness; only light can do that. hate cannot drive out hate; only love can do that.\n"
          ]
        }
      ]
    },
    {
      "cell_type": "code",
      "source": [
        "#Cell 4: Do something with a list\n",
        "\n",
        "#creating a list of squares of numbers from 0 to 9 using list comprehension\n",
        "\n",
        "squares = [x**2 for x in range(10)]\n",
        "print(squares)\n",
        "\n",
        "#finding the length of the list\n",
        "\n",
        "len(squares)\n",
        "print(len(squares))\n",
        "\n",
        "#reversing the order of items in a list (permanently)\n",
        "\n",
        "squares.reverse()\n",
        "print(squares)\n",
        "\n"
      ],
      "metadata": {
        "colab": {
          "base_uri": "https://localhost:8080/"
        },
        "id": "XND43Y-FMJDL",
        "outputId": "540fa13b-fc16-4a05-a0d3-14216a0bce21"
      },
      "execution_count": null,
      "outputs": [
        {
          "output_type": "stream",
          "name": "stdout",
          "text": [
            "[0, 1, 4, 9, 16, 25, 36, 49, 64, 81]\n",
            "10\n",
            "[81, 64, 49, 36, 25, 16, 9, 4, 1, 0]\n"
          ]
        }
      ]
    },
    {
      "cell_type": "code",
      "source": [
        "#Cell 5: Do something with a list of lists\n",
        "\n",
        "#creating a nested list of people's names and their college majors\n",
        "names_and_subjects = [\n",
        "    [\"Alice\", \"Math\"],\n",
        "    [\"Bob\", \"English\"],\n",
        "    [\"Charlie\", \"History\"],\n",
        "    [\"David\", \"Psychology\"],\n",
        "    [\"Eva\", \"Computer Science\"]\n",
        "]\n",
        "\n",
        "# Looping through the list and printing a statement with the lists' elements\n",
        "for name, subject in names_and_subjects:\n",
        "    print(f\"\\n{name} is majoring in {subject}.\")"
      ],
      "metadata": {
        "colab": {
          "base_uri": "https://localhost:8080/"
        },
        "id": "7Uuobb6TPov6",
        "outputId": "7fb84970-ba1c-4ddd-85e4-6c388a7a0800"
      },
      "execution_count": null,
      "outputs": [
        {
          "output_type": "stream",
          "name": "stdout",
          "text": [
            "\n",
            "Alice is majoring in Math.\n",
            "\n",
            "Bob is majoring in English.\n",
            "\n",
            "Charlie is majoring in History.\n",
            "\n",
            "David is majoring in Psychology.\n",
            "\n",
            "Eva is majoring in Computer Science.\n"
          ]
        }
      ]
    },
    {
      "cell_type": "code",
      "source": [
        "#Cell 6: Show how to print a list in sorted order without changing it.\n",
        "\n",
        "#Using the sorted() function instead of the sort() function to sort a list temporarily in alphabetical order.\n",
        "\n",
        "flowers = [\"Rose\", \"Tulip\", \"Daisy\", \"Lily\", \"Sunflower\", \"Orchid\"]\n",
        "\n",
        "print(\"Here is the original list:\")\n",
        "print(flowers)\n",
        "\n",
        "print(\"\\nHere is the sorted list:\")\n",
        "print(sorted(flowers))\n",
        "\n",
        "print(\"\\nHere is the original list again:\")\n",
        "print(flowers)"
      ],
      "metadata": {
        "colab": {
          "base_uri": "https://localhost:8080/"
        },
        "id": "XjyRWQWcUpmS",
        "outputId": "9322c52c-4156-4d07-8348-b206f36e7896"
      },
      "execution_count": null,
      "outputs": [
        {
          "output_type": "stream",
          "name": "stdout",
          "text": [
            "Here is the original list:\n",
            "['Rose', 'Tulip', 'Daisy', 'Lily', 'Sunflower', 'Orchid']\n",
            "\n",
            "Here is the sorted list:\n",
            "['Daisy', 'Lily', 'Orchid', 'Rose', 'Sunflower', 'Tulip']\n",
            "\n",
            "Here is the original list again:\n",
            "['Rose', 'Tulip', 'Daisy', 'Lily', 'Sunflower', 'Orchid']\n"
          ]
        }
      ]
    },
    {
      "cell_type": "code",
      "source": [
        "#Cell 7: Printing a series of numbers using for and range\n",
        "\n",
        "for number in range(11):\n",
        "  print(number)"
      ],
      "metadata": {
        "colab": {
          "base_uri": "https://localhost:8080/"
        },
        "id": "17Le292YXnte",
        "outputId": "38bc8285-3e27-4ec0-f42b-2feeafe36878"
      },
      "execution_count": null,
      "outputs": [
        {
          "output_type": "stream",
          "name": "stdout",
          "text": [
            "0\n",
            "1\n",
            "2\n",
            "3\n",
            "4\n",
            "5\n",
            "6\n",
            "7\n",
            "8\n",
            "9\n",
            "10\n"
          ]
        }
      ]
    },
    {
      "cell_type": "code",
      "source": [
        "#Cell 8: Printing a series of squares of all numbers from 1 to 1000 that are not multiples of 7 using list comprehension.\n",
        "\n",
        "squares_two = [x**2 for x in range(0,1001) if x % 7 != 0]\n",
        "print(squares_two)"
      ],
      "metadata": {
        "colab": {
          "base_uri": "https://localhost:8080/"
        },
        "id": "jp6lfblFYH73",
        "outputId": "6647ac5c-edb9-4ec1-a01b-855381866d3c"
      },
      "execution_count": null,
      "outputs": [
        {
          "output_type": "stream",
          "name": "stdout",
          "text": [
            "[1, 4, 9, 16, 25, 36, 64, 81, 100, 121, 144, 169, 225, 256, 289, 324, 361, 400, 484, 529, 576, 625, 676, 729, 841, 900, 961, 1024, 1089, 1156, 1296, 1369, 1444, 1521, 1600, 1681, 1849, 1936, 2025, 2116, 2209, 2304, 2500, 2601, 2704, 2809, 2916, 3025, 3249, 3364, 3481, 3600, 3721, 3844, 4096, 4225, 4356, 4489, 4624, 4761, 5041, 5184, 5329, 5476, 5625, 5776, 6084, 6241, 6400, 6561, 6724, 6889, 7225, 7396, 7569, 7744, 7921, 8100, 8464, 8649, 8836, 9025, 9216, 9409, 9801, 10000, 10201, 10404, 10609, 10816, 11236, 11449, 11664, 11881, 12100, 12321, 12769, 12996, 13225, 13456, 13689, 13924, 14400, 14641, 14884, 15129, 15376, 15625, 16129, 16384, 16641, 16900, 17161, 17424, 17956, 18225, 18496, 18769, 19044, 19321, 19881, 20164, 20449, 20736, 21025, 21316, 21904, 22201, 22500, 22801, 23104, 23409, 24025, 24336, 24649, 24964, 25281, 25600, 26244, 26569, 26896, 27225, 27556, 27889, 28561, 28900, 29241, 29584, 29929, 30276, 30976, 31329, 31684, 32041, 32400, 32761, 33489, 33856, 34225, 34596, 34969, 35344, 36100, 36481, 36864, 37249, 37636, 38025, 38809, 39204, 39601, 40000, 40401, 40804, 41616, 42025, 42436, 42849, 43264, 43681, 44521, 44944, 45369, 45796, 46225, 46656, 47524, 47961, 48400, 48841, 49284, 49729, 50625, 51076, 51529, 51984, 52441, 52900, 53824, 54289, 54756, 55225, 55696, 56169, 57121, 57600, 58081, 58564, 59049, 59536, 60516, 61009, 61504, 62001, 62500, 63001, 64009, 64516, 65025, 65536, 66049, 66564, 67600, 68121, 68644, 69169, 69696, 70225, 71289, 71824, 72361, 72900, 73441, 73984, 75076, 75625, 76176, 76729, 77284, 77841, 78961, 79524, 80089, 80656, 81225, 81796, 82944, 83521, 84100, 84681, 85264, 85849, 87025, 87616, 88209, 88804, 89401, 90000, 91204, 91809, 92416, 93025, 93636, 94249, 95481, 96100, 96721, 97344, 97969, 98596, 99856, 100489, 101124, 101761, 102400, 103041, 104329, 104976, 105625, 106276, 106929, 107584, 108900, 109561, 110224, 110889, 111556, 112225, 113569, 114244, 114921, 115600, 116281, 116964, 118336, 119025, 119716, 120409, 121104, 121801, 123201, 123904, 124609, 125316, 126025, 126736, 128164, 128881, 129600, 130321, 131044, 131769, 133225, 133956, 134689, 135424, 136161, 136900, 138384, 139129, 139876, 140625, 141376, 142129, 143641, 144400, 145161, 145924, 146689, 147456, 148996, 149769, 150544, 151321, 152100, 152881, 154449, 155236, 156025, 156816, 157609, 158404, 160000, 160801, 161604, 162409, 163216, 164025, 165649, 166464, 167281, 168100, 168921, 169744, 171396, 172225, 173056, 173889, 174724, 175561, 177241, 178084, 178929, 179776, 180625, 181476, 183184, 184041, 184900, 185761, 186624, 187489, 189225, 190096, 190969, 191844, 192721, 193600, 195364, 196249, 197136, 198025, 198916, 199809, 201601, 202500, 203401, 204304, 205209, 206116, 207936, 208849, 209764, 210681, 211600, 212521, 214369, 215296, 216225, 217156, 218089, 219024, 220900, 221841, 222784, 223729, 224676, 225625, 227529, 228484, 229441, 230400, 231361, 232324, 234256, 235225, 236196, 237169, 238144, 239121, 241081, 242064, 243049, 244036, 245025, 246016, 248004, 249001, 250000, 251001, 252004, 253009, 255025, 256036, 257049, 258064, 259081, 260100, 262144, 263169, 264196, 265225, 266256, 267289, 269361, 270400, 271441, 272484, 273529, 274576, 276676, 277729, 278784, 279841, 280900, 281961, 284089, 285156, 286225, 287296, 288369, 289444, 291600, 292681, 293764, 294849, 295936, 297025, 299209, 300304, 301401, 302500, 303601, 304704, 306916, 308025, 309136, 310249, 311364, 312481, 314721, 315844, 316969, 318096, 319225, 320356, 322624, 323761, 324900, 326041, 327184, 328329, 330625, 331776, 332929, 334084, 335241, 336400, 338724, 339889, 341056, 342225, 343396, 344569, 346921, 348100, 349281, 350464, 351649, 352836, 355216, 356409, 357604, 358801, 360000, 361201, 363609, 364816, 366025, 367236, 368449, 369664, 372100, 373321, 374544, 375769, 376996, 378225, 380689, 381924, 383161, 384400, 385641, 386884, 389376, 390625, 391876, 393129, 394384, 395641, 398161, 399424, 400689, 401956, 403225, 404496, 407044, 408321, 409600, 410881, 412164, 413449, 416025, 417316, 418609, 419904, 421201, 422500, 425104, 426409, 427716, 429025, 430336, 431649, 434281, 435600, 436921, 438244, 439569, 440896, 443556, 444889, 446224, 447561, 448900, 450241, 452929, 454276, 455625, 456976, 458329, 459684, 462400, 463761, 465124, 466489, 467856, 469225, 471969, 473344, 474721, 476100, 477481, 478864, 481636, 483025, 484416, 485809, 487204, 488601, 491401, 492804, 494209, 495616, 497025, 498436, 501264, 502681, 504100, 505521, 506944, 508369, 511225, 512656, 514089, 515524, 516961, 518400, 521284, 522729, 524176, 525625, 527076, 528529, 531441, 532900, 534361, 535824, 537289, 538756, 541696, 543169, 544644, 546121, 547600, 549081, 552049, 553536, 555025, 556516, 558009, 559504, 562500, 564001, 565504, 567009, 568516, 570025, 573049, 574564, 576081, 577600, 579121, 580644, 583696, 585225, 586756, 588289, 589824, 591361, 594441, 595984, 597529, 599076, 600625, 602176, 605284, 606841, 608400, 609961, 611524, 613089, 616225, 617796, 619369, 620944, 622521, 624100, 627264, 628849, 630436, 632025, 633616, 635209, 638401, 640000, 641601, 643204, 644809, 646416, 649636, 651249, 652864, 654481, 656100, 657721, 660969, 662596, 664225, 665856, 667489, 669124, 672400, 674041, 675684, 677329, 678976, 680625, 683929, 685584, 687241, 688900, 690561, 692224, 695556, 697225, 698896, 700569, 702244, 703921, 707281, 708964, 710649, 712336, 714025, 715716, 719104, 720801, 722500, 724201, 725904, 727609, 731025, 732736, 734449, 736164, 737881, 739600, 743044, 744769, 746496, 748225, 749956, 751689, 755161, 756900, 758641, 760384, 762129, 763876, 767376, 769129, 770884, 772641, 774400, 776161, 779689, 781456, 783225, 784996, 786769, 788544, 792100, 793881, 795664, 797449, 799236, 801025, 804609, 806404, 808201, 810000, 811801, 813604, 817216, 819025, 820836, 822649, 824464, 826281, 829921, 831744, 833569, 835396, 837225, 839056, 842724, 844561, 846400, 848241, 850084, 851929, 855625, 857476, 859329, 861184, 863041, 864900, 868624, 870489, 872356, 874225, 876096, 877969, 881721, 883600, 885481, 887364, 889249, 891136, 894916, 896809, 898704, 900601, 902500, 904401, 908209, 910116, 912025, 913936, 915849, 917764, 921600, 923521, 925444, 927369, 929296, 931225, 935089, 937024, 938961, 940900, 942841, 944784, 948676, 950625, 952576, 954529, 956484, 958441, 962361, 964324, 966289, 968256, 970225, 972196, 976144, 978121, 980100, 982081, 984064, 986049, 990025, 992016, 994009, 996004, 998001, 1000000]\n"
          ]
        }
      ]
    },
    {
      "cell_type": "code",
      "source": [
        "#Cell 9: Generating all of the prime numbers from 2 to 1000 using the Sieve of Eratosthenes\n",
        "\n",
        "def sieve_of_eratosthenes(limit):\n",
        "    primes = []\n",
        "    is_prime = [True] * (limit + 1)\n",
        "    is_prime[0], is_prime[1] = False, False  # 0 and 1 are not prime numbers\n",
        "\n",
        "    for num in range(2, limit + 1):\n",
        "        if is_prime[num]:\n",
        "            primes.append(num)\n",
        "            for multiple in range(num*num, limit + 1, num):\n",
        "                is_prime[multiple] = False\n",
        "\n",
        "    return primes\n",
        "\n",
        "primes_up_to_1000 = sieve_of_eratosthenes(1000)\n",
        "print(primes_up_to_1000)\n",
        "\n"
      ],
      "metadata": {
        "id": "4UEzhXRZaZKW",
        "colab": {
          "base_uri": "https://localhost:8080/"
        },
        "outputId": "99f5a51f-7c6a-4470-8063-d004c90ec668"
      },
      "execution_count": null,
      "outputs": [
        {
          "output_type": "stream",
          "name": "stdout",
          "text": [
            "[2, 3, 5, 7, 11, 13, 17, 19, 23, 29, 31, 37, 41, 43, 47, 53, 59, 61, 67, 71, 73, 79, 83, 89, 97, 101, 103, 107, 109, 113, 127, 131, 137, 139, 149, 151, 157, 163, 167, 173, 179, 181, 191, 193, 197, 199, 211, 223, 227, 229, 233, 239, 241, 251, 257, 263, 269, 271, 277, 281, 283, 293, 307, 311, 313, 317, 331, 337, 347, 349, 353, 359, 367, 373, 379, 383, 389, 397, 401, 409, 419, 421, 431, 433, 439, 443, 449, 457, 461, 463, 467, 479, 487, 491, 499, 503, 509, 521, 523, 541, 547, 557, 563, 569, 571, 577, 587, 593, 599, 601, 607, 613, 617, 619, 631, 641, 643, 647, 653, 659, 661, 673, 677, 683, 691, 701, 709, 719, 727, 733, 739, 743, 751, 757, 761, 769, 773, 787, 797, 809, 811, 821, 823, 827, 829, 839, 853, 857, 859, 863, 877, 881, 883, 887, 907, 911, 919, 929, 937, 941, 947, 953, 967, 971, 977, 983, 991, 997]\n"
          ]
        }
      ]
    },
    {
      "cell_type": "code",
      "source": [
        "#Cell 10: Create a generator from your function above that you can use to print the first N prime numbers.\n",
        "\n",
        "def sieve_of_eratosthenes_generator(limit):\n",
        "    is_prime = [True] * (limit + 1)\n",
        "    is_prime[0] = is_prime[1] = False\n",
        "\n",
        "    for i in range(2, int(limit**0.5) + 1):\n",
        "        if is_prime[i]:\n",
        "            for j in range(i*i, limit + 1, i):\n",
        "                is_prime[j] = False\n",
        "\n",
        "    for num in range(2, limit + 1):\n",
        "        if is_prime[num]:\n",
        "            yield num\n",
        "\n",
        "def generate_primes_up_to_N(N):\n",
        "    limit = 2\n",
        "    primes_count = 0\n",
        "\n",
        "    while primes_count < N:\n",
        "        primes = list(sieve_of_eratosthenes_generator(limit))\n",
        "        primes_count = len(primes)\n",
        "        limit *= 2\n",
        "\n",
        "    yield from primes[:N]\n",
        "\n",
        "N = 10\n",
        "first_N_primes = list(generate_primes_up_to_N(N))\n",
        "print(f\"The first {N} prime numbers are:\", first_N_primes)\n"
      ],
      "metadata": {
        "id": "fqHVEWX4bu3C",
        "colab": {
          "base_uri": "https://localhost:8080/"
        },
        "outputId": "31912b40-2465-47fb-c241-2d4feefb8c80"
      },
      "execution_count": null,
      "outputs": [
        {
          "output_type": "stream",
          "name": "stdout",
          "text": [
            "The first 10 prime numbers are: [2, 3, 5, 7, 11, 13, 17, 19, 23, 29]\n"
          ]
        }
      ]
    },
    {
      "cell_type": "code",
      "source": [
        "#Cell 11: Generate 1000 random integers in a list (random.randint(...)) and print their min, max, sum, and average.\n",
        "\n",
        "import random\n",
        "\n",
        "random_num_list = [(random.randint(1,1000)) for i in range(1000)]\n",
        "\n",
        "print(min(random_num_list))\n",
        "print(max(random_num_list))\n",
        "print(sum(random_num_list))\n",
        "average = sum(random_num_list) / len(random_num_list)\n",
        "print(average)\n"
      ],
      "metadata": {
        "colab": {
          "base_uri": "https://localhost:8080/"
        },
        "id": "52ng3LGMb93p",
        "outputId": "78f023d4-469e-449b-fcfc-f5609ab4b227"
      },
      "execution_count": null,
      "outputs": [
        {
          "output_type": "stream",
          "name": "stdout",
          "text": [
            "1\n",
            "1000\n",
            "499485\n",
            "499.485\n"
          ]
        }
      ]
    },
    {
      "cell_type": "code",
      "source": [
        "#Cell 12: Write a simple function that uses if, elif, and else and show that it works.\n",
        "\n",
        "def classify_flower_color(flower_color):\n",
        "    if flower_color == \"red\":\n",
        "        return \"Rose\"\n",
        "    elif flower_color == \"yellow\":\n",
        "        return \"Sunflower\"\n",
        "    elif flower_color == \"purple\":\n",
        "        return \"Lavender\"\n",
        "    else:\n",
        "        return \"Unknown Flower\"\n",
        "\n",
        "# Testing the function\n",
        "flower1 = \"purple\"\n",
        "flower2 = \"yellow\"\n",
        "flower3 = \"blue\"\n",
        "\n",
        "result1 = classify_flower_color(flower1)\n",
        "result2 = classify_flower_color(flower2)\n",
        "result3 = classify_flower_color(flower3)\n",
        "\n",
        "print(f\"A {flower1} flower is a {result1}\")\n",
        "print(f\"A {flower2} flower is a {result2}\")\n",
        "print(f\"A {flower3} flower is a {result3}\")"
      ],
      "metadata": {
        "colab": {
          "base_uri": "https://localhost:8080/"
        },
        "id": "28L0i27lhW5Q",
        "outputId": "54d96ad6-e117-4605-82b8-704035e55319"
      },
      "execution_count": null,
      "outputs": [
        {
          "output_type": "stream",
          "name": "stdout",
          "text": [
            "A purple flower is a Lavender\n",
            "A yellow flower is a Sunflower\n",
            "A blue flower is a Unknown Flower\n"
          ]
        }
      ]
    },
    {
      "cell_type": "code",
      "source": [
        "#Cell 13: Show me three things from PEP-8 that surprise you\n",
        "\n",
        "#1. Avoiding extraneous whitespace in the following situations:\n",
        "\n",
        "#a).immediately inside parentheses, brackets or braces\n",
        "fruits = [ \"apple\", \"mango\", \"cherry\", \"pineapple\" ]  #not good\n",
        "fruits = [\"apple\", \"mango\", \"cherry\", \"pineapple\"]  #good\n",
        "\n",
        "#b).immediately before a comma, semicolon, or colon, like so:\n",
        "fruits = [\"apple\"  , \"mango\"  , \"cherry\"  , \"pineapple\"]\n",
        "\n",
        "\n",
        "\n",
        "\n",
        "#2. Spaces are preffered over tabs\n",
        "fruits = [\"apple\", \"mango\", \"cherry\", \"pineapple\"]\n",
        "\n",
        "for fruit in fruits:\n",
        "  if fruit == 'apple':\n",
        "    print(fruit.upper()) #used spaces\n",
        "\n",
        "\n",
        "\n",
        "\n",
        "#3. Limit the use of global variables. Use uppercase letters to name them.\n",
        "\n",
        "TEMP = \"cold\"  #variable defined outside of a function\n",
        "\n",
        "def a_func():\n",
        "  print(\"Antarctica is \" + TEMP)\n",
        "\n",
        "a_func()\n"
      ],
      "metadata": {
        "id": "cfDhv-xRja0A",
        "colab": {
          "base_uri": "https://localhost:8080/"
        },
        "outputId": "97fe6574-84c8-4c65-f98a-54dd577e0728"
      },
      "execution_count": null,
      "outputs": [
        {
          "output_type": "stream",
          "name": "stdout",
          "text": [
            "APPLE\n",
            "Antarctica is cold\n"
          ]
        }
      ]
    },
    {
      "cell_type": "markdown",
      "source": [
        "Cell 14: Create a file using %%file testfile.txt in Colab. The file should contain lines like the following:\n",
        "\n",
        "Amy, cat\n",
        "\n",
        "Fred, dog\n",
        "\n",
        "Hunter, dog\n",
        "\n",
        "Peena, parakeet\n",
        "\n",
        "Rover, dog"
      ],
      "metadata": {
        "id": "xudPu96aMcih"
      }
    },
    {
      "cell_type": "code",
      "source": [
        "#Cell 14: CODE\n",
        "\n",
        "%%file testfile.txt\n",
        "Emily, dog\n",
        "Jacob, cat\n",
        "Olivia, cat\n",
        "Liam, rabbit\n",
        "Luna, dog"
      ],
      "metadata": {
        "id": "mtihjsyIMFx2",
        "colab": {
          "base_uri": "https://localhost:8080/"
        },
        "outputId": "f4c78bb0-a4cc-4e42-f8ed-d9503bc30e39"
      },
      "execution_count": null,
      "outputs": [
        {
          "output_type": "stream",
          "name": "stdout",
          "text": [
            "Overwriting testfile.txt\n"
          ]
        }
      ]
    },
    {
      "cell_type": "code",
      "source": [
        "#Cell 15: Read that file in and convert it to a dictionary. Show how you can lookup pet type by using pet name with your dictionary.\n",
        "\n",
        "pet_dict = {}\n",
        "with open('testfile.txt', 'r') as file:\n",
        "    for line in file:\n",
        "        name, pet = line.strip().split(',')\n",
        "        pet_dict[name] = pet\n",
        "print(pet_dict)\n"
      ],
      "metadata": {
        "id": "AGQoiPAaMGXY",
        "colab": {
          "base_uri": "https://localhost:8080/"
        },
        "outputId": "74332dd1-0ded-4a36-d124-428c6549b7ef"
      },
      "execution_count": null,
      "outputs": [
        {
          "output_type": "stream",
          "name": "stdout",
          "text": [
            "{'Emily': ' dog', 'Jacob': ' cat', 'Olivia': ' cat', 'Liam': ' rabbit', 'Luna': ' dog'}\n"
          ]
        }
      ]
    },
    {
      "cell_type": "code",
      "source": [
        "#Cell 16: Generate a list of all the unique pet types in the dictionary. Use a set to make this happen\n",
        "\n",
        "unique_pet_types = set(pet_dict.values())\n",
        "print(unique_pet_types)"
      ],
      "metadata": {
        "id": "6eZfbtOCcSSC",
        "colab": {
          "base_uri": "https://localhost:8080/"
        },
        "outputId": "471ac444-ccab-4a7c-9c24-06ba9211e6cb"
      },
      "execution_count": null,
      "outputs": [
        {
          "output_type": "stream",
          "name": "stdout",
          "text": [
            "{' dog', ' cat', ' rabbit'}\n"
          ]
        }
      ]
    },
    {
      "cell_type": "code",
      "source": [
        "#Cell 17: Use a while loop to print the numbers from 80 down to 16 by 8. Do not use for or range.\n",
        "\n",
        "# Initialize the starting number for the countdown\n",
        "number = 80\n",
        "\n",
        "print(f\"Starting countdown from {number} down to 16 by 8:\")\n",
        "\n",
        "# Begin the countdown using a while loop\n",
        "while number >= 16:\n",
        "\n",
        "    print(number)\n",
        "\n",
        "    # Decrease the number by 8 for the next iteration\n",
        "    number -= 8\n",
        "\n",
        "\n",
        "print(\"Countdown complete!\")\n"
      ],
      "metadata": {
        "id": "L6a9KDzyMG7R",
        "colab": {
          "base_uri": "https://localhost:8080/"
        },
        "outputId": "b097f4ca-7db8-4d44-8160-fb6bed738ca6"
      },
      "execution_count": null,
      "outputs": [
        {
          "output_type": "stream",
          "name": "stdout",
          "text": [
            "Starting countdown from 80 down to 16 by 8:\n",
            "80\n",
            "72\n",
            "64\n",
            "56\n",
            "48\n",
            "40\n",
            "32\n",
            "24\n",
            "16\n",
            "Countdown complete!\n"
          ]
        }
      ]
    },
    {
      "cell_type": "code",
      "source": [
        "#Cell 18: Write a function that takes three numbers and returns their min, max, and sum as a tuple.\n",
        "\n",
        "def min_max_sum(num1, num2, num3):\n",
        "    # Calculate minimum, maximum, and sum\n",
        "    minimum = min(num1, num2, num3)\n",
        "    maximum = max(num1, num2, num3)\n",
        "    total = num1 + num2 + num3\n",
        "\n",
        "    # Return the result as a tuple\n",
        "    result_tuple = (minimum, maximum, total)\n",
        "    return result_tuple\n",
        "\n",
        "\n",
        "num1 = 5\n",
        "num2 = 20\n",
        "num3 = 3\n",
        "\n",
        "result = min_max_sum(num1, num2, num3)\n",
        "print(f\"Minimum: {result[0]}, Maximum: {result[1]}, Sum: {result[2]}\")\n"
      ],
      "metadata": {
        "colab": {
          "base_uri": "https://localhost:8080/"
        },
        "id": "xHDzFwh-WdiP",
        "outputId": "23971656-b0bf-4523-cc72-cc3a7cce8ed5"
      },
      "execution_count": null,
      "outputs": [
        {
          "output_type": "stream",
          "name": "stdout",
          "text": [
            "Minimum: 3, Maximum: 20, Sum: 28\n"
          ]
        }
      ]
    },
    {
      "cell_type": "code",
      "source": [
        "#Cell 19: Write a function that takes any number of numbers and returns their min, max, and sum as a tuple.\n",
        "@traceroo\n",
        "def min_max_sum(*numbers):\n",
        "    # Check if any numbers are provided\n",
        "    if not numbers:\n",
        "        return None  # Return None if no numbers are given\n",
        "\n",
        "    # Calculate minimum, maximum, and sum\n",
        "    minimum = min(numbers)\n",
        "    maximum = max(numbers)\n",
        "    total = sum(numbers)\n",
        "\n",
        "    # Return the result as a tuple\n",
        "    result_tuple = (minimum, maximum, total)\n",
        "    return result_tuple\n",
        "\n",
        "\n",
        "result = min_max_sum(5, 10, 3, 8, 2, 33)\n",
        "print(f\"Minimum: {result[0]}, Maximum: {result[1]}, Sum: {result[2]}\")\n"
      ],
      "metadata": {
        "colab": {
          "base_uri": "https://localhost:8080/"
        },
        "id": "KkWUHletWvEu",
        "outputId": "d09eb535-5dd0-41ba-ceda-741e606fa2b0"
      },
      "execution_count": null,
      "outputs": [
        {
          "output_type": "stream",
          "name": "stdout",
          "text": [
            "Getting min, max, and sum as a tuple min_max_sum with arguments: (5, 10, 3, 8, 2, 33), {}\n",
            "min_max_sum result: (2, 33, 61)\n",
            "Minimum: 2, Maximum: 33, Sum: 61\n"
          ]
        }
      ]
    },
    {
      "cell_type": "code",
      "source": [
        "#Cell 20: Create a decorator called traceroo and use it to print messages showing how your function above executes.\n",
        "#Added decorater above\n",
        "def traceroo(func):\n",
        "    def wrapper(*args, **kwargs):\n",
        "        print(f\"Getting min, max, and sum as a tuple {func.__name__} with arguments: {args}, {kwargs}\")\n",
        "        result = func(*args, **kwargs)\n",
        "        print(f\"{func.__name__} result: {result}\")\n",
        "        return result\n",
        "    return wrapper\n",
        "\n",
        "result = min_max_sum(5, 10, 3, 8, 2, 33)\n",
        "print(f\"Minimum: {result[0]}, Maximum: {result[1]}, Sum: {result[2]}\")"
      ],
      "metadata": {
        "id": "INUbZptiWzFD",
        "colab": {
          "base_uri": "https://localhost:8080/"
        },
        "outputId": "5c48f423-8176-4be4-9199-a1d3a3d59349"
      },
      "execution_count": null,
      "outputs": [
        {
          "output_type": "stream",
          "name": "stdout",
          "text": [
            "Getting min, max, and sum as a tuple min_max_sum with arguments: (5, 10, 3, 8, 2, 33), {}\n",
            "min_max_sum result: (2, 33, 61)\n",
            "Minimum: 2, Maximum: 33, Sum: 61\n"
          ]
        }
      ]
    },
    {
      "cell_type": "code",
      "source": [
        "#Cell 21: Create a class that uses __init__, __repr__, __str__, and __add__. Demonstrate that all of the methods work.\n",
        "\n",
        "class Person:\n",
        "    def __init__(self, name, age):\n",
        "        self.name = name\n",
        "        self.age = age\n",
        "\n",
        "    def __repr__(self):\n",
        "        return f\"Person('{self.name}', {self.age})\"\n",
        "\n",
        "    def __str__(self):\n",
        "        return f\"{self.name} is {self.age} years old.\"\n",
        "\n",
        "    def __add__(self, other):\n",
        "        if isinstance(other, Person):\n",
        "            combined_name = f\"{self.name} and {other.name}\"\n",
        "            combined_age = self.age + other.age\n",
        "            return Person(combined_name, combined_age)\n",
        "        else:\n",
        "            raise ValueError(\"Can only add two Person objects.\")\n",
        "\n",
        "# Demonstrating the class methods\n",
        "person1 = Person(\"Romita\", 20)\n",
        "person2 = Person(\"Devyani\", 21)\n",
        "\n",
        "# __str__ method\n",
        "print(str(person1))\n",
        "\n",
        "# __repr__ method\n",
        "print(repr(person1))\n",
        "\n",
        "# __add__ method\n",
        "combined_person = person1 + person2\n",
        "print(combined_person)\n"
      ],
      "metadata": {
        "colab": {
          "base_uri": "https://localhost:8080/"
        },
        "id": "lrmfN-1nW49d",
        "outputId": "ccfae741-9392-4268-a59b-061b29384d7b"
      },
      "execution_count": null,
      "outputs": [
        {
          "output_type": "stream",
          "name": "stdout",
          "text": [
            "Romita is 20 years old.\n",
            "Person('Romita', 20)\n",
            "Romita and Devyani is 41 years old.\n"
          ]
        }
      ]
    },
    {
      "cell_type": "code",
      "source": [
        "#Cell 22: Is your birth date included in the digits of pi? Where? Feel free to use the code from Chapter 10.\n",
        "#no\n",
        "import math\n",
        "\n",
        "def find_birthday_in_pi(birthday):\n",
        "    pi_str = str(math.pi).replace(\".\", \"\")\n",
        "    position = pi_str.find(birthday)\n",
        "    return position\n",
        "\n",
        "birthday = \"09102003\"\n",
        "position = find_birthday_in_pi(birthday)\n",
        "\n",
        "if position != -1:\n",
        "    print(f\"Your birthday {birthday[:4]}-{birthday[4:6]}-{birthday[6:]} is found at position {position} in the decimal expansion of pi.\")\n",
        "else:\n",
        "    print(f\"Your birthday {birthday[:4]}-{birthday[4:6]}-{birthday[6:]} is not found in the decimal expansion of pi.\")"
      ],
      "metadata": {
        "id": "1fd6sy0RW63D",
        "colab": {
          "base_uri": "https://localhost:8080/"
        },
        "outputId": "ea1e5bc2-e39c-4640-9f15-75d72dd4ff79"
      },
      "execution_count": null,
      "outputs": [
        {
          "output_type": "stream",
          "name": "stdout",
          "text": [
            "Your birthday 0910-20-03 is not found in the decimal expansion of pi.\n"
          ]
        }
      ]
    },
    {
      "cell_type": "code",
      "source": [
        "%%file final_functions.py\n",
        "def sieve_of_eratosthenes(limit):\n",
        "    primes = []\n",
        "    is_prime = [True] * (limit + 1)\n",
        "    is_prime[0], is_prime[1] = False, False  # 0 and 1 are not prime numbers\n",
        "\n",
        "    for num in range(2, limit + 1):\n",
        "        if is_prime[num]:\n",
        "            primes.append(num)\n",
        "            for multiple in range(num*num, limit + 1, num):\n",
        "                is_prime[multiple] = False\n",
        "\n",
        "    return primes\n",
        "\n",
        "primes_up_to_1000 = sieve_of_eratosthenes(1000)\n",
        "print(primes_up_to_1000)\n",
        "\n",
        "def min_max_sum(*numbers):\n",
        "    # Check if any numbers are provided\n",
        "    if not numbers:\n",
        "        return None  # Return None if no numbers are given\n",
        "\n",
        "    # Calculate minimum, maximum, and sum\n",
        "    minimum = min(numbers)\n",
        "    maximum = max(numbers)\n",
        "    total = sum(numbers)\n",
        "\n",
        "    # Return the result as a tuple\n",
        "    result_tuple = (minimum, maximum, total)\n",
        "    return result_tuple\n",
        "\n",
        "\n",
        "result = min_max_sum(5, 10, 3, 8, 2, 33)\n",
        "print(f\"Minimum: {result[0]}, Maximum: {result[1]}, Sum: {result[2]}\")\n",
        "\n",
        "\n",
        "def classify_flower_color(flower_color):\n",
        "    if flower_color == \"red\":\n",
        "        return \"Rose\"\n",
        "    elif flower_color == \"yellow\":\n",
        "        return \"Sunflower\"\n",
        "    elif flower_color == \"purple\":\n",
        "        return \"Lavender\"\n",
        "    else:\n",
        "        return \"Unknown Flower\"\n",
        "\n",
        "# Testing the function\n",
        "flower1 = \"purple\"\n",
        "flower2 = \"yellow\"\n",
        "flower3 = \"blue\"\n",
        "\n",
        "result1 = classify_flower_color(flower1)\n",
        "result2 = classify_flower_color(flower2)\n",
        "result3 = classify_flower_color(flower3)\n",
        "\n",
        "print(f\"A {flower1} flower is a {result1}\")\n",
        "print(f\"A {flower2} flower is a {result2}\")\n",
        "print(f\"A {flower3} flower is a {result3}\")"
      ],
      "metadata": {
        "colab": {
          "base_uri": "https://localhost:8080/"
        },
        "id": "xqG3f-Kv8Tvh",
        "outputId": "ed2d592b-15a6-467c-b02e-b1e3c9199a12"
      },
      "execution_count": null,
      "outputs": [
        {
          "output_type": "stream",
          "name": "stdout",
          "text": [
            "Writing final_functions.py\n"
          ]
        }
      ]
    },
    {
      "cell_type": "code",
      "source": [
        "!python final_functions.py"
      ],
      "metadata": {
        "colab": {
          "base_uri": "https://localhost:8080/"
        },
        "id": "BN7fnOOn9DAJ",
        "outputId": "3199eb2e-5938-47da-b987-d119f75ce828"
      },
      "execution_count": null,
      "outputs": [
        {
          "output_type": "stream",
          "name": "stdout",
          "text": [
            "[2, 3, 5, 7, 11, 13, 17, 19, 23, 29, 31, 37, 41, 43, 47, 53, 59, 61, 67, 71, 73, 79, 83, 89, 97, 101, 103, 107, 109, 113, 127, 131, 137, 139, 149, 151, 157, 163, 167, 173, 179, 181, 191, 193, 197, 199, 211, 223, 227, 229, 233, 239, 241, 251, 257, 263, 269, 271, 277, 281, 283, 293, 307, 311, 313, 317, 331, 337, 347, 349, 353, 359, 367, 373, 379, 383, 389, 397, 401, 409, 419, 421, 431, 433, 439, 443, 449, 457, 461, 463, 467, 479, 487, 491, 499, 503, 509, 521, 523, 541, 547, 557, 563, 569, 571, 577, 587, 593, 599, 601, 607, 613, 617, 619, 631, 641, 643, 647, 653, 659, 661, 673, 677, 683, 691, 701, 709, 719, 727, 733, 739, 743, 751, 757, 761, 769, 773, 787, 797, 809, 811, 821, 823, 827, 829, 839, 853, 857, 859, 863, 877, 881, 883, 887, 907, 911, 919, 929, 937, 941, 947, 953, 967, 971, 977, 983, 991, 997]\n",
            "Minimum: 2, Maximum: 33, Sum: 61\n",
            "A purple flower is a Lavender\n",
            "A yellow flower is a Sunflower\n",
            "A blue flower is a Unknown Flower\n"
          ]
        }
      ]
    },
    {
      "cell_type": "code",
      "source": [
        "%%file final_test.py\n",
        "import pytest\n",
        "from final_functions import sieve_of_eratosthenes, min_max_sum, classify_flower_color\n",
        "\n",
        "\n",
        "def test_sieve_of_eratosthenes():\n",
        "    assert sieve_of_eratosthenes(10) == [2, 3, 5, 7]\n",
        "    assert sieve_of_eratosthenes(20) == [2, 3, 5, 7, 11, 13, 17, 19]\n",
        "\n",
        "def test_min_max_sum():\n",
        "    assert min_max_sum(1, 2, 3, 4, 5) == (1, 5, 15)\n",
        "    assert min_max_sum(10, 20, 30) == (10, 30, 60)\n",
        "    assert min_max_sum() is None\n",
        "\n",
        "def test_classify_flower_color():\n",
        "    assert classify_flower_color(\"red\") == \"Rose\"\n",
        "    assert classify_flower_color(\"yellow\") == \"Sunflower\"\n",
        "    assert classify_flower_color(\"purple\") == \"Lavender\"\n",
        "    assert classify_flower_color(\"blue\") == \"Unknown Flower\"\n",
        "\n"
      ],
      "metadata": {
        "colab": {
          "base_uri": "https://localhost:8080/"
        },
        "id": "NNmA2l7-9rd2",
        "outputId": "3b24d510-9e5e-4a9d-d909-680d6156d1fc"
      },
      "execution_count": null,
      "outputs": [
        {
          "output_type": "stream",
          "name": "stdout",
          "text": [
            "Writing final_test.py\n"
          ]
        }
      ]
    },
    {
      "cell_type": "code",
      "source": [
        "!pytest final_test.py"
      ],
      "metadata": {
        "colab": {
          "base_uri": "https://localhost:8080/"
        },
        "id": "5RT1zXrs_kc2",
        "outputId": "36bc71f7-c90a-48e8-905d-a7ef1967c755"
      },
      "execution_count": null,
      "outputs": [
        {
          "output_type": "stream",
          "name": "stdout",
          "text": [
            "\u001b[1m======================================= test session starts ========================================\u001b[0m\n",
            "platform linux -- Python 3.10.12, pytest-7.4.3, pluggy-1.3.0\n",
            "rootdir: /content\n",
            "plugins: anyio-3.7.1\n",
            "\u001b[1mcollecting ... \u001b[0m\u001b[1m\rcollected 3 items                                                                                  \u001b[0m\n",
            "\n",
            "final_test.py \u001b[32m.\u001b[0m\u001b[32m.\u001b[0m\u001b[32m.\u001b[0m\u001b[32m                                                                            [100%]\u001b[0m\n",
            "\n",
            "\u001b[32m======================================== \u001b[32m\u001b[1m3 passed\u001b[0m\u001b[32m in 0.02s\u001b[0m\u001b[32m =========================================\u001b[0m\n"
          ]
        }
      ]
    },
    {
      "cell_type": "code",
      "source": [
        "%%file final_functions.py\n",
        "def sieve_of_eratosthenes(limit):\n",
        "    primes = []\n",
        "    is_prime = [True] * (limit + 1)\n",
        "    is_prime[0], is_prime[1] = False, False  # 0 and 1 are not prime numbers\n",
        "\n",
        "    for num in range(2, limit + 1):\n",
        "        if is_prime[num]:\n",
        "            primes.append(num)\n",
        "            for multiple in range(num*num, limit + 1, num):\n",
        "                is_prime[multiple] = False\n",
        "\n",
        "    return 2\n",
        "\n",
        "\n",
        "def min_max_sum(*numbers):\n",
        "    # Check if any numbers are provided\n",
        "    if not numbers:\n",
        "        return None  # Return None if no numbers are given\n",
        "\n",
        "    # Calculate minimum, maximum, and sum\n",
        "    minimum = min(numbers)\n",
        "    maximum = max(numbers)\n",
        "    total = sum(numbers)\n",
        "\n",
        "    # Return the result as a tuple\n",
        "    result_tuple = (minimum, maximum, total)\n",
        "    return result_tuple\n",
        "\n",
        "\n",
        "def classify_flower_color(flower_color):\n",
        "    if flower_color == \"red\":\n",
        "        return \"Rose\"\n",
        "    elif flower_color == \"yellow\":\n",
        "        return \"Sunflower\"\n",
        "    elif flower_color == \"purple\":\n",
        "        return \"Lavender\"\n",
        "    else:\n",
        "        return \"Unknown Flower\""
      ],
      "metadata": {
        "colab": {
          "base_uri": "https://localhost:8080/"
        },
        "id": "2hzRx7e-__GB",
        "outputId": "6d4fd0b0-4e41-4974-ffd8-b098439f4d27"
      },
      "execution_count": null,
      "outputs": [
        {
          "output_type": "stream",
          "name": "stdout",
          "text": [
            "Overwriting final_functions.py\n"
          ]
        }
      ]
    },
    {
      "cell_type": "code",
      "source": [
        "!python final_functions.py"
      ],
      "metadata": {
        "id": "V9Aj6yW7AOro"
      },
      "execution_count": null,
      "outputs": []
    },
    {
      "cell_type": "code",
      "source": [
        "%%file final_test.py\n",
        "import pytest\n",
        "from final_functions import sieve_of_eratosthenes, min_max_sum, classify_flower_color\n",
        "\n",
        "\n",
        "def test_sieve_of_eratosthenes():\n",
        "    assert sieve_of_eratosthenes(10) == [2, 3, 5, 7]\n",
        "    assert sieve_of_eratosthenes(20) == [2, 3, 5, 7, 11, 13, 17, 19]\n",
        "\n",
        "def test_min_max_sum():\n",
        "    assert min_max_sum(1, 2, 3, 4, 5) == (1, 5, 15)\n",
        "    assert min_max_sum(10, 20, 30) == (10, 30, 60)\n",
        "    assert min_max_sum() is None\n",
        "\n",
        "def test_classify_flower_color():\n",
        "    assert classify_flower_color(\"red\") == \"Rose\"\n",
        "    assert classify_flower_color(\"yellow\") == \"Sunflower\"\n",
        "    assert classify_flower_color(\"purple\") == \"Lavender\"\n",
        "    assert classify_flower_color(\"blue\") == \"Unknown Flower\""
      ],
      "metadata": {
        "colab": {
          "base_uri": "https://localhost:8080/"
        },
        "id": "CWOCf_TR_zPb",
        "outputId": "a0300299-5a6f-4dee-de22-05629c9c719e"
      },
      "execution_count": null,
      "outputs": [
        {
          "output_type": "stream",
          "name": "stdout",
          "text": [
            "Overwriting final_test.py\n"
          ]
        }
      ]
    },
    {
      "cell_type": "code",
      "source": [
        "!pytest final_test.py"
      ],
      "metadata": {
        "colab": {
          "base_uri": "https://localhost:8080/"
        },
        "id": "Y-dhMFV3_5q5",
        "outputId": "255febfa-9f42-497d-e179-b35451542513"
      },
      "execution_count": null,
      "outputs": [
        {
          "output_type": "stream",
          "name": "stdout",
          "text": [
            "\u001b[1m======================================= test session starts ========================================\u001b[0m\n",
            "platform linux -- Python 3.10.12, pytest-7.4.3, pluggy-1.3.0\n",
            "rootdir: /content\n",
            "plugins: anyio-3.7.1\n",
            "\u001b[1mcollecting ... \u001b[0m\u001b[1m\rcollected 3 items                                                                                  \u001b[0m\n",
            "\n",
            "final_test.py \u001b[31mF\u001b[0m\u001b[32m.\u001b[0m\u001b[32m.\u001b[0m\u001b[31m                                                                            [100%]\u001b[0m\n",
            "\n",
            "============================================= FAILURES =============================================\n",
            "\u001b[31m\u001b[1m____________________________________ test_sieve_of_eratosthenes ____________________________________\u001b[0m\n",
            "\n",
            "    \u001b[94mdef\u001b[39;49;00m \u001b[92mtest_sieve_of_eratosthenes\u001b[39;49;00m():\u001b[90m\u001b[39;49;00m\n",
            ">       \u001b[94massert\u001b[39;49;00m sieve_of_eratosthenes(\u001b[94m10\u001b[39;49;00m) == [\u001b[94m2\u001b[39;49;00m, \u001b[94m3\u001b[39;49;00m, \u001b[94m5\u001b[39;49;00m, \u001b[94m7\u001b[39;49;00m]\u001b[90m\u001b[39;49;00m\n",
            "\u001b[1m\u001b[31mE       assert 2 == [2, 3, 5, 7]\u001b[0m\n",
            "\u001b[1m\u001b[31mE        +  where 2 = sieve_of_eratosthenes(10)\u001b[0m\n",
            "\n",
            "\u001b[1m\u001b[31mfinal_test.py\u001b[0m:6: AssertionError\n",
            "\u001b[36m\u001b[1m===================================== short test summary info ======================================\u001b[0m\n",
            "\u001b[31mFAILED\u001b[0m final_test.py::\u001b[1mtest_sieve_of_eratosthenes\u001b[0m - assert 2 == [2, 3, 5, 7]\n",
            "\u001b[31m=================================== \u001b[31m\u001b[1m1 failed\u001b[0m, \u001b[32m2 passed\u001b[0m\u001b[31m in 0.10s\u001b[0m\u001b[31m ====================================\u001b[0m\n"
          ]
        }
      ]
    }
  ]
}