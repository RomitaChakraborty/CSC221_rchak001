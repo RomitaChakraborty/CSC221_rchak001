{
  "nbformat": 4,
  "nbformat_minor": 0,
  "metadata": {
    "colab": {
      "provenance": [],
      "include_colab_link": true
    },
    "kernelspec": {
      "name": "python3",
      "display_name": "Python 3"
    },
    "language_info": {
      "name": "python"
    }
  },
  "cells": [
    {
      "cell_type": "markdown",
      "metadata": {
        "id": "view-in-github",
        "colab_type": "text"
      },
      "source": [
        "<a href=\"https://colab.research.google.com/github/RomitaChakraborty/CSC221_rchak001/blob/main/Assignment_11.ipynb\" target=\"_parent\"><img src=\"https://colab.research.google.com/assets/colab-badge.svg\" alt=\"Open In Colab\"/></a>"
      ]
    },
    {
      "cell_type": "code",
      "execution_count": null,
      "metadata": {
        "id": "vy6QjSP2S5qi"
      },
      "outputs": [],
      "source": [
        "class Dog:#class with name of dog\n",
        " \"\"\"A simple attempt to model a dog.\"\"\"\n",
        " def __init__(self, name, age):#set instance name and age to pass paramaters\n",
        "  \"\"\"Initialize name and age attributes.\"\"\"\n",
        "  self.name = name\n",
        "  self.age = age\n",
        " def sit(self):#class method that tells dog to sit\n",
        "  \"\"\"Simulate a dog sitting in response to a command.\"\"\"\n",
        "  print(f\"{self.name} is now sitting.\")\n",
        " def roll_over(self):#class method for rollover\n",
        "  \"\"\"Simulate rolling over in response to a command.\"\"\"\n",
        "  print(f\"{self.name} rolled over!\")"
      ]
    },
    {
      "cell_type": "code",
      "source": [
        "my_dog = Dog('Willie', 6)\n",
        "print(f\"My dog's name is {my_dog.name}.\")#get name attribute\n",
        "print(f\"My dog is {my_dog.age} years old.\")#get age attribute\n",
        "my_dog.sit()#calling instance method sit\n",
        "my_dog.roll_over()#calling instance method rollover"
      ],
      "metadata": {
        "colab": {
          "base_uri": "https://localhost:8080/"
        },
        "id": "VJlajTybS9l1",
        "outputId": "911e1ab7-55e3-43e1-f596-e2783f77b835"
      },
      "execution_count": null,
      "outputs": [
        {
          "output_type": "stream",
          "name": "stdout",
          "text": [
            "My dog's name is Willie.\n",
            "My dog is 6 years old.\n",
            "Willie is now sitting.\n",
            "Willie rolled over!\n"
          ]
        }
      ]
    },
    {
      "cell_type": "code",
      "source": [
        "your_dog = Dog('Lucy', 3)#creating a second instance and doing attribute and method calls\n",
        "print(f\"My dog's name is {my_dog.name}.\")\n",
        "print(f\"My dog is {my_dog.age} years old.\")\n",
        "my_dog.sit()\n",
        "print(f\"\\nYour dog's name is {your_dog.name}.\")\n",
        "print(f\"Your dog is {your_dog.age} years old.\")\n",
        "your_dog.sit()"
      ],
      "metadata": {
        "colab": {
          "base_uri": "https://localhost:8080/"
        },
        "id": "XPgGXefIS9i_",
        "outputId": "c1580ae8-4cdc-4815-96bb-8b026babda89"
      },
      "execution_count": null,
      "outputs": [
        {
          "output_type": "stream",
          "name": "stdout",
          "text": [
            "My dog's name is Willie.\n",
            "My dog is 6 years old.\n",
            "Willie is now sitting.\n",
            "\n",
            "Your dog's name is Lucy.\n",
            "Your dog is 3 years old.\n",
            "Lucy is now sitting.\n"
          ]
        }
      ]
    },
    {
      "cell_type": "markdown",
      "source": [
        "9-1. Restaurant: Make a class called Restaurant. The __init__() method for\n",
        "Restaurant should store two attributes: a restaurant_name and a cuisine_type.\n",
        "Make a method called describe_restaurant() that prints these two pieces of\n",
        "information, and a method called open_restaurant() that prints a message\n",
        "indicating that the restaurant is open.\n",
        "Make an instance called restaurant from your class. Print the two attributes\n",
        "individually, and then call both methods.\n",
        "\n",
        "9-2. Three Restaurants: Start with your class from Exercise 9-1. Create\n",
        "three different instances from the class, and call describe_restaurant() for\n",
        "each instance.\n",
        "\n",
        "9-3. Users: Make a class called User. Create two attributes called first_name\n",
        "and last_name, and then create several other attributes that are typically\n",
        "stored in a user profile. Make a method called describe_user() that prints a\n",
        "summary of the user’s information. Make another method called greet_user()\n",
        "that prints a personalized greeting to the user.\n",
        "Create several instances representing different users, and call both\n",
        "methods for each use"
      ],
      "metadata": {
        "id": "cgvQ-cWuc9SR"
      }
    },
    {
      "cell_type": "markdown",
      "source": [
        "# 9-1 and 9-2"
      ],
      "metadata": {
        "id": "E-7PJsWk_sun"
      }
    },
    {
      "cell_type": "code",
      "source": [
        "class Restaurant:\n",
        "  \"\"\"A simple attempt to represent a restaurant.\"\"\"\n",
        "  def __init__(self, restaurant_name, cuisine_type):\n",
        "    \"\"\"Initialize attributes to describe a restaurant.\"\"\"\n",
        "    self.restaurant_name = restaurant_name\n",
        "    self.cuisine_type = cuisine_type\n",
        "  def describe_restaurant(self):\n",
        "    print(self.restaurant_name)\n",
        "    print(self.cuisine_type)\n",
        "  def open_restaurant(self):\n",
        "    print(\"Open for great food\")\n",
        "\n",
        "restaurant = Restaurant(\"Romita's Cafe\", \"Cafe\")\n",
        "restaurant.describe_restaurant()\n",
        "restaurant.open_restaurant()\n",
        "print(restaurant.restaurant_name)\n",
        "print(restaurant.cuisine_type)\n",
        "\n",
        "timeout = Restaurant(\"TimeoutMarket\", \"Variety\")\n",
        "tims = Restaurant(\"Time Horton's\", \"Breakfest\")\n",
        "perk = Restaurant(\"Perkins\", \"Breakfest\")\n",
        "\n",
        "timeout.describe_restaurant()\n",
        "tims.describe_restaurant()\n",
        "perk.describe_restaurant()"
      ],
      "metadata": {
        "colab": {
          "base_uri": "https://localhost:8080/"
        },
        "id": "dK-NnEsm9URE",
        "outputId": "874be51b-0584-49fc-d099-03c20d17619f"
      },
      "execution_count": null,
      "outputs": [
        {
          "output_type": "stream",
          "name": "stdout",
          "text": [
            "Romita's Cafe\n",
            "Cafe\n",
            "Open for great food\n",
            "Romita's Cafe\n",
            "Cafe\n",
            "TimeoutMarket\n",
            "Variety\n",
            "Time Horton's\n",
            "Breakfest\n",
            "Perkins\n",
            "Breakfest\n"
          ]
        }
      ]
    },
    {
      "cell_type": "markdown",
      "source": [
        "# 9-3"
      ],
      "metadata": {
        "id": "klnjrZb_CgIN"
      }
    },
    {
      "cell_type": "code",
      "source": [
        "class User:\n",
        "  def __init__(self, first_name, last_name, address):\n",
        "    self.first_name = first_name\n",
        "    self.last_name = last_name\n",
        "    self.address = address\n",
        "\n",
        "  def describe_user(self):\n",
        "    description= f\"{self.first_name.title()} {self.last_name.title()} {self.address}\"\n",
        "    print(description)\n",
        "  def greet_user(self):\n",
        "    greeting= f\"Greetings {self.first_name.title()} {self.last_name.title()}\"\n",
        "    print(greeting)\n",
        "rom = User(\"romita\", \"chakraboty\", \"plattsburgh\")\n",
        "tom = User(\"tom\", \"mcfire\", \"space\")\n",
        "bob = User(\"bob\", \"chakraboty\", \"plattsburgh\")\n",
        "\n",
        "rom.greet_user()\n",
        "rom.describe_user()\n",
        "tom.greet_user()\n",
        "tom.describe_user()\n",
        "bob.greet_user()\n",
        "bob.describe_user()"
      ],
      "metadata": {
        "colab": {
          "base_uri": "https://localhost:8080/"
        },
        "id": "LuY2RMFr_rGn",
        "outputId": "0a3d6eb4-fceb-43dc-fadf-fd630c5154c3"
      },
      "execution_count": null,
      "outputs": [
        {
          "output_type": "stream",
          "name": "stdout",
          "text": [
            "Greetings Romita Chakraboty\n",
            "Romita Chakraboty plattsburgh\n",
            "Greetings Tom Mcfire\n",
            "Tom Mcfire space\n",
            "Greetings Bob Chakraboty\n",
            "Bob Chakraboty plattsburgh\n"
          ]
        }
      ]
    },
    {
      "cell_type": "code",
      "source": [
        "class Car: # create class with name of car as blueprint for objects\n",
        " \"\"\"A simple attempt to represent a car.\"\"\"\n",
        " def __init__(self, make, model, year):#passed parameters are made attributes of one particular instance with self\n",
        "  \"\"\"Initialize attributes to describe a car.\"\"\"\n",
        "  self.make = make\n",
        "  self.model = model\n",
        "  self.year = year\n",
        "  self.odometer_reading = 0 #default setting for all objects created\n",
        "\n",
        " def get_descriptive_name(self):\n",
        "  \"\"\"Return a neatly formatted descriptive name.\"\"\"\n",
        "  long_name = f\"{self.year} {self.make} {self.model}\"\n",
        "  return long_name.title()\n",
        "\n",
        " def read_odometer(self):#method using default attribute to show odometer\n",
        "  \"\"\"Print a statement showing the car's mileage.\"\"\"\n",
        "  print(f\"This car has {self.odometer_reading} miles onit.\")\n",
        " def update_odometer(self, mileage): #update value through a method that uses other attributes in conditonal\n",
        "  \"\"\"\n",
        " Set the odometer reading to the given value.\n",
        " Reject the change if it attempts to roll the odometer\n",
        "back.\n",
        " \"\"\"\n",
        "  if mileage >= self.odometer_reading:\n",
        "   self.odometer_reading = mileage\n",
        "  else:\n",
        "   print(\"You can't roll back an odometer!\")\n",
        " def increment_odometer(self, miles):#increment odometer through method\n",
        "  \"\"\"Add the given amount to the odometer reading.\"\"\"\n",
        "  self.odometer_reading += miles\n",
        "my_new_car = Car('audi', 'a4', 2024)\n",
        "print(my_new_car.get_descriptive_name())\n",
        "my_new_car.read_odometer()"
      ],
      "metadata": {
        "colab": {
          "base_uri": "https://localhost:8080/"
        },
        "id": "5xUwr-7jS9fa",
        "outputId": "dfc984ae-209d-4193-8faa-5bc6dfee93c0"
      },
      "execution_count": null,
      "outputs": [
        {
          "output_type": "stream",
          "name": "stdout",
          "text": [
            "2024 Audi A4\n",
            "This car has 0 miles onit.\n"
          ]
        }
      ]
    },
    {
      "cell_type": "code",
      "source": [
        "my_new_car.odometer_reading = 23 #changing attribute directly\n",
        "my_new_car.read_odometer()\n",
        "my_new_car.update_odometer(23)#changing with a method\n",
        "my_new_car.read_odometer()"
      ],
      "metadata": {
        "colab": {
          "base_uri": "https://localhost:8080/"
        },
        "id": "WpcCgvAKS9QQ",
        "outputId": "9fc4cf28-30b8-4877-fd9a-d7cf2927ad5a"
      },
      "execution_count": null,
      "outputs": [
        {
          "output_type": "stream",
          "name": "stdout",
          "text": [
            "This car has 23 miles onit.\n",
            "This car has 23 miles onit.\n"
          ]
        }
      ]
    },
    {
      "cell_type": "code",
      "source": [
        "\n",
        "\n",
        "my_used_car = Car('subaru', 'outback', 2019)#create object\n",
        "print(my_used_car.get_descriptive_name())# call method for name\n",
        "my_used_car.update_odometer(23_500)# call method for updating attribute\n",
        "my_used_car.read_odometer()# call method for reading attribute\n",
        "my_used_car.increment_odometer(100)# call method for updating attribute\n",
        "my_used_car.read_odometer()# call method for reading attribute"
      ],
      "metadata": {
        "colab": {
          "base_uri": "https://localhost:8080/"
        },
        "id": "Iv1cdmOTS9NI",
        "outputId": "aeb2c245-df7f-408c-ae57-34fd58ed85aa"
      },
      "execution_count": null,
      "outputs": [
        {
          "output_type": "stream",
          "name": "stdout",
          "text": [
            "2019 Subaru Outback\n",
            "This car has 23500 miles onit.\n",
            "This car has 23600 miles onit.\n"
          ]
        }
      ]
    },
    {
      "cell_type": "code",
      "source": [
        "class Battery:\n",
        " \"\"\"A simple attempt to model a battery for an electric ca\n",
        "r.\"\"\"\n",
        " def __init__(self, battery_size=40):\n",
        "  \"\"\"Initialize the battery's attributes.\"\"\"\n",
        "  self.battery_size = battery_size\n",
        " def describe_battery(self):\n",
        "  \"\"\"Print a statement describing the battery size.\"\"\"\n",
        "  print(f\"This car has a {self.battery_size}-kWh battery.\")\n",
        " def get_range(self):\n",
        "  \"\"\"Print a statement about the range this battery pro\n",
        " vides.\"\"\"\n",
        "  if self.battery_size == 40:\n",
        "   range = 150\n",
        "  elif self.battery_size == 65:\n",
        "   range = 225\n",
        "   print(f\"This car can go about {range} miles on a full charge.\")"
      ],
      "metadata": {
        "id": "IJ0E-Hh8j4ZU"
      },
      "execution_count": null,
      "outputs": []
    },
    {
      "cell_type": "code",
      "source": [
        "class ElectricCar(Car):\n",
        " \"\"\"Represent aspects of a car, specific to electric vehic\n",
        "les.\"\"\"\n",
        " def __init__(self, make, model, year):\n",
        "  \"\"\"Initialize attributes of the parent class.\"\"\"\n",
        "  super().__init__(make, model, year)#call init method from superclass(parent class) Car\n",
        "  self.battery = Battery()\n",
        "  #self.battery_size = 40#default attribute for ElectricCar\n",
        " #def describe_battery(self):\n",
        "   #\"\"\"Print a statement describing the battery size.\"\"\"\n",
        "   #print(f\"This car has a {self.battery_size}-kWh battery.\")#getting attribute value\n",
        " #def fill_gas_tank(self):#is parent class had this method the child method would override it on a method call\n",
        "  #\"\"\"Electric cars don't have gas tanks.\"\"\"\n",
        "  #print(\"This car doesn't have a gas tank!\")\n",
        "my_leaf = ElectricCar('nissan', 'leaf', 2024)\n",
        "print(my_leaf.get_descriptive_name())\n",
        "#my_leaf.describe_battery()\n",
        "#my_leaf.battery.get_range()\n",
        "my_leaf.battery.describe_battery()\n",
        "my_leaf.battery.get_range()"
      ],
      "metadata": {
        "colab": {
          "base_uri": "https://localhost:8080/"
        },
        "id": "mnfPkQoLS9Ju",
        "outputId": "fcbdf8e8-4a96-4375-bbc5-eb5dd43b670e"
      },
      "execution_count": null,
      "outputs": [
        {
          "output_type": "stream",
          "name": "stdout",
          "text": [
            "2024 Nissan Leaf\n",
            "This car has a 40-kWh battery.\n"
          ]
        }
      ]
    },
    {
      "cell_type": "markdown",
      "source": [
        "9-6. Ice Cream Stand: An ice cream stand is a specific kind of restaurant.\n",
        "Write a class called IceCreamStand that inherits from the Restaurant class you\n",
        "wrote in Exercise 9-1 (page 162) or Exercise 9-4 (page 166). Either version\n",
        "of the class will work; just pick the one you like better. Add an attribute\n",
        "called flavors that stores a list of ice cream flavors. Write a method that\n",
        "displays these flavors. Create an instance of IceCreamStand, and call this\n",
        "method.\n",
        "\n",
        "9-7. Admin: An administrator is a special kind of user. Write a class called\n",
        "Admin that inherits from the User class you wrote in Exercise 9-3 (page 162) or\n",
        "Exercise 9-5 (page 167). Add an attribute, privileges, that stores a list of\n",
        "strings like \"can add post\", \"can delete post\", \"can ban user\", and so on. Write a\n",
        "method called show_privileges() that lists the administrator’s set of\n",
        "privileges. Create an instance of Admin, and call your method.\n"
      ],
      "metadata": {
        "id": "n35uyEnRlEal"
      }
    },
    {
      "cell_type": "code",
      "source": [
        "class IceCreamStand(Restaurant):\n",
        "  def __init__(self,restaurant_name, cuisine_type):\n",
        "    super().__init__(restaurant_name, cuisine_type)\n",
        "    self.flavors = [\"Chocolate\", \"Vanilla\", \"Coffee\", \"Rasberry\"]\n",
        "  def getFlavors(self):\n",
        "    for flavor in self.flavors:\n",
        "      print(flavor)\n",
        "\n",
        "rom = IceCreamStand(\"Roms IceCream\", \"IceCream\")\n",
        "\n",
        "rom.getFlavors()"
      ],
      "metadata": {
        "colab": {
          "base_uri": "https://localhost:8080/"
        },
        "id": "sYSAYBFNCpeH",
        "outputId": "9e6ebf20-3b19-47ac-cd02-4de7645cffb7"
      },
      "execution_count": null,
      "outputs": [
        {
          "output_type": "stream",
          "name": "stdout",
          "text": [
            "Chocolate\n",
            "Vanilla\n",
            "Coffee\n",
            "Rasberry\n"
          ]
        }
      ]
    },
    {
      "cell_type": "code",
      "source": [
        "class Admin(User):\n",
        "  def __init__(self, first_name, last_name, address):\n",
        "    super().__init__(first_name, last_name, address)\n",
        "    self.privileges = [\"can delete post\", \"can add user\", \"can remove user\"]\n",
        "  def show_privileges(self):\n",
        "    for privilege in self.privileges:\n",
        "      print(privilege)\n",
        "\n",
        "john = Admin(\"john\", \"flowers\", \"space\")\n",
        "john.show_privileges()"
      ],
      "metadata": {
        "colab": {
          "base_uri": "https://localhost:8080/"
        },
        "id": "8jdSQuvHEEq3",
        "outputId": "a1070a70-a8a9-4922-a02b-de319e626d90"
      },
      "execution_count": null,
      "outputs": [
        {
          "output_type": "stream",
          "name": "stdout",
          "text": [
            "can delete post\n",
            "can add user\n",
            "can remove user\n"
          ]
        }
      ]
    },
    {
      "cell_type": "markdown",
      "source": [
        "Cannot do class imports on colab. To oragnize classes it may be best to have them as seperate modules and then import them for use. To import the Car class go to a different file and type at the head of the file\n",
        "\n",
        "\n",
        "\n",
        "```\n",
        "import Car\n",
        "\n",
        "my_new_car = Car('audi', 'a4', 2024)\n",
        "print(my_new_car.get_descriptive_name())\n",
        "my_new_car.odometer_reading = 23\n",
        "my_new_car.read_odometer()\n",
        "```\n",
        "\n",
        "\n",
        "You can store mutliple Classes in a module and import them.\n",
        "\n",
        "\n",
        "```\n",
        "from car import ElectricCar, Car\n",
        "\n",
        "my_leaf = ElectricCar('nissan', 'leaf', 2024)\n",
        "print(my_leaf.get_descriptive_name())\n",
        "my_leaf.battery.describe_battery()\n",
        "my_leaf.battery.get_range()\n",
        "\n",
        "my_new_car = Car('audi', 'a4', 2024)\n",
        "print(my_new_car.get_descriptive_name())\n",
        "my_new_car.odometer_reading = 23\n",
        "my_new_car.read_odometer()\n",
        "```\n",
        "You can import an entire module and chain/nest modules\n",
        "\n",
        "\n",
        "```\n",
        "import car\n",
        "\n",
        "my_mustang = car.Car('ford', 'mustang', 2024)\n",
        "print(my_mustang.get_descriptive_name())\n",
        "my_leaf = car.ElectricCar('nissan', 'leaf', 2024)\n",
        "print(my_leaf.get_descriptive_name())\n",
        "```\n",
        "\n",
        "You can use Aliases just as you would for other modules\n",
        "\n",
        "```\n",
        "from electric_car import ElectricCar as EC\n",
        "```"
      ],
      "metadata": {
        "id": "9_psko9UlNhB"
      }
    },
    {
      "cell_type": "markdown",
      "source": [
        "9-10. Imported Restaurant: Using your latest Restaurant class, store it in a\n",
        "module. Make a separate file that imports Restaurant. Make a Restaurant\n",
        "instance, and call one of Restaurant’s methods to show that the import\n",
        "statement is working properly.\n",
        "\n",
        "9-11. Imported Admin: Start with your work from Exercise 9-8 (page 173).\n",
        "Store the classes User, Privileges, and Admin in one module. Create a separate\n",
        "file, make an Admin instance, and call show_privileges() to show that\n",
        "everything is working correctly.\n",
        "\n",
        "9-12. Multiple Modules: Store the User class in one module, and store the\n",
        "Privileges and Admin classes in a separate module. In a separate file, create\n",
        "an Admin instance and call show_privileges() to show that everything is still\n",
        "working correctly"
      ],
      "metadata": {
        "id": "A-km7lJrnZlF"
      }
    },
    {
      "cell_type": "code",
      "source": [
        "from random import randint\n",
        "randint(1, 6)\n",
        "\n"
      ],
      "metadata": {
        "colab": {
          "base_uri": "https://localhost:8080/"
        },
        "id": "kkSsCTeeS9HN",
        "outputId": "52a923b6-f477-419a-ab89-f519e9a544e2"
      },
      "execution_count": null,
      "outputs": [
        {
          "output_type": "execute_result",
          "data": {
            "text/plain": [
              "4"
            ]
          },
          "metadata": {},
          "execution_count": 13
        }
      ]
    },
    {
      "cell_type": "code",
      "source": [
        "from random import choice\n",
        "players = ['charles', 'martina', 'michael', 'florence','eli']\n",
        "first_up = choice(players)\n",
        "first_up\n"
      ],
      "metadata": {
        "colab": {
          "base_uri": "https://localhost:8080/",
          "height": 35
        },
        "id": "i45eiLPCS9EO",
        "outputId": "2c29d361-c634-4b26-a04a-6d54c1fb804e"
      },
      "execution_count": null,
      "outputs": [
        {
          "output_type": "execute_result",
          "data": {
            "text/plain": [
              "'michael'"
            ],
            "application/vnd.google.colaboratory.intrinsic+json": {
              "type": "string"
            }
          },
          "metadata": {},
          "execution_count": 14
        }
      ]
    },
    {
      "cell_type": "code",
      "source": [],
      "metadata": {
        "id": "zzQKzRfGS84n"
      },
      "execution_count": null,
      "outputs": []
    }
  ]
}