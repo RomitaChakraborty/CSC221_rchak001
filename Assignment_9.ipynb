{
  "cells": [
    {
      "cell_type": "markdown",
      "metadata": {
        "id": "view-in-github",
        "colab_type": "text"
      },
      "source": [
        "<a href=\"https://colab.research.google.com/github/RomitaChakraborty/CSC221_rchak001/blob/main/Assignment_9.ipynb\" target=\"_parent\"><img src=\"https://colab.research.google.com/assets/colab-badge.svg\" alt=\"Open In Colab\"/></a>"
      ]
    },
    {
      "cell_type": "code",
      "execution_count": null,
      "metadata": {
        "id": "l8o04Xr9o6G9"
      },
      "outputs": [],
      "source": [
        "def greet_user():# defining function named greet_user\n",
        " \"\"\"Display a simple greeting.\"\"\"#doc string saying what function does\n",
        " print(\"Hello!\")\n",
        "greet_user()#calling function named greet_user"
      ]
    },
    {
      "cell_type": "code",
      "execution_count": null,
      "metadata": {
        "id": "rSrTk0QhpXLR"
      },
      "outputs": [],
      "source": [
        "def greet_user(username):#parameter username\n",
        " \"\"\"Display a simple greeting.\"\"\"\n",
        " print(f\"Hello, {username.title()}!\")#printing user name such that sandy -> Sandy\n",
        "greet_user('jesse')#calling greet user with jesse. username==(jesse)"
      ]
    },
    {
      "cell_type": "markdown",
      "metadata": {
        "id": "f-_I8bduqfX_"
      },
      "source": [
        "\n",
        "8-2. Favorite Book: Write a function called favorite_book() that accepts one\n",
        "parameter, title. The function should print a message, such as One of my\n",
        "favorite books is Alice in Wonderland. Call the function, making sure to\n",
        "include a book title as an argument in the function call."
      ]
    },
    {
      "cell_type": "code",
      "execution_count": null,
      "metadata": {
        "id": "l9D4scpAGmjX"
      },
      "outputs": [],
      "source": [
        "def favorite_book(title):\n",
        "  print(f\"My favorite book is {title}\")\n",
        "\n",
        "favorite_book(\"Pride and Prejudice\")"
      ]
    },
    {
      "cell_type": "code",
      "execution_count": null,
      "metadata": {
        "id": "JXcroJEmpXIe"
      },
      "outputs": [],
      "source": [
        "def describe_pet(animal_type, pet_name):#parameters of type of animal and it's name\n",
        " \"\"\"Display information about a pet.\"\"\"\n",
        " print(f\"\\nI have a {animal_type}.\")\n",
        " print(f\"My {animal_type}'s name is {pet_name.title()}.\")\n",
        "describe_pet('hamster', 'harry')#the order of passed parameters matters\n",
        "describe_pet('harry', 'hamster')#the order of passed parameters matters\n",
        "describe_pet('dog', 'willie')#can call a function as much as needed with different params\n",
        "\n"
      ]
    },
    {
      "cell_type": "code",
      "execution_count": null,
      "metadata": {
        "id": "dMbrlV7gpXCj"
      },
      "outputs": [],
      "source": [
        "describe_pet(animal_type='hamster', pet_name='harry')\n",
        "describe_pet(pet_name='harry',animal_type='hamster')#order does not matter with keyword arguments\n"
      ]
    },
    {
      "cell_type": "code",
      "execution_count": null,
      "metadata": {
        "id": "0HNd5m1ZpXA1"
      },
      "outputs": [],
      "source": [
        "def describe_pet(pet_name, animal_type='dog'):#animal type is dog by default unless it's called with another param\n",
        " \"\"\"Display information about a pet.\"\"\"\n",
        " print(f\"\\nI have a {animal_type}.\")\n",
        " print(f\"My {animal_type}'s name is {pet_name.title()}.\")\n",
        "describe_pet(pet_name='willie')#animal will be dog\n",
        "describe_pet(pet_name='harry', animal_type='hamster')\n",
        "# with and without keyword.\n",
        "describe_pet('willie')\n",
        "describe_pet(pet_name='willie')\n",
        "#with and without keyword and mixed ordering.\n",
        "describe_pet('harry', 'hamster')\n",
        "describe_pet(pet_name='harry', animal_type='hamster')\n",
        "describe_pet(animal_type='hamster', pet_name='harry')\n",
        "\n"
      ]
    },
    {
      "cell_type": "code",
      "execution_count": null,
      "metadata": {
        "id": "XIQcxWGcpW8r"
      },
      "outputs": [],
      "source": [
        "describe_pet()#no params entered\n"
      ]
    },
    {
      "cell_type": "markdown",
      "metadata": {
        "id": "7rOg98HgvQgM"
      },
      "source": [
        "8-3. T-Shirt: Write a function called make_shirt() that accepts a size and the\n",
        "text of a message that should be printed on the shirt. The function should\n",
        "print a sentence summarizing the size of the shirt and the message printed\n",
        "on it.\n",
        "Call the function once using positional arguments to make a shirt. Call the\n",
        "function a second time using keyword arguments.\n",
        "\n",
        "8-4. Large Shirts: Modify the make_shirt() function so that shirts are large\n",
        "by default with a message that reads I love Python. Make a large shirt and a\n",
        "medium shirt with the default message, and a shirt of any size with a\n",
        "different message.\n"
      ]
    },
    {
      "cell_type": "code",
      "execution_count": null,
      "metadata": {
        "id": "hRz0BvWdHAaG"
      },
      "outputs": [],
      "source": [
        "def make_shirt(size=\"large\", msg=\"I love Python\"):\n",
        "  print(f\"This shirt is size {size} and graphic text saying {msg}\")\n",
        "\n",
        "make_shirt(\"small\", \"I like shirts\")\n",
        "make_shirt(size=\"large\",msg=\"flower guy\")\n",
        "make_shirt()\n",
        "make_shirt(\"medium\")\n",
        "make_shirt(\"small\", \"small shirt here\")"
      ]
    },
    {
      "cell_type": "code",
      "execution_count": null,
      "metadata": {
        "id": "OiXuMM4bHqKA"
      },
      "outputs": [],
      "source": []
    },
    {
      "cell_type": "code",
      "execution_count": null,
      "metadata": {
        "id": "ClXfL60ppW47"
      },
      "outputs": [],
      "source": [
        "def get_formatted_name(first_name, last_name):#define function named get_formatted_name that accepts first_name and last_name as parameters\n",
        " \"\"\"Return a full name, neatly formatted.\"\"\"\n",
        " full_name = f\"{first_name} {last_name}\"#combine strings with format string\n",
        " return full_name.title()\n",
        "musician = get_formatted_name('jimi', 'hendrix')#call function with arguements\n",
        "print(musician)"
      ]
    },
    {
      "cell_type": "code",
      "execution_count": null,
      "metadata": {
        "id": "iwS-8zdqpW10"
      },
      "outputs": [],
      "source": [
        "def get_formatted_name(first_name, middle_name, last_name): #expaned function to accept middle names\n",
        " \"\"\"Return a full name, neatly formatted.\"\"\"\n",
        " full_name = f\"{first_name} {middle_name} {last_name}\"\n",
        " return full_name.title()\n",
        "musician = get_formatted_name('john', 'lee', 'hooker')\n",
        "print(musician)\n"
      ]
    },
    {
      "cell_type": "code",
      "execution_count": null,
      "metadata": {
        "id": "bV2c_xTbpWy_"
      },
      "outputs": [],
      "source": [
        "def get_formatted_name(first_name, last_name, middle_name=''):#middle_name is the last parameter and is optional because it has a default value of ''\n",
        " \"\"\"Return a full name, neatly formatted.\"\"\"\n",
        " if middle_name:#return full name with middle name if one was passed in. Empty string in a conditional=false\n",
        "  full_name = f\"{first_name} {middle_name} {last_name}\"\n",
        " else:\n",
        "  full_name = f\"{first_name} {last_name}\"\n",
        " return full_name.title()\n",
        "musician = get_formatted_name('jimi', 'hendrix')\n",
        "print(musician)\n",
        "musician = get_formatted_name('john', 'hooker', 'lee')\n",
        "print(musician)"
      ]
    },
    {
      "cell_type": "code",
      "execution_count": null,
      "metadata": {
        "id": "Kb7rNGv8pWuB"
      },
      "outputs": [],
      "source": [
        "def build_person(first_name, last_name):# define function that accepts params of first_name and last_name\n",
        " \"\"\"Return a dictionary of information about a person.\"\"\"\n",
        " person = {'first': first_name, 'last': last_name} # create a dictionary with the params being the values. The keys are specified as first and last\n",
        " return person #returns dict\n",
        "musician = build_person('jimi', 'hendrix')\n",
        "print(musician)"
      ]
    },
    {
      "cell_type": "code",
      "execution_count": null,
      "metadata": {
        "id": "-wB59gtXpWrN"
      },
      "outputs": [],
      "source": [
        "def build_person(first_name, last_name, age=None):#OPTIONAL param of age\n",
        " \"\"\"Return a dictionary of information about a person.\"\"\"\n",
        " person = {'first': first_name, 'last': last_name}\n",
        " if age:#if age is passed as a param then add a key value pair of 'age': age(the param that was passed)\n",
        "  person['age'] = age\n",
        " return person\n",
        "musician = build_person('jimi', 'hendrix', age=27)\n",
        "print(musician)\n"
      ]
    },
    {
      "cell_type": "code",
      "execution_count": null,
      "metadata": {
        "id": "ZlEXQ9vCwI53"
      },
      "outputs": [],
      "source": [
        "def get_formatted_name(first_name, last_name):\n",
        " \"\"\"Return a full name, neatly formatted.\"\"\"\n",
        " full_name = f\"{first_name} {last_name}\"\n",
        " return full_name.title()\n",
        "# an infinite loop! need a break or a flag\n",
        "while True:\n",
        " print(\"\\nPlease tell me your name:\")\n",
        " f_name = input(\"First name: \")\n",
        " l_name = input(\"Last name: \")\n",
        " formatted_name = get_formatted_name(f_name, l_name)\n",
        " print(f\"\\nHello, {formatted_name}!\")"
      ]
    },
    {
      "cell_type": "code",
      "execution_count": null,
      "metadata": {
        "colab": {
          "background_save": true,
          "base_uri": "https://localhost:8080/"
        },
        "id": "2UioXXCiwI29",
        "outputId": "940e4daf-d348-4989-b3d2-e8dba37c2186"
      },
      "outputs": [
        {
          "name": "stdout",
          "output_type": "stream",
          "text": [
            "\n",
            "Please tell me your name:\n",
            "(enter 'q' at any time to quit)\n"
          ]
        }
      ],
      "source": [
        "def get_formatted_name(first_name, last_name):\n",
        " \"\"\"Return a full name, neatly formatted.\"\"\"\n",
        " full_name = f\"{first_name} {last_name}\"\n",
        " return full_name.title()\n",
        "while True:\n",
        " print(\"\\nPlease tell me your name:\")\n",
        " print(\"(enter 'q' at any time to quit)\")\n",
        " f_name = input(\"First name: \")\n",
        " if f_name == 'q':#if user types q then we break from the loop\n",
        "  break\n",
        " l_name = input(\"Last name: \")\n",
        " if l_name == 'q':#if user types q then we break from the loop\n",
        "  break\n",
        " formatted_name = get_formatted_name(f_name, l_name)\n",
        " print(f\"\\nHello, {formatted_name}!\")"
      ]
    },
    {
      "cell_type": "code",
      "execution_count": null,
      "metadata": {
        "id": "6_yXoBtOwIzj"
      },
      "outputs": [],
      "source": [
        "def greet_users(names):#accepts a list as the param for names\n",
        " \"\"\"Print a simple greeting to each user in the list.\"\"\"\n",
        " for name in names:#loops through list of names and prints them\n",
        "  msg = f\"Hello, {name.title()}!\"\n",
        "  print(msg)\n",
        "usernames = ['hannah', 'ty', 'margot']\n",
        "greet_users(usernames)\n"
      ]
    },
    {
      "cell_type": "code",
      "execution_count": null,
      "metadata": {
        "id": "s2cAiyaTwIwv"
      },
      "outputs": [],
      "source": [
        "#tranfer items from one list another with a loop\n",
        "#while the list that is initally full is not empty we add elemnts from that list onto or target list\n",
        "#starter list = unprinted_design\n",
        "#target_list = completed_models\n",
        "# Start with some designs that need to be printed.\n",
        "unprinted_designs = ['phone case', 'robot pendant', 'dodecahedron']\n",
        "completed_models = []\n",
        "# Simulate printing each design, until none are left.\n",
        "# Move each design to completed_models after printing.\n",
        "while unprinted_designs:\n",
        " current_design = unprinted_designs.pop()\n",
        " print(f\"Printing model: {current_design}\")\n",
        " completed_models.append(current_design)\n",
        "# Display all completed models.\n",
        "print(\"\\nThe following models have been printed:\")\n",
        "for completed_model in completed_models:\n",
        " print(completed_model)"
      ]
    },
    {
      "cell_type": "code",
      "execution_count": null,
      "metadata": {
        "id": "HU9tHCPDwIty"
      },
      "outputs": [],
      "source": [
        "def print_models(unprinted_designs, completed_models):#takes two list as arguments and transfers items from one list another with a while loop\n",
        " \"\"\"\n",
        " Simulate printing each design, until none are left.\n",
        " Move each design to completed_models after printing.\n",
        " \"\"\"\n",
        " while unprinted_designs:\n",
        "  current_design = unprinted_designs.pop()\n",
        " print(f\"Printing model: {current_design}\")\n",
        " completed_models.append(current_design)\n",
        "def show_completed_models(completed_models):#takes a list as an argument and prints the results\n",
        " \"\"\"Show all the models that were printed.\"\"\"\n",
        " print(\"\\nThe following models have been printed:\")\n",
        " for completed_model in completed_models:\n",
        "  print(completed_model)\n",
        "\n",
        "unprinted_designs = ['phone case', 'robot pendant', 'dodecahedron']\n",
        "completed_models = []\n",
        "print_models(unprinted_designs, completed_models)\n",
        "show_completed_models(completed_models)"
      ]
    },
    {
      "cell_type": "code",
      "execution_count": null,
      "metadata": {
        "id": "72vanM1W06zW"
      },
      "outputs": [],
      "source": [
        "print_models(unprinted_designs[:], completed_models)#sends a copy of the unprinted_designs list using slicing"
      ]
    },
    {
      "cell_type": "code",
      "execution_count": null,
      "metadata": {
        "id": "1_g-pXai1J92"
      },
      "outputs": [],
      "source": [
        "def make_pizza(*toppings):#toppings is a tuple of arguments. The *toppings indicates that any number of parameters may be passed so store them all in toppings\n",
        " \"\"\"Print the list of toppings that have been requeste\n",
        "d.\"\"\"\n",
        " print(toppings)\n",
        "make_pizza('pepperoni')\n",
        "make_pizza('mushrooms', 'green peppers', 'extra cheese')"
      ]
    },
    {
      "cell_type": "code",
      "execution_count": null,
      "metadata": {
        "id": "-5By0MbC1izj"
      },
      "outputs": [],
      "source": [
        "def make_pizza(*toppings):#toppings is a tuple of arguments. The *toppings indicates that any number of parameters may be passed so store them all in toppings\n",
        " \"\"\"Summarize the pizza we are about to make.\"\"\"\n",
        " print(\"\\nMaking a pizza with the following toppings:\")\n",
        " for topping in toppings:#loop through toppings\n",
        "  print(f\"- {topping}\")\n",
        "make_pizza('pepperoni')\n",
        "make_pizza('mushrooms', 'green peppers', 'extra cheese')"
      ]
    },
    {
      "cell_type": "code",
      "execution_count": null,
      "metadata": {
        "id": "WsYbX4fg2QGT"
      },
      "outputs": [],
      "source": [
        "def make_pizza(size, *toppings):#extra size arguement that prints the size . The parameter that accepts an arbitrary number of arguments must be placed last in the function definition(toppings)\n",
        " \"\"\"Summarize the pizza we are about to make.\"\"\"\n",
        " print(f\"\\nMaking a {size}-inch pizza with the following toppings:\")\n",
        " for topping in toppings:\n",
        "  print(f\"- {topping}\")\n",
        "make_pizza(16, 'pepperoni')\n",
        "make_pizza(12, 'mushrooms', 'green peppers', 'extra cheese')"
      ]
    },
    {
      "cell_type": "code",
      "execution_count": null,
      "metadata": {
        "id": "rKIR4ytM2zk3"
      },
      "outputs": [],
      "source": [
        "def build_profile(first, last, **user_info):#The double asterisks before the parameter **user_info cause Python to create a dictionary called user_info containing all the extra name-value pairs the function receives.\n",
        " \"\"\"Build a dictionary containing everything we know about a user.\"\"\"\n",
        " user_info['first_name'] = first\n",
        " user_info['last_name'] = last\n",
        " return user_info\n",
        "user_profile = build_profile('albert', 'einstein',location='princeton', field='physics')\n",
        "print(user_profile)"
      ]
    },
    {
      "cell_type": "markdown",
      "metadata": {
        "id": "IPqlBZR_3pTT"
      },
      "source": [
        "\n",
        "8-14. Cars: Write a function that stores information about a car in a\n",
        "dictionary. The function should always receive a manufacturer and a model\n",
        "name. It should then accept an arbitrary number of keyword arguments. Call\n",
        "the function with the required information and two other name-value pairs,\n",
        "such as a color or an optional feature. Your function should work for a call\n",
        "like this one:\n",
        "car = make_car('subaru', 'outback', color='blue', tow_package=True)\n",
        "Print the dictionary that’s returned to make sure all the information was\n",
        "stored correctly."
      ]
    },
    {
      "cell_type": "code",
      "execution_count": null,
      "metadata": {
        "id": "pJiDQ5ZoIIeR"
      },
      "outputs": [],
      "source": [
        "def make_car(make,model,**carInfo):\n",
        "  carInfo[\"make\"] = make\n",
        "  carInfo[\"model\"] = model\n",
        "  return carInfo\n",
        "\n",
        "car = make_car('subaru', 'outback', color='blue', tow_package=True)\n",
        "print(car)"
      ]
    },
    {
      "cell_type": "code",
      "execution_count": null,
      "metadata": {
        "id": "wOsmTsLg3v1z"
      },
      "outputs": [],
      "source": [
        "def make_pizza(size, *toppings):\n",
        " \"\"\"Summarize the pizza we are about to make.\"\"\"\n",
        " print(f\"\\nMaking a {size}-inch pizza with the following toppings:\")\n",
        " for topping in toppings:\n",
        "  print(f\"- {topping}\")"
      ]
    },
    {
      "cell_type": "code",
      "execution_count": null,
      "metadata": {
        "id": "XDbDwpI33vgD"
      },
      "outputs": [],
      "source": [
        "##import pizza ##cant do imports in colab with your own code\n",
        "make_pizza(16, 'pepperoni')\n",
        "make_pizza(12, 'mushrooms', 'green peppers', 'extra cheese')\n"
      ]
    },
    {
      "cell_type": "code",
      "execution_count": null,
      "metadata": {
        "id": "QSM_YvVJ3vE_"
      },
      "outputs": [],
      "source": [
        "#from pizza import make_pizza as mp ##make_pizza has the alias of mp\n",
        "#use * to import all functions from a module\n",
        "mp(16, 'pepperoni')\n",
        "mp(12, 'mushrooms', 'green peppers', 'extra cheese')\n"
      ]
    },
    {
      "cell_type": "markdown",
      "metadata": {
        "id": "IB56fyjKfTir"
      },
      "source": [
        "#Assignments from Brightspace"
      ]
    },
    {
      "cell_type": "code",
      "execution_count": null,
      "metadata": {
        "id": "x9r65UtF3ikm"
      },
      "outputs": [],
      "source": [
        "def two_numbers(num1, num2=3.14):\n",
        "  num3 = num1+num2\n",
        "  num_list = [num2,num1]\n",
        "  return [num3, sorted(num_list)]\n",
        "print(two_numbers(1))\n",
        "print(two_numbers(1,2))\n",
        "print(two_numbers(20,13))"
      ]
    },
    {
      "cell_type": "code",
      "execution_count": null,
      "metadata": {
        "id": "gZ8zPKBugkzg"
      },
      "outputs": [],
      "source": [
        "def two_numbers(num1, num2=3.14, verbose=False):\n",
        "  num3 = num1+num2\n",
        "  num_list = [num2,num1]\n",
        "  if verbose:\n",
        "    return [num1, num2, num3, sorted(num_list)]\n",
        "  return [num3, sorted(num_list)]\n",
        "print(two_numbers(1))\n",
        "print(two_numbers(1,2))\n",
        "print(two_numbers(20,13))\n",
        "print(f\" Verbose {two_numbers(1,3, True)}\" )\n",
        "print(two_numbers(1,2))\n",
        "print(two_numbers(20,13))"
      ]
    }
  ],
  "metadata": {
    "colab": {
      "provenance": [],
      "include_colab_link": true
    },
    "kernelspec": {
      "display_name": "Python 3",
      "name": "python3"
    },
    "language_info": {
      "name": "python"
    }
  },
  "nbformat": 4,
  "nbformat_minor": 0
}