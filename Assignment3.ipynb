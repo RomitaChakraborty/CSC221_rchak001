{
  "nbformat": 4,
  "nbformat_minor": 0,
  "metadata": {
    "colab": {
      "provenance": [],
      "authorship_tag": "ABX9TyMXfIUS/yjVIL3RJ+LBKeex",
      "include_colab_link": true
    },
    "kernelspec": {
      "name": "python3",
      "display_name": "Python 3"
    },
    "language_info": {
      "name": "python"
    }
  },
  "cells": [
    {
      "cell_type": "markdown",
      "metadata": {
        "id": "view-in-github",
        "colab_type": "text"
      },
      "source": [
        "<a href=\"https://colab.research.google.com/github/RomitaChakraborty/CSC221_rchak001/blob/main/Assignment3.ipynb\" target=\"_parent\"><img src=\"https://colab.research.google.com/assets/colab-badge.svg\" alt=\"Open In Colab\"/></a>"
      ]
    },
    {
      "cell_type": "code",
      "execution_count": null,
      "metadata": {
        "id": "S0aZdGtc6KYv"
      },
      "outputs": [],
      "source": [
        "# Romita Chakraborty\n",
        "# Assignment 3"
      ]
    },
    {
      "cell_type": "code",
      "source": [
        "# printing hello world message and running the program\n",
        "\n",
        "print(\"Hello Python World!\")"
      ],
      "metadata": {
        "colab": {
          "base_uri": "https://localhost:8080/"
        },
        "id": "H8YXw7i57BZ_",
        "outputId": "f185e8eb-1d7d-4515-c3af-01fd91d24c1c"
      },
      "execution_count": 1,
      "outputs": [
        {
          "output_type": "stream",
          "name": "stdout",
          "text": [
            "Hello Python World!\n"
          ]
        }
      ]
    },
    {
      "cell_type": "code",
      "source": [
        "# Using variables\n",
        "# variables are assigned values\n",
        "\n",
        "message = \"Hello Python World!\"\n",
        "print(message)"
      ],
      "metadata": {
        "colab": {
          "base_uri": "https://localhost:8080/"
        },
        "id": "RNXTAgEl7f50",
        "outputId": "22f80738-221c-47ff-e3cb-6ac95c59660c"
      },
      "execution_count": 2,
      "outputs": [
        {
          "output_type": "stream",
          "name": "stdout",
          "text": [
            "Hello Python World!\n"
          ]
        }
      ]
    },
    {
      "cell_type": "code",
      "source": [
        "message = \"Hello Python World!\"\n",
        "print(message)\n",
        "\n",
        "message = \"Hello Python Crash Course World!\"\n",
        "print(message)\n",
        "\n",
        "# Value of a variable can be changed and Python will keep track of current value"
      ],
      "metadata": {
        "colab": {
          "base_uri": "https://localhost:8080/"
        },
        "id": "_wT1YFdr986-",
        "outputId": "2c49a76d-0c59-42b0-eebc-ee912491fcfb"
      },
      "execution_count": 4,
      "outputs": [
        {
          "output_type": "stream",
          "name": "stdout",
          "text": [
            "Hello Python World!\n",
            "Hello Python Crash Course World!\n"
          ]
        }
      ]
    },
    {
      "cell_type": "code",
      "source": [
        "# Variable names:\n",
        "# - only contain letters, numbers and underscores\n",
        "# - spaces not allowed\n",
        "# - should be short and descriptive\n",
        "# - cannot start with a number\n",
        "\n",
        "# Avoiding name errors while using variables\n",
        "# What is a traceback? - a record of the error while executing your code\n",
        "\n",
        "\n",
        "message = \"Hello Python Crash Course reader!\"\n",
        "print(mesage)\n",
        "# misspelling the variable name\n"
      ],
      "metadata": {
        "colab": {
          "base_uri": "https://localhost:8080/",
          "height": 236
        },
        "id": "5ZYJKD3a-lYx",
        "outputId": "550ffb63-276f-40b3-b1a1-15e7ac6e8100"
      },
      "execution_count": 7,
      "outputs": [
        {
          "output_type": "error",
          "ename": "NameError",
          "evalue": "ignored",
          "traceback": [
            "\u001b[0;31m---------------------------------------------------------------------------\u001b[0m",
            "\u001b[0;31mNameError\u001b[0m                                 Traceback (most recent call last)",
            "\u001b[0;32m<ipython-input-7-307d08dd0bb6>\u001b[0m in \u001b[0;36m<cell line: 11>\u001b[0;34m()\u001b[0m\n\u001b[1;32m      9\u001b[0m \u001b[0;34m\u001b[0m\u001b[0m\n\u001b[1;32m     10\u001b[0m \u001b[0mmessage\u001b[0m \u001b[0;34m=\u001b[0m \u001b[0;34m\"Hello Python Crash Course reader!\"\u001b[0m\u001b[0;34m\u001b[0m\u001b[0;34m\u001b[0m\u001b[0m\n\u001b[0;32m---> 11\u001b[0;31m \u001b[0mprint\u001b[0m\u001b[0;34m(\u001b[0m\u001b[0mmesage\u001b[0m\u001b[0;34m)\u001b[0m\u001b[0;34m\u001b[0m\u001b[0;34m\u001b[0m\u001b[0m\n\u001b[0m\u001b[1;32m     12\u001b[0m \u001b[0;31m# misspelling the variable name\u001b[0m\u001b[0;34m\u001b[0m\u001b[0;34m\u001b[0m\u001b[0m\n",
            "\u001b[0;31mNameError\u001b[0m: name 'mesage' is not defined"
          ]
        }
      ]
    },
    {
      "cell_type": "code",
      "source": [
        "# Python interpreter does not spell-check but checks consistency in variable names\n",
        "# changing spelling in the original variable name will fix error\n",
        "\n",
        "mesage = \"Hello Python Crash Course reader!\"\n",
        "print(mesage)"
      ],
      "metadata": {
        "colab": {
          "base_uri": "https://localhost:8080/"
        },
        "id": "nIKpNIccAhc_",
        "outputId": "0ad78760-3111-42af-c6ff-03052cad0375"
      },
      "execution_count": 9,
      "outputs": [
        {
          "output_type": "stream",
          "name": "stdout",
          "text": [
            "Hello Python Crash Course reader!\n"
          ]
        }
      ]
    },
    {
      "cell_type": "code",
      "source": [
        "# TRY IT YOURSELF\n",
        "\n",
        "#2-1. Simple Message\n",
        "\n",
        "my_name = \"Romita\"\n",
        "print(my_name)\n",
        "\n",
        "#2-2. Simple Messages\n",
        "\n",
        "my_name = \"Romita\"\n",
        "print(my_name)\n",
        "\n",
        "my_name = \"Romita Chakraborty\"\n",
        "print(my_name)\n",
        "\n"
      ],
      "metadata": {
        "colab": {
          "base_uri": "https://localhost:8080/"
        },
        "id": "FMaBLSTsBqQs",
        "outputId": "5658eb97-b3ff-464a-9658-77262355b598"
      },
      "execution_count": 13,
      "outputs": [
        {
          "output_type": "stream",
          "name": "stdout",
          "text": [
            "Romita\n",
            "Romita\n",
            "Romita Chakraborty\n"
          ]
        }
      ]
    },
    {
      "cell_type": "code",
      "source": [
        "# DATA TYPES"
      ],
      "metadata": {
        "id": "cVRggnLGDrfP"
      },
      "execution_count": null,
      "outputs": []
    },
    {
      "cell_type": "code",
      "source": [
        "#1. Strings- a series of characters enclosed in single/double quotes\n",
        "\n",
        "\"Example of a string\"\n",
        "'Also an example of a string'\n",
        "\n",
        "#can therefore use quotes and apostrophes within a string\n",
        "\n",
        "'I told my friend, \"Python is my favorite language!\"'\n",
        "\"The language 'Python' is named ater Monty Python, not the snake\"\n",
        "\"One of Pyhton's strengths is its diverse and supportive community \"\n"
      ],
      "metadata": {
        "id": "IatTCPxmGQ63"
      },
      "execution_count": null,
      "outputs": []
    },
    {
      "cell_type": "code",
      "source": [
        "# Using Methods to change case in a string\n",
        "# the title() method changes each word to to title case (1st letter of each word is capital)\n",
        "\n",
        "name = \"ada lovelace\"\n",
        "print(name.title())\n",
        "\n",
        "# Changing the whole string to upper/lowercase\n",
        "# using the upper() and lower() methods\n",
        "\n",
        "name = \"Ada Lovelace\"\n",
        "print(name.upper())\n",
        "print(name.lower())"
      ],
      "metadata": {
        "colab": {
          "base_uri": "https://localhost:8080/"
        },
        "id": "hXchw6YQO374",
        "outputId": "31040d79-037e-4de5-afac-4ad869861555"
      },
      "execution_count": 15,
      "outputs": [
        {
          "output_type": "stream",
          "name": "stdout",
          "text": [
            "Ada Lovelace\n",
            "ADA LOVELACE\n",
            "ada lovelace\n"
          ]
        }
      ]
    },
    {
      "cell_type": "code",
      "source": [
        "# inserting a variable's value into a string\n",
        "# Using f-strings\n",
        "# f is for format. Python formats the string by replacing variable names with v-values\n",
        "# use curly brackets around variable name\n",
        "\n",
        "first_name = \"ada\"\n",
        "last_name = \"lovelace\"\n",
        "full_name = f\"{first_name} {last_name}\"\n",
        "print(full_name)\n",
        "\n",
        "\n",
        "#composing messages with f-strings\n",
        "first_name = \"ada\"\n",
        "last_name = \"lovelace\"\n",
        "full_name = f\"{first_name} {last_name}\"\n",
        "print(f\"Hello, {full_name.title()}!\")\n",
        "\n",
        "# using f-strings compose a message and assign it to a variable\n",
        "first_name = \"ada\"\n",
        "last_name = \"lovelace\"\n",
        "full_name =f\"{first_name} {last_name}\"\n",
        "message = f\"Hello, {full_name.title()}!\"\n",
        "print(message)\n",
        "\n"
      ],
      "metadata": {
        "colab": {
          "base_uri": "https://localhost:8080/"
        },
        "id": "bu6rzXiGRWnH",
        "outputId": "6c0f1966-e611-4ca5-a7b6-fe8e5fdbd3b7"
      },
      "execution_count": 18,
      "outputs": [
        {
          "output_type": "stream",
          "name": "stdout",
          "text": [
            "ada lovelace\n",
            "Hello, Ada Lovelace!\n",
            "Hello, Ada Lovelace!\n"
          ]
        }
      ]
    },
    {
      "cell_type": "code",
      "source": [
        "# add a tab to the text\n",
        "\n",
        "print(\"Python\")\n",
        "print(\"\\tPython\")"
      ],
      "metadata": {
        "colab": {
          "base_uri": "https://localhost:8080/"
        },
        "id": "Id3EjoeeWmAQ",
        "outputId": "fa38de11-fe08-46cc-ee06-b076de55ff63"
      },
      "execution_count": 20,
      "outputs": [
        {
          "output_type": "stream",
          "name": "stdout",
          "text": [
            "Python\n",
            "\tPython\n"
          ]
        }
      ]
    },
    {
      "cell_type": "code",
      "source": [
        "# adding a new line using \\n:\n",
        "\n",
        "print(\"Languages:\\nPython\\nC\\nJavaScript\")"
      ],
      "metadata": {
        "colab": {
          "base_uri": "https://localhost:8080/"
        },
        "id": "9jquExanYgl4",
        "outputId": "bffc3f79-f524-485a-820f-d16629648fd1"
      },
      "execution_count": 21,
      "outputs": [
        {
          "output_type": "stream",
          "name": "stdout",
          "text": [
            "Languages:\n",
            "Python\n",
            "C\n",
            "JavaScript\n"
          ]
        }
      ]
    },
    {
      "cell_type": "code",
      "source": [
        "# combine tabs and new lines using \"\\n\\t\"\n",
        "\n",
        "print(\"Languages:\\n\\tPython\\n\\tC\\n\\tJavaScript\")"
      ],
      "metadata": {
        "colab": {
          "base_uri": "https://localhost:8080/"
        },
        "id": "IoPIBF7WY0KG",
        "outputId": "af044fac-a7e8-48b5-ec49-84b2b9f0bbc8"
      },
      "execution_count": 22,
      "outputs": [
        {
          "output_type": "stream",
          "name": "stdout",
          "text": [
            "Languages:\n",
            "\tPython\n",
            "\tC\n",
            "\tJavaScript\n"
          ]
        }
      ]
    },
    {
      "cell_type": "code",
      "source": [
        "# Stripping whitespace\n",
        "# strip() method, lstrip() and rstrip()\n",
        "\n",
        "\n",
        "favorite_language = 'python '\n",
        "favorite_language.rstrip()\n",
        "print(favorite_language)\n"
      ],
      "metadata": {
        "colab": {
          "base_uri": "https://localhost:8080/"
        },
        "id": "ajMhYyvCZFwb",
        "outputId": "42f6cf28-425a-4b64-e0a9-1e4c855501d7"
      },
      "execution_count": 33,
      "outputs": [
        {
          "output_type": "stream",
          "name": "stdout",
          "text": [
            "python \n"
          ]
        }
      ]
    },
    {
      "cell_type": "code",
      "source": [
        "# Removing whitespace permanently by associating the stripped value with the variable name\n",
        "favorite_language = 'python '\n",
        "favorite_language = favorite_language.rstrip()\n",
        "print(favorite_language)\n"
      ],
      "metadata": {
        "colab": {
          "base_uri": "https://localhost:8080/"
        },
        "id": "NrqqyrJqdOFE",
        "outputId": "27b8c0c5-ee96-43ff-8c96-ee704187d5c2"
      },
      "execution_count": 34,
      "outputs": [
        {
          "output_type": "stream",
          "name": "stdout",
          "text": [
            "python\n"
          ]
        }
      ]
    },
    {
      "cell_type": "code",
      "source": [
        "# using lstrip() and rstrip() together\n",
        "# using strip() method\n",
        "favorite_language = ' python '\n",
        "favorite_language.rstrip()\n"
      ],
      "metadata": {
        "colab": {
          "base_uri": "https://localhost:8080/",
          "height": 36
        },
        "id": "JUFiYHJkd6zp",
        "outputId": "279edaf4-f60c-46ec-d9a9-ff0ebf530f07"
      },
      "execution_count": 40,
      "outputs": [
        {
          "output_type": "execute_result",
          "data": {
            "text/plain": [
              "' python'"
            ],
            "application/vnd.google.colaboratory.intrinsic+json": {
              "type": "string"
            }
          },
          "metadata": {},
          "execution_count": 40
        }
      ]
    },
    {
      "cell_type": "code",
      "source": [
        "favorite_language = ' python '\n",
        "favorite_language.lstrip()"
      ],
      "metadata": {
        "colab": {
          "base_uri": "https://localhost:8080/",
          "height": 36
        },
        "id": "XrOHlpq9ezre",
        "outputId": "9ef9067d-fe08-43a5-a38c-e728ef785ad3"
      },
      "execution_count": 41,
      "outputs": [
        {
          "output_type": "execute_result",
          "data": {
            "text/plain": [
              "'python '"
            ],
            "application/vnd.google.colaboratory.intrinsic+json": {
              "type": "string"
            }
          },
          "metadata": {},
          "execution_count": 41
        }
      ]
    },
    {
      "cell_type": "code",
      "source": [
        "favorite_language = ' python '\n",
        "favorite_language.strip()"
      ],
      "metadata": {
        "colab": {
          "base_uri": "https://localhost:8080/",
          "height": 36
        },
        "id": "WgNp4PI-e5A1",
        "outputId": "1dadbc6d-6d48-42e5-8f5a-c806e6046d3b"
      },
      "execution_count": 42,
      "outputs": [
        {
          "output_type": "execute_result",
          "data": {
            "text/plain": [
              "'python'"
            ],
            "application/vnd.google.colaboratory.intrinsic+json": {
              "type": "string"
            }
          },
          "metadata": {},
          "execution_count": 42
        }
      ]
    },
    {
      "cell_type": "code",
      "source": [
        "# Removing prefixes using the method removeprefix\n",
        "\n",
        "nostarch_url = 'https://nostarch.com'\n",
        "nostarch_url.removeprefix('https://')\n"
      ],
      "metadata": {
        "colab": {
          "base_uri": "https://localhost:8080/",
          "height": 36
        },
        "id": "6QJ82phxfDi1",
        "outputId": "418ffd6f-42d8-47f4-e179-24b2a9221a5a"
      },
      "execution_count": 43,
      "outputs": [
        {
          "output_type": "execute_result",
          "data": {
            "text/plain": [
              "'nostarch.com'"
            ],
            "application/vnd.google.colaboratory.intrinsic+json": {
              "type": "string"
            }
          },
          "metadata": {},
          "execution_count": 43
        }
      ]
    },
    {
      "cell_type": "code",
      "source": [
        "# avoiding syntax errors regarding quotation\n",
        "# using double quotes with an apostrophe is fine\n",
        "\n",
        "message = \"One of Python's strengths is its diverse community.\"\n",
        "print(message)\n"
      ],
      "metadata": {
        "colab": {
          "base_uri": "https://localhost:8080/"
        },
        "id": "stXrvrvdgGUv",
        "outputId": "fd651818-0f0a-4b5c-9309-3d96a91795aa"
      },
      "execution_count": 46,
      "outputs": [
        {
          "output_type": "stream",
          "name": "stdout",
          "text": [
            "One of Python's strengths is its diverse community.\n"
          ]
        }
      ]
    },
    {
      "cell_type": "code",
      "source": [
        "# using apostrophe within single quotes causes an error\n",
        "\n",
        "message = 'One of Python's strengths is its diverse communit\n",
        "y.'\n",
        "print(message)\n"
      ],
      "metadata": {
        "colab": {
          "base_uri": "https://localhost:8080/",
          "height": 144
        },
        "id": "YkNfOgZVg3V3",
        "outputId": "0c468003-752e-4fc2-9006-8b1b20dcce86"
      },
      "execution_count": 47,
      "outputs": [
        {
          "output_type": "error",
          "ename": "SyntaxError",
          "evalue": "ignored",
          "traceback": [
            "\u001b[0;36m  File \u001b[0;32m\"<ipython-input-47-83241abc9637>\"\u001b[0;36m, line \u001b[0;32m4\u001b[0m\n\u001b[0;31m    y.'\u001b[0m\n\u001b[0m      ^\u001b[0m\n\u001b[0;31mSyntaxError\u001b[0m\u001b[0;31m:\u001b[0m unterminated string literal (detected at line 4)\n"
          ]
        }
      ]
    },
    {
      "cell_type": "code",
      "source": [
        "# TRY IT YOURSELF\n",
        "\n",
        "# 2-3. Personal Message:\n",
        "full_name = \"kervens jasmin\"\n",
        "message = f\"Hello, {full_name.title()}. Would you like to go for a walk?\"\n",
        "print(message)\n",
        "\n",
        "# 2-4. Name Cases:\n",
        "full_name = \"kervens jasmin\"\n",
        "print(full_name.lower())\n",
        "print(full_name.upper())\n",
        "print(full_name.title())\n",
        "\n",
        "# 2-5. Famous Quote:\n",
        "\n",
        "print('Albert Einstein once said, “A person who never made a mistake never tried anything new.”')\n",
        "\n",
        "# 2-6. Famous Quote 2:\n",
        "\n",
        "famous_person = \"Albert Einstein\"\n",
        "message = '\"A person who never made a mistake never tried anything new.\"'\n",
        "famous_quote = f\"{famous_person} once said, {message}\"\n",
        "print(famous_quote)\n",
        "\n",
        "# 2-7. Stripping Names:\n",
        "\n",
        "first_name = \" Kervens \"\n",
        "print(first_name)\n",
        "first_name.lstrip()\n",
        "\n"
      ],
      "metadata": {
        "colab": {
          "base_uri": "https://localhost:8080/",
          "height": 164
        },
        "id": "KvM3OQ4bg-Ye",
        "outputId": "bd6e917c-f4fe-4dee-f001-68526241445a"
      },
      "execution_count": 71,
      "outputs": [
        {
          "output_type": "stream",
          "name": "stdout",
          "text": [
            "Hello, Kervens Jasmin. Would you like to go for a walk?\n",
            "kervens jasmin\n",
            "KERVENS JASMIN\n",
            "Kervens Jasmin\n",
            "Albert Einstein once said, “A person who never made a mistake never tried anything new.”\n",
            "Albert Einstein once said, \"A person who never made a mistake never tried anything new.\"\n",
            " Kervens \n"
          ]
        },
        {
          "output_type": "execute_result",
          "data": {
            "text/plain": [
              "'Kervens '"
            ],
            "application/vnd.google.colaboratory.intrinsic+json": {
              "type": "string"
            }
          },
          "metadata": {},
          "execution_count": 71
        }
      ]
    },
    {
      "cell_type": "code",
      "source": [
        "# TRY IT YOURSELF CONTD.\n",
        "\n",
        "# 2-7:\n",
        "first_name = \" Kervens \"\n",
        "print(first_name)\n",
        "first_name.rstrip()\n",
        "\n"
      ],
      "metadata": {
        "colab": {
          "base_uri": "https://localhost:8080/",
          "height": 54
        },
        "id": "NCPH-VxwrwM4",
        "outputId": "fb5e2b31-8e4d-4941-acfb-bd579c7bd33b"
      },
      "execution_count": 73,
      "outputs": [
        {
          "output_type": "stream",
          "name": "stdout",
          "text": [
            " Kervens \n"
          ]
        },
        {
          "output_type": "execute_result",
          "data": {
            "text/plain": [
              "' Kervens'"
            ],
            "application/vnd.google.colaboratory.intrinsic+json": {
              "type": "string"
            }
          },
          "metadata": {},
          "execution_count": 73
        }
      ]
    },
    {
      "cell_type": "code",
      "source": [
        "first_name = \" Kervens \"\n",
        "print(first_name)\n",
        "first_name.strip()\n"
      ],
      "metadata": {
        "colab": {
          "base_uri": "https://localhost:8080/",
          "height": 54
        },
        "id": "YphRx34JsGMp",
        "outputId": "236d8f87-7e08-4b27-c110-e7be4a4933fe"
      },
      "execution_count": 77,
      "outputs": [
        {
          "output_type": "stream",
          "name": "stdout",
          "text": [
            " Kervens \n"
          ]
        },
        {
          "output_type": "execute_result",
          "data": {
            "text/plain": [
              "'Kervens'"
            ],
            "application/vnd.google.colaboratory.intrinsic+json": {
              "type": "string"
            }
          },
          "metadata": {},
          "execution_count": 77
        }
      ]
    },
    {
      "cell_type": "code",
      "source": [
        "#2-8. File Extentions\n",
        "\n",
        "filename =  'python_notes.txt'\n",
        "filename.removesuffix(\".txt\")"
      ],
      "metadata": {
        "colab": {
          "base_uri": "https://localhost:8080/",
          "height": 36
        },
        "id": "XXFpHaSjt7Xo",
        "outputId": "d304933c-9154-4817-8623-768a372a81e9"
      },
      "execution_count": 78,
      "outputs": [
        {
          "output_type": "execute_result",
          "data": {
            "text/plain": [
              "'python_notes'"
            ],
            "application/vnd.google.colaboratory.intrinsic+json": {
              "type": "string"
            }
          },
          "metadata": {},
          "execution_count": 78
        }
      ]
    },
    {
      "cell_type": "code",
      "source": [
        "# Numbers\n",
        "# - Integers: can add, subtract, mutiple and divide int\n",
        "\n",
        "print(2 + 3)\n",
        "print(3 - 2)\n",
        "print(2 * 3)\n",
        "print(3 / 2)\n",
        "\n",
        "# use two multiplication symbols foe exponents\n",
        "print(3 ** 2)\n",
        "print(3 ** 3)\n",
        "print(10 ** 6)\n",
        "\n",
        "# can use multiple operations in one expression\n",
        "print(2 + 3*4)\n",
        "print((2 + 3) * 4)\n",
        "\n",
        "# - Floats: decimal numbers\n",
        "\n",
        "print(0.1 + 0.1)\n",
        "print(0.2 + 0.2)\n",
        "print(2 * 0.1)\n",
        "print(2 * 0.2)\n",
        "\n",
        "#arbitary number of points in some cases\n",
        "\n",
        "print(0.2 + 0.1)\n",
        "print(3 * 0.1)\n",
        "\n",
        "# dividing two integers resulting in a whole number will be represented as a float\n",
        "print(4/2)\n",
        "# mixing an integer and float in an op, gives a float\n",
        "print(1 + 2.0)\n",
        "print(2 * 3.0)\n",
        "print(3.0 ** 2)\n",
        "\n",
        "# Underscores in big numbers for readability (ignored by Python)\n",
        "universe_age = 14_000_000_000\n",
        "print(universe_age)\n"
      ],
      "metadata": {
        "colab": {
          "base_uri": "https://localhost:8080/"
        },
        "id": "l72FRFlzt-U5",
        "outputId": "0aa6ad74-696b-4358-a9a0-6fd1d09161fd"
      },
      "execution_count": 94,
      "outputs": [
        {
          "output_type": "stream",
          "name": "stdout",
          "text": [
            "5\n",
            "1\n",
            "6\n",
            "1.5\n",
            "9\n",
            "27\n",
            "1000000\n",
            "14\n",
            "20\n",
            "0.2\n",
            "0.4\n",
            "0.2\n",
            "0.4\n",
            "0.30000000000000004\n",
            "0.30000000000000004\n",
            "2.0\n",
            "3.0\n",
            "6.0\n",
            "9.0\n",
            "14000000000\n"
          ]
        }
      ]
    },
    {
      "cell_type": "code",
      "source": [
        "# Multiple Assignment\n",
        "# You can assign values to more than one variable using just a single line of code\n",
        "# separate values using commas\n",
        "# number of values should match no. of variables\n",
        "x, y, z = 0, 0, 0\n",
        "print(x)\n",
        "print(y)\n",
        "print(z)\n",
        "\n",
        "# Constants\n",
        "# A constant is a variable whose value stays the same throughout the life of a program\n",
        "# use all capital letter to indicate constant variable\n",
        "\n",
        "MAX_CONNECTIONS = 5000 #example"
      ],
      "metadata": {
        "colab": {
          "base_uri": "https://localhost:8080/"
        },
        "id": "SxJKsb_r1fiS",
        "outputId": "eb4facb1-58c0-4929-c7a9-2a7e877e3cdc"
      },
      "execution_count": 96,
      "outputs": [
        {
          "output_type": "stream",
          "name": "stdout",
          "text": [
            "0\n",
            "0\n",
            "0\n"
          ]
        }
      ]
    },
    {
      "cell_type": "code",
      "source": [
        "# TRY IT YOURSELF\n",
        "\n",
        "#2-9. Number Eight:\n",
        "print(5+3)\n",
        "print(11-3)\n",
        "print(4*2)\n",
        "print(16/2)\n",
        "\n",
        "#Favorite Number:\n",
        "fav_num = 4\n",
        "message = \"My favorite number is\"\n",
        "print(f\"{message} {fav_num}\")\n"
      ],
      "metadata": {
        "colab": {
          "base_uri": "https://localhost:8080/"
        },
        "id": "31kMYYdK2has",
        "outputId": "065ad5cb-0189-4fbb-a636-9e9d795bb65e"
      },
      "execution_count": 99,
      "outputs": [
        {
          "output_type": "stream",
          "name": "stdout",
          "text": [
            "8\n",
            "8\n",
            "8\n",
            "8.0\n",
            "My favorite number is 4\n"
          ]
        }
      ]
    },
    {
      "cell_type": "code",
      "source": [
        "# TRY IT YOURSELF\n",
        "\n",
        "#Adding comments (already done)"
      ],
      "metadata": {
        "id": "rz6I54PP3jL2"
      },
      "execution_count": null,
      "outputs": []
    },
    {
      "cell_type": "code",
      "source": [
        "# TRY IT YOURSELF\n",
        "\n",
        "import this"
      ],
      "metadata": {
        "colab": {
          "base_uri": "https://localhost:8080/"
        },
        "id": "3syGDLww3trA",
        "outputId": "071999a2-ad3d-411a-ddbd-fa3c34157797"
      },
      "execution_count": 100,
      "outputs": [
        {
          "output_type": "stream",
          "name": "stdout",
          "text": [
            "The Zen of Python, by Tim Peters\n",
            "\n",
            "Beautiful is better than ugly.\n",
            "Explicit is better than implicit.\n",
            "Simple is better than complex.\n",
            "Complex is better than complicated.\n",
            "Flat is better than nested.\n",
            "Sparse is better than dense.\n",
            "Readability counts.\n",
            "Special cases aren't special enough to break the rules.\n",
            "Although practicality beats purity.\n",
            "Errors should never pass silently.\n",
            "Unless explicitly silenced.\n",
            "In the face of ambiguity, refuse the temptation to guess.\n",
            "There should be one-- and preferably only one --obvious way to do it.\n",
            "Although that way may not be obvious at first unless you're Dutch.\n",
            "Now is better than never.\n",
            "Although never is often better than *right* now.\n",
            "If the implementation is hard to explain, it's a bad idea.\n",
            "If the implementation is easy to explain, it may be a good idea.\n",
            "Namespaces are one honking great idea -- let's do more of those!\n"
          ]
        }
      ]
    },
    {
      "cell_type": "code",
      "source": [
        "# END OF ASSIGNMENT"
      ],
      "metadata": {
        "id": "Vetn1Cdm4E8y"
      },
      "execution_count": null,
      "outputs": []
    }
  ]
}