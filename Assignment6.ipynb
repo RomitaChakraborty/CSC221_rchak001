{
  "nbformat": 4,
  "nbformat_minor": 0,
  "metadata": {
    "colab": {
      "provenance": [],
      "include_colab_link": true
    },
    "kernelspec": {
      "name": "python3",
      "display_name": "Python 3"
    },
    "language_info": {
      "name": "python"
    }
  },
  "cells": [
    {
      "cell_type": "markdown",
      "metadata": {
        "id": "view-in-github",
        "colab_type": "text"
      },
      "source": [
        "<a href=\"https://colab.research.google.com/github/RomitaChakraborty/CSC221_rchak001/blob/main/Assignment6.ipynb\" target=\"_parent\"><img src=\"https://colab.research.google.com/assets/colab-badge.svg\" alt=\"Open In Colab\"/></a>"
      ]
    },
    {
      "cell_type": "markdown",
      "source": [
        "Romita Chakraborty\n",
        "\n",
        "Assignment 6"
      ],
      "metadata": {
        "id": "hV924qEMU6LO"
      }
    },
    {
      "cell_type": "code",
      "execution_count": 24,
      "metadata": {
        "id": "cg0S66N22v7i",
        "colab": {
          "base_uri": "https://localhost:8080/"
        },
        "outputId": "d7edc1ab-562a-4418-ae2f-d74db2c2807e"
      },
      "outputs": [
        {
          "output_type": "stream",
          "name": "stdout",
          "text": [
            "Audi\n",
            "BMW\n",
            "Subaru\n",
            "Toyota\n"
          ]
        }
      ],
      "source": [
        "cars = ['audi', 'bmw', 'subaru', 'toyota']\n",
        "for car in cars:\n",
        " if car == 'bmw':\n",
        "  print(car.upper())\n",
        " else:\n",
        "  print(car.title())"
      ]
    },
    {
      "cell_type": "code",
      "source": [
        "car = 'bmw'\n",
        "car == 'bmw'"
      ],
      "metadata": {
        "colab": {
          "base_uri": "https://localhost:8080/"
        },
        "id": "ErcgxpaE3V2F",
        "outputId": "9803f34a-cb08-4644-82e4-d033909bfa52"
      },
      "execution_count": 25,
      "outputs": [
        {
          "output_type": "execute_result",
          "data": {
            "text/plain": [
              "True"
            ]
          },
          "metadata": {},
          "execution_count": 25
        }
      ]
    },
    {
      "cell_type": "code",
      "source": [
        "car = 'audi'\n",
        "car == 'bmw'"
      ],
      "metadata": {
        "colab": {
          "base_uri": "https://localhost:8080/"
        },
        "id": "-DnWVDQ43V8Q",
        "outputId": "54df0abc-112b-4f3a-b71f-6d5a9ea43399"
      },
      "execution_count": 26,
      "outputs": [
        {
          "output_type": "execute_result",
          "data": {
            "text/plain": [
              "False"
            ]
          },
          "metadata": {},
          "execution_count": 26
        }
      ]
    },
    {
      "cell_type": "markdown",
      "source": [
        "True and False examples are redundent"
      ],
      "metadata": {
        "id": "XZLQnQqc32NA"
      }
    },
    {
      "cell_type": "code",
      "source": [
        "requested_topping = 'mushrooms'\n",
        "if requested_topping != 'anchovies':\n",
        " print(\"Hold the anchovies!\")"
      ],
      "metadata": {
        "colab": {
          "base_uri": "https://localhost:8080/"
        },
        "id": "B_RqrXY03WEU",
        "outputId": "ca7d5c2e-c05f-4108-8d5c-e60bc84d7ad3"
      },
      "execution_count": 27,
      "outputs": [
        {
          "output_type": "stream",
          "name": "stdout",
          "text": [
            "Hold the anchovies!\n"
          ]
        }
      ]
    },
    {
      "cell_type": "code",
      "source": [
        "age = 18\n",
        "age == 18"
      ],
      "metadata": {
        "colab": {
          "base_uri": "https://localhost:8080/"
        },
        "id": "1a4tuHJX4JWV",
        "outputId": "d7e7277e-87a0-462e-d1a4-04b2081747d8"
      },
      "execution_count": 28,
      "outputs": [
        {
          "output_type": "execute_result",
          "data": {
            "text/plain": [
              "True"
            ]
          },
          "metadata": {},
          "execution_count": 28
        }
      ]
    },
    {
      "cell_type": "code",
      "source": [
        "answer = 17\n",
        "if answer != 42:\n",
        " print(\"That is not the correct answer. Please try again!\")"
      ],
      "metadata": {
        "colab": {
          "base_uri": "https://localhost:8080/"
        },
        "id": "63eHLl1m4Qig",
        "outputId": "05b0272a-e7be-460c-d0e6-6fdca5c9b16f"
      },
      "execution_count": 29,
      "outputs": [
        {
          "output_type": "stream",
          "name": "stdout",
          "text": [
            "That is not the correct answer. Please try again!\n"
          ]
        }
      ]
    },
    {
      "cell_type": "code",
      "source": [
        "age_0 = 22\n",
        "age_1 = 18\n",
        "print(age_0 >= 21 and age_1 >= 21)\n",
        "age_1 = 22\n",
        "print(age_0 >= 21 and age_1 >= 21)\n"
      ],
      "metadata": {
        "colab": {
          "base_uri": "https://localhost:8080/"
        },
        "id": "dVg0vqPe4Vmx",
        "outputId": "170a34d5-a3a3-4c31-c58d-1cdd83992f26"
      },
      "execution_count": 30,
      "outputs": [
        {
          "output_type": "stream",
          "name": "stdout",
          "text": [
            "False\n",
            "True\n"
          ]
        }
      ]
    },
    {
      "cell_type": "code",
      "source": [
        "requested_toppings = ['mushrooms', 'onions', 'pineapple']\n",
        "print('mushrooms' in requested_toppings)\n",
        "print('pepperoni' in requested_toppings)\n",
        "\n"
      ],
      "metadata": {
        "colab": {
          "base_uri": "https://localhost:8080/"
        },
        "id": "LTSKzU_k4VrJ",
        "outputId": "f62db7ba-dffa-4195-86ef-23968b043529"
      },
      "execution_count": 31,
      "outputs": [
        {
          "output_type": "stream",
          "name": "stdout",
          "text": [
            "True\n",
            "False\n"
          ]
        }
      ]
    },
    {
      "cell_type": "code",
      "source": [
        "banned_users = ['andrew', 'carolina', 'david']\n",
        "user = 'marie'\n",
        "if user not in banned_users:\n",
        " print(f\"{user.title()}, you can post a response if you wish.\")"
      ],
      "metadata": {
        "colab": {
          "base_uri": "https://localhost:8080/"
        },
        "id": "0bI0Zg7B4VuW",
        "outputId": "267bd762-309e-4ef5-b991-412df92e6e40"
      },
      "execution_count": 32,
      "outputs": [
        {
          "output_type": "stream",
          "name": "stdout",
          "text": [
            "Marie, you can post a response if you wish.\n"
          ]
        }
      ]
    },
    {
      "cell_type": "markdown",
      "source": [
        "5-1. Conditional Tests: Write a series of conditional tests. Print a\n",
        "statement describing each test and your prediction for the results of each\n",
        "test. Your code should look something like this:\n",
        "car = 'subaru'\n",
        "print(\"Is car == 'subaru'? I predict True.\")\n",
        "print(car == 'subaru')\n",
        "print(\"\\nIs car == 'audi'? I predict False.\")\n",
        "print(car == 'audi')\n",
        "Look closely at your results, and make sure you understand why each line\n",
        "evaluates to True or False.\n",
        "Create at least 10 tests. Have at least 5 tests evaluate to True and another 5\n",
        "tests evaluate to False.\n",
        "\n",
        "5-2. More Conditional Tests: You don’t have to limit the number of tests\n",
        "you create to 10. If you want to try more comparisons, write more tests and\n",
        "add them to conditional_tests.py. Have at least one True and one False result\n",
        "for each of the following:\n",
        "Tests for equality and inequality with strings\n",
        "Tests using the lower() method\n",
        "Numerical tests involving equality and inequality, greater than and less\n",
        "than, greater than or equal to, and less than or equal to\n",
        "Tests using the and keyword and the or keyword\n",
        "Test whether an item is in a list\n",
        "Test whether an item is not in a list"
      ],
      "metadata": {
        "id": "uY8xyngN6UZg"
      }
    },
    {
      "cell_type": "code",
      "source": [
        "car = \"toyota\"\n",
        "print(f\"Is car == bmw? I predict False\")\n",
        "print(car == \"bmw\")\n",
        "\n",
        "print(f\"Is car == bmw? I predict True\")\n",
        "print(car == \"toyota\")\n",
        "\n",
        "car = \"bmw\"\n",
        "print(f\"Is car == bmw? I predict False\")\n",
        "print(car == \"bmw\")\n",
        "\n",
        "print(f\"Is car == bmw? I predict True\")\n",
        "print(car == \"toyota\")\n",
        "\n",
        "car = \"subaru\"\n",
        "print(f\"Is car == bmw? I predict False\")\n",
        "print(car == \"bmw\")\n",
        "\n",
        "print(f\"Is car == bmw? I predict True\")\n",
        "print(car == \"toyota\")\n",
        "\n",
        "car = \"flying\"\n",
        "print(f\"Is car == bmw? I predict False\")\n",
        "print(car == \"bmw\")\n",
        "\n",
        "print(f\"Is car == bmw? I predict True\")\n",
        "print(car == \"toyota\")\n",
        "\n",
        "car = \"flying\"\n",
        "print(f\"Is car == bmw? I predict False\")\n",
        "print(car == \"bmw\")\n",
        "\n",
        "print(f\"Is car == bmw? I predict True\")\n",
        "print(car == \"toyota\")\n",
        "\n",
        "car = \"lexus\"\n",
        "print(f\"Is car == lexus? I predict False\")\n",
        "print(car == \"lexus\")\n",
        "\n",
        "print(f\"Is car == bmw? I predict True\")\n",
        "print(car == \"toyota\")\n",
        "\n"
      ],
      "metadata": {
        "id": "g9bozc1pX7U-",
        "colab": {
          "base_uri": "https://localhost:8080/"
        },
        "outputId": "17f3bf97-86ca-4d81-fa49-0822c7d892a5"
      },
      "execution_count": 33,
      "outputs": [
        {
          "output_type": "stream",
          "name": "stdout",
          "text": [
            "Is car == bmw? I predict False\n",
            "False\n",
            "Is car == bmw? I predict True\n",
            "True\n",
            "Is car == bmw? I predict False\n",
            "True\n",
            "Is car == bmw? I predict True\n",
            "False\n",
            "Is car == bmw? I predict False\n",
            "False\n",
            "Is car == bmw? I predict True\n",
            "False\n",
            "Is car == bmw? I predict False\n",
            "False\n",
            "Is car == bmw? I predict True\n",
            "False\n",
            "Is car == bmw? I predict False\n",
            "False\n",
            "Is car == bmw? I predict True\n",
            "False\n",
            "Is car == lexus? I predict False\n",
            "True\n",
            "Is car == bmw? I predict True\n",
            "False\n"
          ]
        }
      ]
    },
    {
      "cell_type": "code",
      "source": [
        "age = 19\n",
        "if age >= 18:\n",
        " print(\"You are old enough to vote!\")\n",
        " print(\"Have you registered to vote yet?\")"
      ],
      "metadata": {
        "colab": {
          "base_uri": "https://localhost:8080/"
        },
        "id": "hoJDEvlE4RFc",
        "outputId": "44ffc6d8-bfea-4b70-a9ba-16d94541f92b"
      },
      "execution_count": 34,
      "outputs": [
        {
          "output_type": "stream",
          "name": "stdout",
          "text": [
            "You are old enough to vote!\n",
            "Have you registered to vote yet?\n"
          ]
        }
      ]
    },
    {
      "cell_type": "code",
      "source": [
        "age = 17\n",
        "if age >= 18:\n",
        " print(\"You are old enough to vote!\")\n",
        " print(\"Have you registered to vote yet?\")\n",
        "else:\n",
        " print(\"Sorry, you are too young to vote.\")\n",
        " print(\"Please register to vote as soon as you turn 18!\")\n"
      ],
      "metadata": {
        "colab": {
          "base_uri": "https://localhost:8080/"
        },
        "id": "BuuR8Q8Q4RIl",
        "outputId": "481e2e84-b5cc-4a98-c72c-40a7ac99da36"
      },
      "execution_count": 35,
      "outputs": [
        {
          "output_type": "stream",
          "name": "stdout",
          "text": [
            "Sorry, you are too young to vote.\n",
            "Please register to vote as soon as you turn 18!\n"
          ]
        }
      ]
    },
    {
      "cell_type": "code",
      "source": [
        "age = 12\n",
        "if age < 4:\n",
        " print(\"Your admission cost is $0.\")\n",
        "elif age < 18:\n",
        " print(\"Your admission cost is $25.\")\n",
        "else:\n",
        " print(\"Your admission cost is $40.\")"
      ],
      "metadata": {
        "colab": {
          "base_uri": "https://localhost:8080/"
        },
        "id": "f1rF2WQJ4RMZ",
        "outputId": "61085a3a-f5b6-4890-e5c2-9a2c1d576e40"
      },
      "execution_count": 36,
      "outputs": [
        {
          "output_type": "stream",
          "name": "stdout",
          "text": [
            "Your admission cost is $25.\n"
          ]
        }
      ]
    },
    {
      "cell_type": "code",
      "source": [
        "age = 12\n",
        "if age < 4:\n",
        " price = 0\n",
        "elif age < 18:\n",
        " price = 25\n",
        "else:\n",
        " price = 40\n",
        "print(f\"Your admission cost is ${price}.\")"
      ],
      "metadata": {
        "colab": {
          "base_uri": "https://localhost:8080/"
        },
        "id": "917_20-F4RPy",
        "outputId": "4c933404-195f-4d2b-ecd4-0cfe55167ccb"
      },
      "execution_count": 37,
      "outputs": [
        {
          "output_type": "stream",
          "name": "stdout",
          "text": [
            "Your admission cost is $25.\n"
          ]
        }
      ]
    },
    {
      "cell_type": "code",
      "source": [
        "age = 12\n",
        "if age < 4:\n",
        " price = 0\n",
        "elif age < 18:\n",
        " price = 25\n",
        "elif age < 65:\n",
        " price = 40\n",
        "else:\n",
        " price = 20\n",
        "print(f\"Your admission cost is ${price}.\")"
      ],
      "metadata": {
        "colab": {
          "base_uri": "https://localhost:8080/"
        },
        "id": "BZnLqLY14RTF",
        "outputId": "7852cda4-82c2-4910-a86d-efc752221518"
      },
      "execution_count": 38,
      "outputs": [
        {
          "output_type": "stream",
          "name": "stdout",
          "text": [
            "Your admission cost is $25.\n"
          ]
        }
      ]
    },
    {
      "cell_type": "code",
      "source": [
        "requested_toppings = ['mushrooms', 'extra cheese']\n",
        "if 'mushrooms' in requested_toppings:\n",
        " print(\"Adding mushrooms.\")\n",
        "if 'pepperoni' in requested_toppings:\n",
        " print(\"Adding pepperoni.\")\n",
        "if 'extra cheese' in requested_toppings:\n",
        " print(\"Adding extra cheese.\")\n",
        "print(\"\\nFinished making your pizza!\")"
      ],
      "metadata": {
        "colab": {
          "base_uri": "https://localhost:8080/"
        },
        "id": "b-Oh5GkW4RWt",
        "outputId": "85d97419-f37f-4fa0-d7ee-69a1724593d5"
      },
      "execution_count": 39,
      "outputs": [
        {
          "output_type": "stream",
          "name": "stdout",
          "text": [
            "Adding mushrooms.\n",
            "Adding extra cheese.\n",
            "\n",
            "Finished making your pizza!\n"
          ]
        }
      ]
    },
    {
      "cell_type": "code",
      "source": [
        "requested_toppings = ['mushrooms', 'extra cheese']\n",
        "if 'mushrooms' in requested_toppings:\n",
        " print(\"Adding mushrooms.\")\n",
        "elif 'pepperoni' in requested_toppings:\n",
        " print(\"Adding pepperoni.\")\n",
        "elif 'extra cheese' in requested_toppings:\n",
        " print(\"Adding extra cheese.\")\n",
        "print(\"\\nFinished making your pizza!\")"
      ],
      "metadata": {
        "colab": {
          "base_uri": "https://localhost:8080/"
        },
        "id": "Qo580yk77Yoc",
        "outputId": "8b3863db-0650-47b3-f53c-8628bf22b2b8"
      },
      "execution_count": 40,
      "outputs": [
        {
          "output_type": "stream",
          "name": "stdout",
          "text": [
            "Adding mushrooms.\n",
            "\n",
            "Finished making your pizza!\n"
          ]
        }
      ]
    },
    {
      "cell_type": "markdown",
      "source": [
        "5-3. Alien Colors #1: Imagine an alien was just shot down in a game.\n",
        "Create a variable called alien_color and assign it a value of 'green', 'yellow',\n",
        "or 'red'.\n",
        "Write an if statement to test whether the alien’s color is green. If it is, print\n",
        "a message that the player just earned 5 points.\n",
        "Write one version of this program that passes the if test and another that\n",
        "fails. (The version that fails will have no output.)\n",
        "\n",
        "5-6. Stages of Life: Write an if-elif-else chain that determines a person’s\n",
        "stage of life. Set a value for the variable age, and then:\n",
        "If the person is less than 2 years old, print a message that the person is a\n",
        "baby.\n",
        "If the person is at least 2 years old but less than 4, print a message that the\n",
        "person is a toddler.\n",
        "If the person is at least 4 years old but less than 13, print a message that\n",
        "the person is a kid.\n",
        "If the person is at least 13 years old but less than 20, print a message that\n",
        "the person is a teenager.\n",
        "If the person is at least 20 years old but less than 65, print a message that\n",
        "the person is an adult.\n",
        "If the person is age 65 or older, print a message that the person is an elder.\n",
        "\n"
      ],
      "metadata": {
        "id": "iK1kOyRj7vJT"
      }
    },
    {
      "cell_type": "code",
      "source": [
        "alien_color = 'green'\n",
        "if alien_color == 'green':\n",
        "  print('5 point earned')\n"
      ],
      "metadata": {
        "id": "nFWIF_OgbTft",
        "colab": {
          "base_uri": "https://localhost:8080/"
        },
        "outputId": "ce766ef9-a195-4fcc-ccdc-1949f25bda56"
      },
      "execution_count": 41,
      "outputs": [
        {
          "output_type": "stream",
          "name": "stdout",
          "text": [
            "5 point earned\n"
          ]
        }
      ]
    },
    {
      "cell_type": "code",
      "source": [
        "alien_color = 'yellow'\n",
        "if alien_color == 'green':\n",
        "  print('5 point earned')"
      ],
      "metadata": {
        "id": "5V15n4TKbuEx"
      },
      "execution_count": 42,
      "outputs": []
    },
    {
      "cell_type": "code",
      "source": [
        "age = 5\n",
        "\n",
        "if age < 2:\n",
        "  print(\"You are a baby\")\n",
        "elif age < 4:\n",
        "  print(\"You are a toddler\")\n",
        "elif age < 13:\n",
        "  print(\"You are a kid\")\n",
        "elif age < 20:\n",
        "  print(\"You are a teenager\")\n",
        "elif age < 65:\n",
        "  print(\"You are a adult\")\n",
        "else:\n",
        "  print(\"You are an elder\")"
      ],
      "metadata": {
        "colab": {
          "base_uri": "https://localhost:8080/"
        },
        "id": "MeyDCJdibxc8",
        "outputId": "fca87aae-33c8-4a31-9860-30e1cc37c64c"
      },
      "execution_count": 43,
      "outputs": [
        {
          "output_type": "stream",
          "name": "stdout",
          "text": [
            "You are a kid\n"
          ]
        }
      ]
    },
    {
      "cell_type": "code",
      "source": [
        "requested_toppings = ['mushrooms', 'green peppers', 'extra cheese']\n",
        "for requested_topping in requested_toppings:\n",
        "  if requested_topping == 'green peppers':\n",
        "    print(\"Sorry, we are out of green peppers right now.\")\n",
        "  else:\n",
        "    print(f\"Adding {requested_topping}.\")\n",
        "print(\"\\nFinished making your pizza!\")"
      ],
      "metadata": {
        "colab": {
          "base_uri": "https://localhost:8080/"
        },
        "id": "wE4IUrQ57Y4B",
        "outputId": "d9012f59-00af-4c70-b678-73d5b858c61d"
      },
      "execution_count": 44,
      "outputs": [
        {
          "output_type": "stream",
          "name": "stdout",
          "text": [
            "Adding mushrooms.\n",
            "Sorry, we are out of green peppers right now.\n",
            "Adding extra cheese.\n",
            "\n",
            "Finished making your pizza!\n"
          ]
        }
      ]
    },
    {
      "cell_type": "code",
      "source": [
        "requested_toppings = []\n",
        "if requested_toppings:\n",
        " for requested_topping in requested_toppings:\n",
        "   print(f\"Adding {requested_topping}.\")\n",
        "   print(\"\\nFinished making your pizza!\")\n",
        "else:\n",
        " print(\"Are you sure you want a plain pizza?\")\n"
      ],
      "metadata": {
        "id": "drjKw3dy7Zr5",
        "colab": {
          "base_uri": "https://localhost:8080/"
        },
        "outputId": "10e7ccbb-a9a2-4eb6-d213-a5d2fc180315"
      },
      "execution_count": 45,
      "outputs": [
        {
          "output_type": "stream",
          "name": "stdout",
          "text": [
            "Are you sure you want a plain pizza?\n"
          ]
        }
      ]
    },
    {
      "cell_type": "code",
      "source": [
        "available_toppings = ['mushrooms', 'olives', 'green peppers','pepperoni', 'pineapple', 'extra cheese']\n",
        "requested_toppings = ['mushrooms', 'french fries', 'extra cheese']\n",
        "for requested_topping in requested_toppings:\n",
        "   if requested_topping in available_toppings:\n",
        "     print(f\"Adding {requested_topping}.\")\n",
        "else:\n",
        "  print(f\"Sorry, we don't have {requested_topping}.\")\n",
        "  print(\"\\nFinished making your pizza!\")"
      ],
      "metadata": {
        "colab": {
          "base_uri": "https://localhost:8080/"
        },
        "id": "fS6HhYLc4RZi",
        "outputId": "33edd475-f5b4-4e69-eb0d-24f21e350d95"
      },
      "execution_count": 46,
      "outputs": [
        {
          "output_type": "stream",
          "name": "stdout",
          "text": [
            "Adding mushrooms.\n",
            "Adding extra cheese.\n",
            "Sorry, we don't have extra cheese.\n",
            "\n",
            "Finished making your pizza!\n"
          ]
        }
      ]
    }
  ]
}