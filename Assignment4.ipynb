{
  "nbformat": 4,
  "nbformat_minor": 0,
  "metadata": {
    "colab": {
      "provenance": [],
      "authorship_tag": "ABX9TyMAkeIP7u+FATdNiMRCU9Lh",
      "include_colab_link": true
    },
    "kernelspec": {
      "name": "python3",
      "display_name": "Python 3"
    },
    "language_info": {
      "name": "python"
    }
  },
  "cells": [
    {
      "cell_type": "markdown",
      "metadata": {
        "id": "view-in-github",
        "colab_type": "text"
      },
      "source": [
        "<a href=\"https://colab.research.google.com/github/RomitaChakraborty/CSC221_rchak001/blob/main/Assignment4.ipynb\" target=\"_parent\"><img src=\"https://colab.research.google.com/assets/colab-badge.svg\" alt=\"Open In Colab\"/></a>"
      ]
    },
    {
      "cell_type": "markdown",
      "source": [
        "Name- Romita Chakraborty\n",
        "\n",
        "Assignment 4"
      ],
      "metadata": {
        "id": "0JsPDgyYIj2t"
      }
    },
    {
      "cell_type": "code",
      "source": [
        "# A list is a collection of items in a particular order\n",
        "# In Python, square brackets ([]) indicate a list\n",
        "# individual elements in the list are separated by commas\n",
        "\n",
        "bicycles = ['trek', 'cannondale', 'redline', 'specialized']\n",
        "print(bicycles)"
      ],
      "metadata": {
        "colab": {
          "base_uri": "https://localhost:8080/"
        },
        "id": "zzi1qOSOIttX",
        "outputId": "72cbf47f-ab77-4773-abb4-83500307a04f"
      },
      "execution_count": null,
      "outputs": [
        {
          "output_type": "stream",
          "name": "stdout",
          "text": [
            "['trek', 'cannondale', 'redline', 'specialized']\n"
          ]
        }
      ]
    },
    {
      "cell_type": "code",
      "source": [
        "# you can access any element in a list by telling Python the position, or index, of the item desired\n",
        "\n",
        "bicycles = ['trek', 'cannondale', 'redline', 'specialized']\n",
        "print(bicycles[0])\n",
        "\n",
        "# using string methods on elements in a list\n",
        "\n",
        "bicycles = ['trek', 'cannondale', 'redline', 'specialized']\n",
        "print(bicycles[0].title())\n",
        "\n"
      ],
      "metadata": {
        "colab": {
          "base_uri": "https://localhost:8080/"
        },
        "id": "w4s6Z2-baF2w",
        "outputId": "14271d44-a32e-4917-ee32-c581bbc50669"
      },
      "execution_count": null,
      "outputs": [
        {
          "output_type": "stream",
          "name": "stdout",
          "text": [
            "trek\n",
            "Trek\n"
          ]
        }
      ]
    },
    {
      "cell_type": "code",
      "source": [
        "# Index positions start at 0, not 1\n",
        "# The second item in a list has an index of 1\n",
        "\n",
        "bicycles = ['trek', 'cannondale', 'redline', 'specialized']\n",
        "print(bicycles[1])\n",
        "print(bicycles[3]) # asks for bicycles at index 1 and index 3, resulting in bicyles 2 and 4 being returned\n",
        "\n"
      ],
      "metadata": {
        "colab": {
          "base_uri": "https://localhost:8080/"
        },
        "id": "87raJdLHa8Os",
        "outputId": "da25aa0b-b3c5-47e9-a9c4-2ccb028ee768"
      },
      "execution_count": null,
      "outputs": [
        {
          "output_type": "stream",
          "name": "stdout",
          "text": [
            "cannondale\n",
            "specialized\n"
          ]
        }
      ]
    },
    {
      "cell_type": "code",
      "source": [
        "# accessing the last element in a list\n",
        "# ask for the item at index -1\n",
        "\n",
        "bicycles = ['trek', 'cannondale', 'redline', 'specialized']\n",
        "print(bicycles[-1])\n",
        "\n",
        "# -2 returns the second item from the end of the list\n",
        "# the index -3 returns the third item from the end, and so forth."
      ],
      "metadata": {
        "colab": {
          "base_uri": "https://localhost:8080/"
        },
        "id": "nfDbHp2EbqxO",
        "outputId": "514ddbc9-1e28-469e-f3f3-b308882d7d2a"
      },
      "execution_count": null,
      "outputs": [
        {
          "output_type": "stream",
          "name": "stdout",
          "text": [
            "specialized\n"
          ]
        }
      ]
    },
    {
      "cell_type": "code",
      "source": [
        "# Using individual values from a list to create a message (using f-string)\n",
        "\n",
        "bicycles = ['trek', 'cannondale', 'redline', 'specialized']\n",
        "message = f\"My first bicycle was a {bicycles[0].title()}.\"\n",
        "print(message)"
      ],
      "metadata": {
        "colab": {
          "base_uri": "https://localhost:8080/"
        },
        "id": "LGrTPF53ccaX",
        "outputId": "b7e0417b-825d-48fd-bb78-6b0f61cc49eb"
      },
      "execution_count": null,
      "outputs": [
        {
          "output_type": "stream",
          "name": "stdout",
          "text": [
            "My first bicycle was a Trek.\n"
          ]
        }
      ]
    },
    {
      "cell_type": "code",
      "source": [
        "# TRY IT YOURSELF\n",
        "\n",
        "# 3-1. Names:\n",
        "\n",
        "names = ['Angel', 'Molly', 'Aiyana', 'Skyler']\n",
        "print(names[0])\n",
        "print(names[1])\n",
        "print(names[2])\n",
        "print(names[3])\n",
        "\n",
        "# 3-2. Greetings:\n",
        "\n",
        "print(f\"Happy Halloween, {names[0]}!\")\n",
        "print(f\"Happy Halloween, {names[1]}!\")\n",
        "print(f\"Happy Halloween, {names[2]}!\")\n",
        "print(f\"Happy Halloween, {names[3]}!\")\n",
        "\n",
        "# 3-3. My Own List\n",
        "\n",
        "airplanes = ['airbusA380','boeing747','glider','jet']\n",
        "\n",
        "print(f\"I flew from India to London in an {airplanes[0]}.\")\n",
        "print(f\"A {airplanes[1].title()} is one of the two most popular types of passenger aircrafts.\")\n",
        "print(f\"{airplanes[2].title()} aircrafts are used in the leisure activity and sport of gliding.\")\n",
        "print(f\"I wish I could fly a {airplanes[3]}.\")\n",
        "\n",
        "\n",
        "\n"
      ],
      "metadata": {
        "colab": {
          "base_uri": "https://localhost:8080/"
        },
        "id": "qqNa59Accxz_",
        "outputId": "ed62e513-d882-44b5-9136-473af4385bc5"
      },
      "execution_count": null,
      "outputs": [
        {
          "output_type": "stream",
          "name": "stdout",
          "text": [
            "Angel\n",
            "Molly\n",
            "Aiyana\n",
            "Skyler\n",
            "Happy Halloween, Angel!\n",
            "Happy Halloween, Molly!\n",
            "Happy Halloween, Aiyana!\n",
            "Happy Halloween, Skyler!\n",
            "I flew from India to London in an airbusA380.\n",
            "A Boeing747 is one of the two most popular types of passenger aircrafts.\n",
            "Glider aircrafts are used in the leisure activity and sport of gliding.\n",
            "I wish I could fly a jet.\n"
          ]
        }
      ]
    },
    {
      "cell_type": "code",
      "source": [
        "# Modifying Elements in a List\n",
        "# changing the 1st element\n",
        "\n",
        "motorcycles = ['honda', 'yamaha', 'suzuki']\n",
        "print(motorcycles)\n",
        "\n",
        "motorcycles[0] = 'ducati'\n",
        "print(motorcycles)\n"
      ],
      "metadata": {
        "colab": {
          "base_uri": "https://localhost:8080/"
        },
        "id": "oTlrdCiSh7bC",
        "outputId": "616686cf-71b7-42af-81f2-94a12d49b6e0"
      },
      "execution_count": null,
      "outputs": [
        {
          "output_type": "stream",
          "name": "stdout",
          "text": [
            "['honda', 'yamaha', 'suzuki']\n",
            "['ducati', 'yamaha', 'suzuki']\n"
          ]
        }
      ]
    },
    {
      "cell_type": "code",
      "source": [
        "# Appending Elements to the End of a List\n",
        "\n",
        "motorcycles = ['honda', 'yamaha', 'suzuki']\n",
        "print(motorcycles)\n",
        "\n",
        "motorcycles.append('ducati')\n",
        "print(motorcycles)\n"
      ],
      "metadata": {
        "colab": {
          "base_uri": "https://localhost:8080/"
        },
        "id": "-hIVKxF5i-vF",
        "outputId": "01fb6898-92f5-4457-8eb3-002204ff3178"
      },
      "execution_count": null,
      "outputs": [
        {
          "output_type": "stream",
          "name": "stdout",
          "text": [
            "['honda', 'yamaha', 'suzuki']\n",
            "['honda', 'yamaha', 'suzuki', 'ducati']\n"
          ]
        }
      ]
    },
    {
      "cell_type": "code",
      "source": [
        "# starting with an empty list and then adding items to the list using a series of append() calls\n",
        "\n",
        "motorcycles = []\n",
        "motorcycles.append('honda')\n",
        "motorcycles.append('yamaha')\n",
        "motorcycles.append('suzuki')\n",
        "print(motorcycles)\n",
        "\n"
      ],
      "metadata": {
        "colab": {
          "base_uri": "https://localhost:8080/"
        },
        "id": "7NOzmbS-jkD6",
        "outputId": "02dee8e0-e7dd-422b-e549-7280597fab19"
      },
      "execution_count": null,
      "outputs": [
        {
          "output_type": "stream",
          "name": "stdout",
          "text": [
            "['honda', 'yamaha', 'suzuki']\n"
          ]
        }
      ]
    },
    {
      "cell_type": "code",
      "source": [
        "# insert () method- add a new element at any position in the list\n",
        "\n",
        "motorcycles = ['honda', 'yamaha', 'suzuki']\n",
        "motorcycles.insert(0, 'ducati')\n",
        "print(motorcycles)"
      ],
      "metadata": {
        "colab": {
          "base_uri": "https://localhost:8080/"
        },
        "id": "gu88EAMlj0so",
        "outputId": "30f735c0-65dd-4c78-aac8-96e3ad50d0a7"
      },
      "execution_count": null,
      "outputs": [
        {
          "output_type": "stream",
          "name": "stdout",
          "text": [
            "['ducati', 'honda', 'yamaha', 'suzuki']\n"
          ]
        }
      ]
    },
    {
      "cell_type": "code",
      "source": [
        "# Removing Elements from a List\n",
        "\n",
        "# When you know the index- del statement and pop() method\n",
        "motorcycles = ['honda', 'yamaha', 'suzuki']\n",
        "print(motorcycles)\n",
        "del motorcycles[0]\n",
        "print(motorcycles)\n",
        "\n",
        "\n",
        "# can no longer access the value that was removed from the list after the del statement is used\n",
        "motorcycles = ['honda', 'yamaha', 'suzuki']\n",
        "del motorcycles[1]\n",
        "print(motorcycles)\n",
        "\n",
        "\n",
        "# pop() method removes the last item and lets you work with it after removing it\n",
        "motorcycles = ['honda', 'yamaha', 'suzuki']\n",
        "print(motorcycles)\n",
        "\n",
        "popped_motorcycle = motorcycles.pop()\n",
        "print(motorcycles)\n",
        "print(popped_motorcycle)\n",
        "\n",
        "# using pop() to remove an item from any position in the list\n",
        "motorcycles = ['honda', 'yamaha', 'suzuki']\n",
        "first_owned = motorcycles.pop(0)\n",
        "print(f\"The first motorcycle I owned was a {first_owned.title()}.\")\n",
        "\n",
        "# When you don't know the index and only the value- remove()\n",
        "motorcycles = ['honda', 'yamaha', 'suzuki', 'ducati']\n",
        "print(motorcycles)\n",
        "motorcycles.remove('ducati')\n",
        "print(motorcycles)\n",
        "\n",
        "# you can work with an item in a list after you use remove() to remove it from the list\n",
        "# remove a value and print a reason for removing it\n",
        "motorcycles = ['honda', 'yamaha', 'suzuki', 'ducati']\n",
        "print(motorcycles)\n",
        "too_expensive = 'ducati'\n",
        "motorcycles.remove(too_expensive)\n",
        "print(motorcycles)\n",
        "print(f\"\\nA {too_expensive.title()} is too expensive for me.\")\n",
        "\n",
        "# remove() only deletes the 1st occurence of the value from the list\n"
      ],
      "metadata": {
        "colab": {
          "base_uri": "https://localhost:8080/"
        },
        "id": "tlx65CnbkTdf",
        "outputId": "581de0c6-3023-4560-8f93-33daa12dda87"
      },
      "execution_count": null,
      "outputs": [
        {
          "output_type": "stream",
          "name": "stdout",
          "text": [
            "['honda', 'yamaha', 'suzuki']\n",
            "['yamaha', 'suzuki']\n",
            "['honda', 'suzuki']\n",
            "['honda', 'yamaha', 'suzuki']\n",
            "['honda', 'yamaha']\n",
            "suzuki\n",
            "The first motorcycle I owned was a Honda.\n",
            "['honda', 'yamaha', 'suzuki', 'ducati']\n",
            "['honda', 'yamaha', 'suzuki']\n",
            "['honda', 'yamaha', 'suzuki', 'ducati']\n",
            "['honda', 'yamaha', 'suzuki']\n",
            "\n",
            "A Ducati is too expensive for me.\n"
          ]
        }
      ]
    },
    {
      "cell_type": "code",
      "source": [
        "# TRY IT YOURSELF\n",
        "\n",
        "#3-4. Guess List:\n",
        "\n",
        "guess_list = ['Jane Austen','Michelle Obama','Jordan Peele']\n",
        "print(f\"Hello, {guess_list[0]}! You are invited to Thanksgiving dinner at my house.\")\n",
        "print(f\"Hello, {guess_list[1]}! You are invited to Thanksgiving dinner at my house.\")\n",
        "print(f\"Hello, {guess_list[2]}! You are invited to Thanksgiving dinner at my house.\")\n",
        "\n",
        "#3-5. Changing Guest List:\n",
        "\n",
        "print(\"\\nGuest not coming: Michelle Obama\")\n",
        "\n",
        "guess_list = ['Jane Austen','Michelle Obama','Jordan Peele']\n",
        "guess_list[1] = 'Phoebe Waller-Bridge'\n",
        "print(guess_list)\n",
        "\n",
        "print(f\"\\nHello, {guess_list[0]}! You are invited to Thanksgiving dinner at my house.\")\n",
        "print(f\"Hello, {guess_list[1]}! You are invited to Thanksgiving dinner at my house.\")\n",
        "print(f\"Hello, {guess_list[2]}! You are invited to Thanksgiving dinner at my house.\")\n",
        "\n",
        "#3-6. More Guests\n",
        "\n",
        "guess_list = ['Jane Austen','Phoebe Waller-Bridge','Jordan Peele']\n",
        "print(guess_list)\n",
        "\n",
        "print(\"\\nGood news! I was able to secure a bigger table for the dinner.\")\n",
        "\n",
        "guess_list = ['Jane Austen','Phoebe Waller-Bridge','Jordan Peele']\n",
        "guess_list.insert(0,'Oscar Wilde')\n",
        "guess_list.insert(2,'Bimal Chakraborty')\n",
        "guess_list.append('Soma Chakraborty')\n",
        "print(guess_list)\n",
        "\n",
        "print(f\"\\nHello, {guess_list[0]}! You are invited to Thanksgiving dinner at my house.\")\n",
        "print(f\"Hello, {guess_list[1]}! You are invited to Thanksgiving dinner at my house.\")\n",
        "print(f\"Hello, {guess_list[2]}! You are invited to Thanksgiving dinner at my house.\")\n",
        "print(f\"Hello, {guess_list[3]}! You are invited to Thanksgiving dinner at my house.\")\n",
        "print(f\"Hello, {guess_list[4]}! You are invited to Thanksgiving dinner at my house.\")\n",
        "print(f\"Hello, {guess_list[5]}! You are invited to Thanksgiving dinner at my house.\")\n",
        "\n",
        "#3-7. Shrinking Guess List:\n",
        "\n",
        "print(\"\\nI am sorry to inform you all that I can now only invite two people to dinner! The new bigger dining table will unfortunately not be arriving in time.\")\n",
        "\n",
        "guess_list = ['Oscar Wilde', 'Jane Austen', 'Bimal Chakraborty', 'Phoebe Waller-Bridge', 'Jordan Peele', 'Soma Chakraborty']\n",
        "\n",
        "not_invited_1 = guess_list.pop(0)\n",
        "print(guess_list)\n",
        "print(f\"\\nI am sorry, {not_invited_1}, I cannot invite you to dinner.\")\n",
        "\n",
        "not_invited_2 = guess_list.pop(0)\n",
        "print(guess_list)\n",
        "print(f\"\\nI am sorry, {not_invited_2}, I cannot invite you to dinner.\")\n",
        "\n",
        "not_invited_3 = guess_list.pop(2)\n",
        "print(guess_list)\n",
        "print(f\"\\nI am sorry, {not_invited_3}, I cannot invite you to dinner.\")\n",
        "\n",
        "not_invited_4 = guess_list.pop(1)\n",
        "print(guess_list)\n",
        "print(f\"\\nI am sorry, {not_invited_4}, I cannot invite you to dinner.\")\n",
        "\n",
        "\n",
        "print(guess_list)\n",
        "print(f\"\\nHello, {guess_list[0]}! You are invited to Thanksgiving dinner at my house.\")\n",
        "print(f\"Hello, {guess_list[1]}! You are invited to Thanksgiving dinner at my house.\")\n",
        "\n",
        "guess_list = ['Bimal Chakraborty', 'Soma Chakraborty']\n",
        "del guess_list[0]\n",
        "print(guess_list)\n",
        "\n",
        "\n",
        "del guess_list[0]\n",
        "print(guess_list)\n",
        "\n",
        "\n"
      ],
      "metadata": {
        "colab": {
          "base_uri": "https://localhost:8080/"
        },
        "id": "7yhj3l3_tsHj",
        "outputId": "8c717214-077f-4a82-e8a1-f2bb16b4ca98"
      },
      "execution_count": null,
      "outputs": [
        {
          "output_type": "stream",
          "name": "stdout",
          "text": [
            "Hello, Jane Austen! You are invited to Thanksgiving dinner at my house.\n",
            "Hello, Michelle Obama! You are invited to Thanksgiving dinner at my house.\n",
            "Hello, Jordan Peele! You are invited to Thanksgiving dinner at my house.\n",
            "\n",
            "Guest not coming: Michelle Obama\n",
            "['Jane Austen', 'Phoebe Waller-Bridge', 'Jordan Peele']\n",
            "\n",
            "Hello, Jane Austen! You are invited to Thanksgiving dinner at my house.\n",
            "Hello, Phoebe Waller-Bridge! You are invited to Thanksgiving dinner at my house.\n",
            "Hello, Jordan Peele! You are invited to Thanksgiving dinner at my house.\n",
            "['Jane Austen', 'Phoebe Waller-Bridge', 'Jordan Peele']\n",
            "\n",
            "Good news! I was able to secure a bigger table for the dinner.\n",
            "['Oscar Wilde', 'Jane Austen', 'Bimal Chakraborty', 'Phoebe Waller-Bridge', 'Jordan Peele', 'Soma Chakraborty']\n",
            "\n",
            "Hello, Oscar Wilde! You are invited to Thanksgiving dinner at my house.\n",
            "Hello, Jane Austen! You are invited to Thanksgiving dinner at my house.\n",
            "Hello, Bimal Chakraborty! You are invited to Thanksgiving dinner at my house.\n",
            "Hello, Phoebe Waller-Bridge! You are invited to Thanksgiving dinner at my house.\n",
            "Hello, Jordan Peele! You are invited to Thanksgiving dinner at my house.\n",
            "Hello, Soma Chakraborty! You are invited to Thanksgiving dinner at my house.\n",
            "\n",
            "I am sorry to inform you all that I can now only invite two people to dinner! The new bigger dining table will unfortunately not be arriving in time.\n",
            "['Jane Austen', 'Bimal Chakraborty', 'Phoebe Waller-Bridge', 'Jordan Peele', 'Soma Chakraborty']\n",
            "\n",
            "I am sorry, Oscar Wilde, I cannot invite you to dinner.\n",
            "['Bimal Chakraborty', 'Phoebe Waller-Bridge', 'Jordan Peele', 'Soma Chakraborty']\n",
            "\n",
            "I am sorry, Jane Austen, I cannot invite you to dinner.\n",
            "['Bimal Chakraborty', 'Phoebe Waller-Bridge', 'Soma Chakraborty']\n",
            "\n",
            "I am sorry, Jordan Peele, I cannot invite you to dinner.\n",
            "['Bimal Chakraborty', 'Soma Chakraborty']\n",
            "\n",
            "I am sorry, Phoebe Waller-Bridge, I cannot invite you to dinner.\n",
            "['Bimal Chakraborty', 'Soma Chakraborty']\n",
            "\n",
            "Hello, Bimal Chakraborty! You are invited to Thanksgiving dinner at my house.\n",
            "Hello, Soma Chakraborty! You are invited to Thanksgiving dinner at my house.\n",
            "['Soma Chakraborty']\n",
            "[]\n"
          ]
        }
      ]
    },
    {
      "cell_type": "markdown",
      "source": [
        "Sorting a List Permanently with the sort()\n",
        "Method"
      ],
      "metadata": {
        "id": "XxihRvRdbUsa"
      }
    },
    {
      "cell_type": "code",
      "source": [
        "cars = ['bmw', 'audi', 'toyota', 'subaru']\n",
        "print(cars)\n",
        "cars.sort()\n",
        "print(cars)\n",
        "#cars will now be in alphabetical order\n",
        "\n",
        "cars = ['bmw', 'audi', 'toyota', 'subaru']\n",
        "cars.sort(reverse=True)\n",
        "print(cars)\n",
        "#list in reverse-alphabetical order\n",
        "#passing argment reverse=True to the sort() method\n",
        "#the order of the list is permanently changed\n"
      ],
      "metadata": {
        "colab": {
          "base_uri": "https://localhost:8080/"
        },
        "id": "JRtHrWrJbeJ_",
        "outputId": "f8baf595-eab3-4fe8-caad-2381919738ab"
      },
      "execution_count": null,
      "outputs": [
        {
          "output_type": "stream",
          "name": "stdout",
          "text": [
            "['bmw', 'audi', 'toyota', 'subaru']\n",
            "['audi', 'bmw', 'subaru', 'toyota']\n",
            "['toyota', 'subaru', 'bmw', 'audi']\n"
          ]
        }
      ]
    },
    {
      "cell_type": "code",
      "source": [
        "# Sorting a List Temporarily with the sorted() Function\n",
        "\n",
        "cars = ['bmw', 'audi', 'toyota', 'subaru']\n",
        "\n",
        "print(\"Here is the original list:\")\n",
        "print(cars)\n",
        "\n",
        "print(\"\\nHere is the sorted list:\")\n",
        "print(sorted(cars))\n",
        "\n",
        "print(\"\\nHere is the original list again:\")\n",
        "print(cars)\n",
        "\n",
        "#The sorted() function can also accept a reverse=True argument"
      ],
      "metadata": {
        "colab": {
          "base_uri": "https://localhost:8080/"
        },
        "id": "SB8eqDd_cOvI",
        "outputId": "6b4a689e-af14-4481-9648-b422a53828df"
      },
      "execution_count": null,
      "outputs": [
        {
          "output_type": "stream",
          "name": "stdout",
          "text": [
            "Here is the original list:\n",
            "['bmw', 'audi', 'toyota', 'subaru']\n",
            "\n",
            "Here is the sorted list:\n",
            "['audi', 'bmw', 'subaru', 'toyota']\n",
            "\n",
            "Here is the original list again:\n",
            "['bmw', 'audi', 'toyota', 'subaru']\n"
          ]
        }
      ]
    },
    {
      "cell_type": "code",
      "source": [
        "# Printing a List in Reverse Order using the reverse() method\n",
        "\n",
        "cars = ['bmw', 'audi', 'toyota', 'subaru']\n",
        "print(cars)\n",
        "cars.reverse()\n",
        "print(cars)\n",
        "\n",
        "# does not sort backward alphabetically, simply reverses the order\n",
        "\n"
      ],
      "metadata": {
        "colab": {
          "base_uri": "https://localhost:8080/"
        },
        "id": "_Hw6puC2guKy",
        "outputId": "120daa30-271a-4175-8216-b3ea8e5cdb66"
      },
      "execution_count": null,
      "outputs": [
        {
          "output_type": "stream",
          "name": "stdout",
          "text": [
            "['bmw', 'audi', 'toyota', 'subaru']\n",
            "['subaru', 'toyota', 'audi', 'bmw']\n"
          ]
        }
      ]
    },
    {
      "cell_type": "code",
      "source": [
        "# Finding the Length of a List using len() function\n",
        "\n",
        "cars = ['bmw', 'audi', 'toyota', 'subaru']\n",
        "len(cars)\n",
        "\n"
      ],
      "metadata": {
        "colab": {
          "base_uri": "https://localhost:8080/"
        },
        "id": "Wbjzi6PwhHAI",
        "outputId": "3b56f658-e0f6-49b6-bf7d-1583e89adc08"
      },
      "execution_count": null,
      "outputs": [
        {
          "output_type": "execute_result",
          "data": {
            "text/plain": [
              "4"
            ]
          },
          "metadata": {},
          "execution_count": 57
        }
      ]
    },
    {
      "cell_type": "code",
      "source": [
        "# TRY IT YOURSELF\n",
        "\n",
        "#3-8. Seeing the World:\n",
        "\n",
        "dream_places = ['Rome','Greece','Antarctica','France','Nigeria']\n",
        "print(dream_places)\n",
        "\n",
        "print(sorted(dream_places)) #alphabetical order\n",
        "\n",
        "print(dream_places) #original order\n",
        "\n",
        "print(sorted(dream_places, reverse=True)) #temporary reverse alphabetical order\n",
        "\n",
        "print(dream_places) #original order\n",
        "\n",
        "dream_places.reverse()\n",
        "print(dream_places) #order of list reversed\n",
        "\n",
        "dream_places.reverse()\n",
        "print(dream_places) #original order\n",
        "\n",
        "dream_places.sort()\n",
        "print(dream_places) #list stored in alphabetical order\n",
        "\n",
        "dream_places.sort(reverse=True) #list stored in reverse-alphabetical order\n",
        "print(dream_places)\n",
        "\n",
        "#3-9. Dinner Guests:\n",
        "guess_list = ['Jane Austen','Michelle Obama','Jordan Peele']\n",
        "len(guess_list)\n",
        "\n",
        "\n",
        "\n",
        "#3-11. Intentional Index error:\n",
        "\n",
        "print(guess_list[5])\n",
        "\n",
        "\n",
        "\n"
      ],
      "metadata": {
        "colab": {
          "base_uri": "https://localhost:8080/",
          "height": 401
        },
        "id": "mgNWFS_3iBmm",
        "outputId": "22a76d1c-a4b5-4d60-db19-5f15c3ba19f9"
      },
      "execution_count": null,
      "outputs": [
        {
          "output_type": "stream",
          "name": "stdout",
          "text": [
            "['Rome', 'Greece', 'Antarctica', 'France', 'Nigeria']\n",
            "['Antarctica', 'France', 'Greece', 'Nigeria', 'Rome']\n",
            "['Rome', 'Greece', 'Antarctica', 'France', 'Nigeria']\n",
            "['Rome', 'Nigeria', 'Greece', 'France', 'Antarctica']\n",
            "['Rome', 'Greece', 'Antarctica', 'France', 'Nigeria']\n",
            "['Nigeria', 'France', 'Antarctica', 'Greece', 'Rome']\n",
            "['Rome', 'Greece', 'Antarctica', 'France', 'Nigeria']\n",
            "['Antarctica', 'France', 'Greece', 'Nigeria', 'Rome']\n",
            "['Rome', 'Nigeria', 'Greece', 'France', 'Antarctica']\n"
          ]
        },
        {
          "output_type": "error",
          "ename": "IndexError",
          "evalue": "ignored",
          "traceback": [
            "\u001b[0;31m---------------------------------------------------------------------------\u001b[0m",
            "\u001b[0;31mIndexError\u001b[0m                                Traceback (most recent call last)",
            "\u001b[0;32m<ipython-input-62-db411c3e3751>\u001b[0m in \u001b[0;36m<cell line: 34>\u001b[0;34m()\u001b[0m\n\u001b[1;32m     32\u001b[0m \u001b[0;31m#3-11. Intentional Index error:\u001b[0m\u001b[0;34m\u001b[0m\u001b[0;34m\u001b[0m\u001b[0m\n\u001b[1;32m     33\u001b[0m \u001b[0;34m\u001b[0m\u001b[0m\n\u001b[0;32m---> 34\u001b[0;31m \u001b[0mprint\u001b[0m\u001b[0;34m(\u001b[0m\u001b[0mguess_list\u001b[0m\u001b[0;34m[\u001b[0m\u001b[0;36m5\u001b[0m\u001b[0;34m]\u001b[0m\u001b[0;34m)\u001b[0m\u001b[0;34m\u001b[0m\u001b[0;34m\u001b[0m\u001b[0m\n\u001b[0m\u001b[1;32m     35\u001b[0m \u001b[0;34m\u001b[0m\u001b[0m\n\u001b[1;32m     36\u001b[0m \u001b[0;34m\u001b[0m\u001b[0m\n",
            "\u001b[0;31mIndexError\u001b[0m: list index out of range"
          ]
        }
      ]
    },
    {
      "cell_type": "code",
      "source": [
        "#3-10. Every Function\n",
        "\n",
        "my_list = ['apple','sky','nyc','skittles']\n",
        "print(my_list)\n",
        "my_list.append('yamaha') #adds element to the end of list\n",
        "print(my_list)\n",
        "\n",
        "my_list.insert(0,'autumn') #can use to add element at any position in the list\n",
        "print(my_list)\n",
        "\n",
        "my_list = ['autumn', 'apple', 'sky', 'nyc', 'skittles', 'yamaha']\n",
        "del my_list[3] #remove an item from its position when knowing its index\n",
        "print(my_list)\n",
        "\n",
        "my_list.remove('yamaha')\n",
        "print(my_list) #remove an item when not knowing its index but only its value\n",
        "\n",
        "my_list.sort()\n",
        "print(my_list) #sort list permanently in alphabetical order\n",
        "\n",
        "my_list.reverse()\n",
        "print(my_list) #reverses original order of the list\n",
        "\n",
        "len(my_list)\n"
      ],
      "metadata": {
        "colab": {
          "base_uri": "https://localhost:8080/"
        },
        "id": "-j61m0OJE-wG",
        "outputId": "2ddcb8b2-2f0b-4483-ba6b-8f62f6f14128"
      },
      "execution_count": null,
      "outputs": [
        {
          "output_type": "stream",
          "name": "stdout",
          "text": [
            "['apple', 'sky', 'nyc', 'skittles']\n",
            "['apple', 'sky', 'nyc', 'skittles', 'yamaha']\n",
            "['autumn', 'apple', 'sky', 'nyc', 'skittles', 'yamaha']\n",
            "['autumn', 'apple', 'sky', 'skittles', 'yamaha']\n",
            "['autumn', 'apple', 'sky', 'skittles']\n",
            "['apple', 'autumn', 'skittles', 'sky']\n",
            "['sky', 'skittles', 'autumn', 'apple']\n"
          ]
        },
        {
          "output_type": "execute_result",
          "data": {
            "text/plain": [
              "4"
            ]
          },
          "metadata": {},
          "execution_count": 68
        }
      ]
    },
    {
      "cell_type": "code",
      "source": [
        "# LIST COMPREHENSION\n",
        "\n",
        "#Questions- Print the cubes of all of the integers that are a multiple of 7 between 60 and 85\n",
        "#compute y=7.4x+51 for the set of values 40, 50, 120, -8, and 6.\n",
        "\n",
        "results = [print(x**3) for x in range(60,86) if x%7==0]\n",
        "\n",
        "\n"
      ],
      "metadata": {
        "id": "0sqSNsL3JCpZ",
        "colab": {
          "base_uri": "https://localhost:8080/"
        },
        "outputId": "c8b8f36b-215c-45a9-cf49-a312e85e8c70"
      },
      "execution_count": 70,
      "outputs": [
        {
          "output_type": "stream",
          "name": "stdout",
          "text": [
            "250047\n",
            "343000\n",
            "456533\n",
            "592704\n"
          ]
        }
      ]
    }
  ]
}