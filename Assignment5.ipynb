{
  "nbformat": 4,
  "nbformat_minor": 0,
  "metadata": {
    "colab": {
      "provenance": [],
      "include_colab_link": true
    },
    "kernelspec": {
      "name": "python3",
      "display_name": "Python 3"
    },
    "language_info": {
      "name": "python"
    }
  },
  "cells": [
    {
      "cell_type": "markdown",
      "metadata": {
        "id": "view-in-github",
        "colab_type": "text"
      },
      "source": [
        "<a href=\"https://colab.research.google.com/github/RomitaChakraborty/CSC221_rchak001/blob/main/Assignment5.ipynb\" target=\"_parent\"><img src=\"https://colab.research.google.com/assets/colab-badge.svg\" alt=\"Open In Colab\"/></a>"
      ]
    },
    {
      "cell_type": "markdown",
      "source": [
        "Romita Chakraborty\n",
        "\n",
        "Assignment 5"
      ],
      "metadata": {
        "id": "Sg8L9g4GK5Fd"
      }
    },
    {
      "cell_type": "code",
      "execution_count": null,
      "metadata": {
        "colab": {
          "base_uri": "https://localhost:8080/"
        },
        "id": "5eQYzNCuo3Mb",
        "outputId": "5444e9a4-c368-4d77-83ba-21ca81f9f9b2"
      },
      "outputs": [
        {
          "output_type": "stream",
          "name": "stdout",
          "text": [
            "alice\n",
            "david\n",
            "carolina\n"
          ]
        }
      ],
      "source": [
        "magicians = ['alice', 'david', 'carolina']\n",
        "for magician in magicians:# loop through items(magician) in list and print each\n",
        " print(magician)"
      ]
    },
    {
      "cell_type": "code",
      "source": [
        "magicians = ['alice', 'david', 'carolina']\n",
        "for magician in magicians:\n",
        " print(f\"{magician.title()}, that was a great trick!\")#same thing but with string formatting\n",
        " print(f\"I can't wait to see your next trick, {magician.title()}.\\n\")\n",
        "print(\"Thank you, everyone. That was a great magic show!\")"
      ],
      "metadata": {
        "colab": {
          "base_uri": "https://localhost:8080/"
        },
        "id": "6bKu91qYpi8-",
        "outputId": "f457dd65-0bee-429c-d74b-82047058d542"
      },
      "execution_count": null,
      "outputs": [
        {
          "output_type": "stream",
          "name": "stdout",
          "text": [
            "Alice, that was a great trick!\n",
            "I can't wait to see your next trick, Alice.\n",
            "\n",
            "David, that was a great trick!\n",
            "I can't wait to see your next trick, David.\n",
            "\n",
            "Carolina, that was a great trick!\n",
            "I can't wait to see your next trick, Carolina.\n",
            "\n",
            "Thank you, everyone. That was a great magic show!\n"
          ]
        }
      ]
    },
    {
      "cell_type": "code",
      "source": [
        "magicians = ['alice', 'david', 'carolina']\n",
        "for magician in magicians:\n",
        "print(magician)# missing indent\n"
      ],
      "metadata": {
        "colab": {
          "base_uri": "https://localhost:8080/",
          "height": 140
        },
        "id": "hGFRxX6Opi_z",
        "outputId": "45a5cc50-3dce-4346-c986-645b2c5f3c6f"
      },
      "execution_count": null,
      "outputs": [
        {
          "output_type": "error",
          "ename": "IndentationError",
          "evalue": "ignored",
          "traceback": [
            "\u001b[0;36m  File \u001b[0;32m\"<ipython-input-24-dea602866b15>\"\u001b[0;36m, line \u001b[0;32m3\u001b[0m\n\u001b[0;31m    print(magician)# missing indent\u001b[0m\n\u001b[0m    ^\u001b[0m\n\u001b[0;31mIndentationError\u001b[0m\u001b[0;31m:\u001b[0m expected an indented block after 'for' statement on line 2\n"
          ]
        }
      ]
    },
    {
      "cell_type": "code",
      "source": [
        "magicians = ['alice', 'david', 'carolina']\n",
        "for magician in magicians:\n",
        " print(f\"{magician.title()}, that was a great trick!\")\n",
        " print(f\"I can't wait to see your next trick, {magician.title()}.\\n\")"
      ],
      "metadata": {
        "colab": {
          "base_uri": "https://localhost:8080/"
        },
        "id": "HaU-fPgWpjDS",
        "outputId": "d375a307-4ee5-4baf-f940-be9da34ec181"
      },
      "execution_count": null,
      "outputs": [
        {
          "output_type": "stream",
          "name": "stdout",
          "text": [
            "Alice, that was a great trick!\n",
            "I can't wait to see your next trick, Alice.\n",
            "\n",
            "David, that was a great trick!\n",
            "I can't wait to see your next trick, David.\n",
            "\n",
            "Carolina, that was a great trick!\n",
            "I can't wait to see your next trick, Carolina.\n",
            "\n"
          ]
        }
      ]
    },
    {
      "cell_type": "code",
      "source": [
        "message = \"Hello Python world!\"\n",
        "print(message)#indenting too much"
      ],
      "metadata": {
        "colab": {
          "base_uri": "https://localhost:8080/"
        },
        "id": "iNtVXyllpjI9",
        "outputId": "8a02fb0b-2abe-484d-b331-4db91fc5b4e4"
      },
      "execution_count": null,
      "outputs": [
        {
          "output_type": "stream",
          "name": "stdout",
          "text": [
            "Hello Python world!\n"
          ]
        }
      ]
    },
    {
      "cell_type": "code",
      "source": [
        "magicians = ['alice', 'david', 'carolina']\n",
        "for magician in magicians:\n",
        " print(f\"{magician.title()}, that was a great trick!\")\n",
        " print(f\"I can't wait to see your next trick, {magician.title()}.\\n\")\n",
        " print(\"Thank you everyone, that was a great magic show!\")#incorrect indent\n"
      ],
      "metadata": {
        "colab": {
          "base_uri": "https://localhost:8080/"
        },
        "id": "DY6dQHYdsDVv",
        "outputId": "254cd4e9-f4fa-481d-c3c5-244d7e2b191f"
      },
      "execution_count": null,
      "outputs": [
        {
          "output_type": "stream",
          "name": "stdout",
          "text": [
            "Alice, that was a great trick!\n",
            "I can't wait to see your next trick, Alice.\n",
            "\n",
            "Thank you everyone, that was a great magic show!\n",
            "David, that was a great trick!\n",
            "I can't wait to see your next trick, David.\n",
            "\n",
            "Thank you everyone, that was a great magic show!\n",
            "Carolina, that was a great trick!\n",
            "I can't wait to see your next trick, Carolina.\n",
            "\n",
            "Thank you everyone, that was a great magic show!\n"
          ]
        }
      ]
    },
    {
      "cell_type": "code",
      "source": [
        "magicians = ['alice', 'david', 'carolina']\n",
        "for magician in magicians#missing colon. Colon tells python the next line is a loop\n",
        " print(magician)"
      ],
      "metadata": {
        "colab": {
          "base_uri": "https://localhost:8080/",
          "height": 140
        },
        "id": "B959NEojpjL_",
        "outputId": "70187cd6-d7c0-47b7-add6-56b9d975b990"
      },
      "execution_count": null,
      "outputs": [
        {
          "output_type": "error",
          "ename": "SyntaxError",
          "evalue": "ignored",
          "traceback": [
            "\u001b[0;36m  File \u001b[0;32m\"<ipython-input-17-d0873fa7fe0e>\"\u001b[0;36m, line \u001b[0;32m2\u001b[0m\n\u001b[0;31m    for magician in magicians#missing colon. Colon tells python the next line is a loop\u001b[0m\n\u001b[0m                             ^\u001b[0m\n\u001b[0;31mSyntaxError\u001b[0m\u001b[0;31m:\u001b[0m expected ':'\n"
          ]
        }
      ]
    },
    {
      "cell_type": "code",
      "source": [],
      "metadata": {
        "id": "PgL845jnyORt"
      },
      "execution_count": null,
      "outputs": []
    },
    {
      "cell_type": "markdown",
      "source": [
        "4-1. Pizzas: Think of at least three kinds of your favorite pizza. Store these\n",
        "pizza names in a list, and then use a for loop to print the name of each\n",
        "pizza.\n",
        "Modify your for loop to print a sentence using the name of the pizza, instead\n",
        "of printing just the name of the pizza. For each pizza, you should have one\n",
        "line of output containing a simple statement like I like pepperoni pizza.\n",
        "Add a line at the end of your program, outside the for loop, that states how\n",
        "much you like pizza. The output should consist of three or more lines about\n",
        "the kinds of pizza you like and then an additional sentence, such as I really\n",
        "love pizza!\n",
        "\n",
        "# 4-2 is the same as 4-1\n",
        "4-2. Animals: Think of at least three different animals that have a common\n",
        "characteristic. Store the names of these animals in a list, and then use a for\n",
        "loop to print out the name of each animal.\n",
        "Modify your program to print a statement about each animal, such as A dog\n",
        "would make a great pet.\n",
        "Add a line at the end of your program, stating what these animals have in\n",
        "common. You could print a sentence, such as Any of these animals would\n",
        "make a great pet!\n",
        "\n",
        "4-11. My Pizzas, Your Pizzas: Start with your program from Exercise 4-1\n",
        "(page 56). Make a copy of the list of pizzas, and call it friend_pizzas. Then, do\n",
        "the following:\n",
        "Add a new pizza to the original list.\n",
        "Add a different pizza to the list friend_pizzas.\n",
        "Prove that you have two separate lists. Print the message My favorite pizzas\n",
        "are:, and then use a for loop to print the first list. Print the message My\n",
        "friend’s favorite pizzas are:, and then use a for loop to print the second list.\n",
        "Make sure each new pizza is stored in the appropriate list.\n",
        "# same as 4-11\n",
        "4-12. More Loops: All versions of foods.py in this section have avoided\n",
        "using for loops when printing, to save space. Choose a version of foods.py,\n",
        "and write two for loops to print each list of foods."
      ],
      "metadata": {
        "id": "fDXPNdiKsj85"
      }
    },
    {
      "cell_type": "code",
      "source": [
        "#4-1, 4-2\n",
        "pizzas = [\"plain\",\"extra cheese\", \"buffalo chicken\"]\n",
        "\n",
        "for pizza in pizzas:\n",
        "  print(pizza)\n",
        "\n",
        "for pizza in pizzas:\n",
        "  print(f\"I love {pizza} pizza\")\n",
        "\n",
        "print(f\"I really like pizza\\n I like {pizza[0]} pizza \\n I like {pizza[1]} pizza \\n I like {pizza[2]} pizza \\n I really love pizza!\")\n",
        "\n",
        "#4-11, 4-12\n",
        "friend_pizzas = pizzas[:]\n",
        "pizzas.append(\"chicken\")\n",
        "friend_pizzas.append(\"avacodo\")\n",
        "print(\"my favorite pizzas are\")\n",
        "for pizza in pizzas:\n",
        "  print(pizza)\n",
        "\n",
        "print(\"my firend's favorite pizzas are\")\n",
        "for pizza in friend_pizzas:\n",
        "  print(pizza)\n"
      ],
      "metadata": {
        "colab": {
          "base_uri": "https://localhost:8080/"
        },
        "id": "xSsrLLpQr19a",
        "outputId": "6e2ec4b9-fc92-4f8e-e248-dba9eb2bc84e"
      },
      "execution_count": null,
      "outputs": [
        {
          "output_type": "stream",
          "name": "stdout",
          "text": [
            "plain\n",
            "extra cheese\n",
            "buffalo chicken\n",
            "I love plain pizza\n",
            "I love extra cheese pizza\n",
            "I love buffalo chicken pizza\n",
            "I really like pizza\n",
            " I like b pizza \n",
            " I like u pizza \n",
            " I like f pizza \n",
            " I really love pizza!\n",
            "my favorite pizzas are\n",
            "plain\n",
            "extra cheese\n",
            "buffalo chicken\n",
            "chicken\n",
            "my firend's favorite pizzas are\n",
            "plain\n",
            "extra cheese\n",
            "buffalo chicken\n",
            "avacodo\n"
          ]
        }
      ]
    },
    {
      "cell_type": "code",
      "source": [
        "for value in range(1, 5):#print values from x to y(exclusive)\n",
        " print(value)\n",
        "\n",
        "for value in range(1, 6):#print values from x to y(exclusive)\n",
        " print(value)\n"
      ],
      "metadata": {
        "colab": {
          "base_uri": "https://localhost:8080/"
        },
        "id": "mN6hzchapjOj",
        "outputId": "cadfc1f7-9343-4bc2-e020-41e76fdaa4c5"
      },
      "execution_count": null,
      "outputs": [
        {
          "output_type": "stream",
          "name": "stdout",
          "text": [
            "1\n",
            "2\n",
            "3\n",
            "4\n",
            "1\n",
            "2\n",
            "3\n",
            "4\n",
            "5\n"
          ]
        }
      ]
    },
    {
      "cell_type": "code",
      "source": [
        "numbers = list(range(1, 6))#making a list with range. will have 1,2,3,4,5\n",
        "print(numbers)\n"
      ],
      "metadata": {
        "colab": {
          "base_uri": "https://localhost:8080/"
        },
        "id": "TVOEviL2pjRt",
        "outputId": "46f6e8d1-615f-45c0-9287-db60e0dc933b"
      },
      "execution_count": null,
      "outputs": [
        {
          "output_type": "stream",
          "name": "stdout",
          "text": [
            "[1, 2, 3, 4, 5]\n"
          ]
        }
      ]
    },
    {
      "cell_type": "code",
      "source": [
        "even_numbers = list(range(2, 11, 2))#make a list of even numbers (start,stop step). step is 2 so 2,4,6,8,10\n",
        "print(even_numbers)"
      ],
      "metadata": {
        "colab": {
          "base_uri": "https://localhost:8080/"
        },
        "id": "6uB27US9pjUL",
        "outputId": "d6334038-8e7a-4d50-a762-aa49326a15fa"
      },
      "execution_count": null,
      "outputs": [
        {
          "output_type": "stream",
          "name": "stdout",
          "text": [
            "[2, 4, 6, 8, 10]\n"
          ]
        }
      ]
    },
    {
      "cell_type": "code",
      "source": [
        "squares = []\n",
        "for value in range(1, 11):#loop from 1 to 11. 1,2,3,4,5,6,7,8,9,10 and square each value and append it to a list\n",
        " square = value ** 2\n",
        " squares.append(square)\n",
        "print(squares)"
      ],
      "metadata": {
        "colab": {
          "base_uri": "https://localhost:8080/"
        },
        "id": "_2dg5fPBtPAB",
        "outputId": "3171eb0a-80c2-4042-88cd-824ae0b8c6bc"
      },
      "execution_count": null,
      "outputs": [
        {
          "output_type": "stream",
          "name": "stdout",
          "text": [
            "[1, 4, 9, 16, 25, 36, 49, 64, 81, 100]\n"
          ]
        }
      ]
    },
    {
      "cell_type": "code",
      "source": [
        "digits = [1, 2, 3, 4, 5, 6, 7, 8, 9, 0]\n",
        "print(min(digits))#lowest value in list\n",
        "print(max(digits))#max digits\n",
        "print(sum(digits))#sum digits\n",
        "\n"
      ],
      "metadata": {
        "colab": {
          "base_uri": "https://localhost:8080/"
        },
        "id": "PcaxRHTBtPC6",
        "outputId": "bd1db1bc-3da5-4699-cf3e-44e0ddf80cd4"
      },
      "execution_count": null,
      "outputs": [
        {
          "output_type": "stream",
          "name": "stdout",
          "text": [
            "0\n",
            "9\n",
            "45\n"
          ]
        }
      ]
    },
    {
      "cell_type": "code",
      "source": [
        "squares = [value**2 for value in range(1, 11)]#[<expression> for <item> in <iterable>]\n",
        "print(squares)"
      ],
      "metadata": {
        "colab": {
          "base_uri": "https://localhost:8080/"
        },
        "id": "SwY55YKztPGW",
        "outputId": "2de2446c-1bdf-4ad1-b461-efdb9f922b36"
      },
      "execution_count": null,
      "outputs": [
        {
          "output_type": "stream",
          "name": "stdout",
          "text": [
            "[1, 4, 9, 16, 25, 36, 49, 64, 81, 100]\n"
          ]
        }
      ]
    },
    {
      "cell_type": "markdown",
      "source": [
        "4-3. Counting to Twenty: Use a for loop to print the numbers from 1 to\n",
        "20, inclusive.\n",
        "\n",
        "4-4. One Million: Make a list of the numbers from one to one million, and\n",
        "then use a for loop to print the numbers. (If the output is taking too long,\n",
        "stop it by pressing CTRL-C or by closing the output window.)\n",
        "\n",
        "4-5. Summing a Million: Make a list of the numbers from one to one\n",
        "\n",
        "million, and then use min() and max() to make sure your list actually starts at\n",
        "one and ends at one million. Also, use the sum() function to see how quickly\n",
        "Python can add a million numbers.\n",
        "\n",
        "4-6. Odd Numbers: Use the third argument of the range() function to make\n",
        "a list of the odd numbers from 1 to 20. Use a for loop to print each number.\n",
        "\n",
        "4-7. Threes: Make a list of the multiples of 3, from 3 to 30. Use a for loop to\n",
        "print the numbers in your list.\n",
        "\n",
        "4-8. Cubes: A number raised to the third power is called a cube. For\n",
        "example, the cube of 2 is written as 2**3 in Python. Make a list of the first 10\n",
        "cubes (that is, the cube of each integer from 1 through 10), and use a for\n",
        "loop to print out the value of each cube.\n",
        "\n",
        "4-9. Cube Comprehension: Use a list comprehension to generate a list of\n",
        "the first 10 cubes.\n",
        "\n",
        "4-10. Slices: Using one of the programs you wrote in this chapter, add\n",
        "several lines to the end of the program that do the following:\n",
        "Print the message The first three items in the list are:. Then use a slice to\n",
        "print the first three items from that program’s list.\n",
        "Print the message Three items from the middle of the list are:. Then use a\n",
        "slice to print three items from the middle of the list.\n",
        "Print the message The last three items in the list are:. Then use a slice to\n",
        "print the last three items in the list."
      ],
      "metadata": {
        "id": "yGE_52e2vGOV"
      }
    },
    {
      "cell_type": "code",
      "source": [
        "#4-3\n",
        "for i in range(1,21):\n",
        "  print(i)\n",
        "\n",
        "#4-4\n",
        "#mills = [print(x) for x in range(1,1000001)]\n",
        "\n",
        "#4-6\n",
        "my_list = []\n",
        "for i in range(1,20,2):\n",
        "  my_list.append(i)\n",
        "for i in my_list:\n",
        "  print(i)\n",
        "\n",
        "#4-6\n",
        "threes = [print(x) for x in range(3,30) if x%3==0]\n",
        "\n",
        "#4-8\n",
        "my_list = []\n",
        "for i in range(1,11):\n",
        "  my_list.append(i**3)\n",
        "for i in my_list:\n",
        "  print(i)\n",
        "#4-9\n",
        "my_list = [x**3 for x in range(1,11)]\n",
        "for i in my_list:\n",
        "  print(i)\n",
        "#4-10\n",
        "print(f\"The first three items are {my_list[:3]}\")\n",
        "print(f\"The last three items are {my_list[:-3]}\")\n",
        "print(f\"The first middle items are {my_list[2:4]}\")"
      ],
      "metadata": {
        "colab": {
          "base_uri": "https://localhost:8080/"
        },
        "id": "wzXm2IbPtGr3",
        "outputId": "7f92fc3d-675c-422c-ca9f-73060978eff5"
      },
      "execution_count": null,
      "outputs": [
        {
          "output_type": "stream",
          "name": "stdout",
          "text": [
            "1\n",
            "2\n",
            "3\n",
            "4\n",
            "5\n",
            "6\n",
            "7\n",
            "8\n",
            "9\n",
            "10\n",
            "11\n",
            "12\n",
            "13\n",
            "14\n",
            "15\n",
            "16\n",
            "17\n",
            "18\n",
            "19\n",
            "20\n",
            "1\n",
            "3\n",
            "5\n",
            "7\n",
            "9\n",
            "11\n",
            "13\n",
            "15\n",
            "17\n",
            "19\n",
            "3\n",
            "6\n",
            "9\n",
            "12\n",
            "15\n",
            "18\n",
            "21\n",
            "24\n",
            "27\n",
            "1\n",
            "8\n",
            "27\n",
            "64\n",
            "125\n",
            "216\n",
            "343\n",
            "512\n",
            "729\n",
            "1000\n",
            "1\n",
            "8\n",
            "27\n",
            "64\n",
            "125\n",
            "216\n",
            "343\n",
            "512\n",
            "729\n",
            "1000\n",
            "The first three items are [1, 8, 27]\n",
            "The last three items are [1, 8, 27, 64, 125, 216, 343]\n",
            "The first middle items are [27, 64]\n"
          ]
        }
      ]
    },
    {
      "cell_type": "code",
      "source": [
        "players = ['charles', 'martina', 'michael', 'florence', 'eli']\n",
        "print(players[0:3])#slice from the 0-3(exclusive)\n",
        "print(players[1:4])#slice from the 1-4(exclusive)\n",
        "print(players[:4])#slice from the 0-4(exclusive)\n",
        "print(players[2:])#slice from the 2- 5/end of list(exclusive)\n",
        "print(players[-3:])#slice from the -3-/end of list(exclusive)\n"
      ],
      "metadata": {
        "colab": {
          "base_uri": "https://localhost:8080/"
        },
        "id": "A-KTogqGtPMU",
        "outputId": "854bf679-b753-464c-e8c7-cb88b4652c11"
      },
      "execution_count": null,
      "outputs": [
        {
          "output_type": "stream",
          "name": "stdout",
          "text": [
            "['charles', 'martina', 'michael']\n",
            "['martina', 'michael', 'florence']\n",
            "['charles', 'martina', 'michael', 'florence']\n",
            "['michael', 'florence', 'eli']\n",
            "['michael', 'florence', 'eli']\n"
          ]
        }
      ]
    },
    {
      "cell_type": "code",
      "source": [
        "print(\"Here are the first three players on my team:\")\n",
        "for player in players[:3]:#slice from the 0-3(exclusive) and loop through slice\n",
        " print(player.title())"
      ],
      "metadata": {
        "colab": {
          "base_uri": "https://localhost:8080/"
        },
        "id": "ZyUsYT_HtPPH",
        "outputId": "deba950a-4229-4b56-82b4-7c4069398cf3"
      },
      "execution_count": null,
      "outputs": [
        {
          "output_type": "stream",
          "name": "stdout",
          "text": [
            "Here are the first three players on my team:\n",
            "Charles\n",
            "Martina\n",
            "Michael\n"
          ]
        }
      ]
    },
    {
      "cell_type": "code",
      "source": [
        "my_foods = ['pizza', 'falafel', 'carrot cake']\n",
        "friend_foods = my_foods[:]#copy my_foods list\n",
        "print(\"My favorite foods are:\")\n",
        "print(my_foods)\n",
        "print(\"\\nMy friend's favorite foods are:\")\n",
        "print(friend_foods)"
      ],
      "metadata": {
        "colab": {
          "base_uri": "https://localhost:8080/"
        },
        "id": "7M4Sj3DKzuoY",
        "outputId": "a36e4443-2d51-49b1-a8cc-034e6337e5a1"
      },
      "execution_count": null,
      "outputs": [
        {
          "output_type": "stream",
          "name": "stdout",
          "text": [
            "My favorite foods are:\n",
            "['pizza', 'falafel', 'carrot cake']\n",
            "\n",
            "My friend's favorite foods are:\n",
            "['pizza', 'falafel', 'carrot cake']\n"
          ]
        }
      ]
    },
    {
      "cell_type": "code",
      "source": [
        "#this make both variables point to the same list so any changes done on either variable are reflected by both\n",
        "#friend_foods = my_foods"
      ],
      "metadata": {
        "id": "Z3vBDYdU0J_t"
      },
      "execution_count": null,
      "outputs": []
    },
    {
      "cell_type": "code",
      "source": [
        "dimensions = (200, 50)#tuple with two values\n",
        "print(dimensions[0])\n",
        "print(dimensions[1])\n",
        "\n"
      ],
      "metadata": {
        "colab": {
          "base_uri": "https://localhost:8080/"
        },
        "id": "Qc2XNAtO0qH4",
        "outputId": "febb711c-e446-4e60-f0d2-c62acf287e47"
      },
      "execution_count": null,
      "outputs": [
        {
          "output_type": "stream",
          "name": "stdout",
          "text": [
            "200\n",
            "50\n"
          ]
        }
      ]
    },
    {
      "cell_type": "code",
      "source": [
        "dimensions[0] = 250 #tuples are immutable"
      ],
      "metadata": {
        "colab": {
          "base_uri": "https://localhost:8080/",
          "height": 175
        },
        "id": "rjtKpzEy03SC",
        "outputId": "9fe48e7d-6d5e-4652-f64c-fe503d2509ee"
      },
      "execution_count": 33,
      "outputs": [
        {
          "output_type": "error",
          "ename": "TypeError",
          "evalue": "ignored",
          "traceback": [
            "\u001b[0;31m---------------------------------------------------------------------------\u001b[0m",
            "\u001b[0;31mTypeError\u001b[0m                                 Traceback (most recent call last)",
            "\u001b[0;32m<ipython-input-33-3c1e252a3314>\u001b[0m in \u001b[0;36m<cell line: 1>\u001b[0;34m()\u001b[0m\n\u001b[0;32m----> 1\u001b[0;31m \u001b[0mdimensions\u001b[0m\u001b[0;34m[\u001b[0m\u001b[0;36m0\u001b[0m\u001b[0;34m]\u001b[0m \u001b[0;34m=\u001b[0m \u001b[0;36m250\u001b[0m \u001b[0;31m#tuples are immutable\u001b[0m\u001b[0;34m\u001b[0m\u001b[0;34m\u001b[0m\u001b[0m\n\u001b[0m",
            "\u001b[0;31mTypeError\u001b[0m: 'tuple' object does not support item assignment"
          ]
        }
      ]
    },
    {
      "cell_type": "code",
      "source": [
        "my_t = (3,)#if a tuple has only one value it needs a comma"
      ],
      "metadata": {
        "id": "49s7V3d-03mP"
      },
      "execution_count": null,
      "outputs": []
    },
    {
      "cell_type": "code",
      "source": [
        "for dimension in dimensions:#loop through tuple as you would a list\n",
        " print(dimension)"
      ],
      "metadata": {
        "colab": {
          "base_uri": "https://localhost:8080/"
        },
        "id": "KzcuK9B603pA",
        "outputId": "97af731a-3cba-41d5-adff-4b78a8c4ea97"
      },
      "execution_count": null,
      "outputs": [
        {
          "output_type": "stream",
          "name": "stdout",
          "text": [
            "200\n",
            "50\n"
          ]
        }
      ]
    },
    {
      "cell_type": "code",
      "source": [
        "print(\"Original dimensions:\")\n",
        "for dimension in dimensions:\n",
        " print(dimension)\n",
        "dimensions = (400, 100)#must reassign tuple values since it cannot be changed. This is a whole different tuple\n",
        "print(\"\\nModified dimensions:\")\n",
        "for dimension in dimensions:\n",
        " print(dimension)"
      ],
      "metadata": {
        "colab": {
          "base_uri": "https://localhost:8080/"
        },
        "id": "6BJNbNjT03s0",
        "outputId": "a9075086-08b0-49b8-84f9-cc3b64909516"
      },
      "execution_count": null,
      "outputs": [
        {
          "output_type": "stream",
          "name": "stdout",
          "text": [
            "Original dimensions:\n",
            "200\n",
            "50\n",
            "\n",
            "Modified dimensions:\n",
            "400\n",
            "100\n"
          ]
        }
      ]
    },
    {
      "cell_type": "markdown",
      "source": [
        "4-13. Buffet: A buffet-style restaurant offers only five basic foods. Think of\n",
        "five simple foods, and store them in a tuple.\n",
        "Use a for loop to print each food the restaurant offers.\n",
        "Try to modify one of the items, and make sure that Python rejects the\n",
        "change.\n",
        "The restaurant changes its menu, replacing two of the items with different\n",
        "foods. Add a line that rewrites the tuple, and then use a for loop to print\n",
        "each of the items on the revised menu."
      ],
      "metadata": {
        "id": "my1ZqD9P1gjg"
      }
    },
    {
      "cell_type": "code",
      "source": [
        "#4-13\n",
        "restaurant_foods = (\"burger\", \"cake\", \"rice\", \"chicken\", \"salad\")\n",
        "\n",
        "for i in restaurant_foods:\n",
        "  print(i)\n",
        "\n",
        "#restaurant_foods[0]= \"tomato\"\n",
        "\n",
        "restaurant_foods = (\"burger\", \"cake\", \"rice\", \"beef\", \"tomato\")\n"
      ],
      "metadata": {
        "colab": {
          "base_uri": "https://localhost:8080/"
        },
        "id": "AGK000Rf03vN",
        "outputId": "bc1d748a-0578-4e48-c79a-8a7a81a7afd0"
      },
      "execution_count": null,
      "outputs": [
        {
          "output_type": "stream",
          "name": "stdout",
          "text": [
            "burger\n",
            "cake\n",
            "rice\n",
            "chicken\n",
            "salad\n"
          ]
        }
      ]
    },
    {
      "cell_type": "code",
      "source": [
        "def factorial(n):\n",
        "  fact_list = [x for x in range(1,n+1)]\n",
        "  product = 1\n",
        "  for x in fact_list:\n",
        "    product *= x\n",
        "  return product\n",
        "print(factorial(5))"
      ],
      "metadata": {
        "colab": {
          "base_uri": "https://localhost:8080/"
        },
        "id": "Ebp5nT3AzK9-",
        "outputId": "35c5454b-ee85-4b03-917a-e75b03565066"
      },
      "execution_count": null,
      "outputs": [
        {
          "output_type": "stream",
          "name": "stdout",
          "text": [
            "120\n"
          ]
        }
      ]
    }
  ]
}